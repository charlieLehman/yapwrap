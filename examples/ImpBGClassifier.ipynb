{
 "cells": [
  {
   "cell_type": "code",
   "execution_count": 1,
   "metadata": {
    "collapsed": true
   },
   "outputs": [
    {
     "name": "stdout",
     "output_type": "stream",
     "text": [
      "Created run/TinyImpBG50_CIFAR10/experiment_0000\n",
      "Files already downloaded and verified\n",
      "Files already downloaded and verified\n"
     ]
    },
    {
     "name": "stderr",
     "output_type": "stream",
     "text": [
      "  0%|          | 0/391 [00:00<?, ?it/s]/home/charlie/.virtualenvs/yapwrap/lib/python3.7/site-packages/yapwrap/experiments/impbg_classification.py:37: UserWarning: To copy construct from a tensor, it is recommended to use sourceTensor.clone().detach() or sourceTensor.clone().detach().requires_grad_(True), rather than torch.tensor(sourceTensor).\n",
      "  _attn = torch.tensor(attn.detach(), requires_grad=False)\n",
      "Epoch 0 - train - Loss: 2.343: 100%|██████████| 391/391 [01:40<00:00,  4.38it/s]\n",
      "Epoch 1 - validation - Loss: 2.379: 100%|██████████| 100/100 [00:06<00:00, 16.40it/s]\n",
      "  0%|          | 0/391 [00:00<?, ?it/s]"
     ]
    },
    {
     "name": "stdout",
     "output_type": "stream",
     "text": [
      "======Saved Best Accuracy Checkpoint======\n"
     ]
    },
    {
     "name": "stderr",
     "output_type": "stream",
     "text": [
      "Epoch 1 - train - Loss: 2.012: 100%|██████████| 391/391 [01:41<00:00,  4.35it/s]\n",
      "Epoch 2 - validation - Loss: 2.033: 100%|██████████| 100/100 [00:06<00:00, 16.10it/s]\n",
      "  0%|          | 0/391 [00:00<?, ?it/s]"
     ]
    },
    {
     "name": "stdout",
     "output_type": "stream",
     "text": [
      "======Saved Best Accuracy Checkpoint======\n"
     ]
    },
    {
     "name": "stderr",
     "output_type": "stream",
     "text": [
      "Epoch 2 - train - Loss: 1.934: 100%|██████████| 391/391 [01:41<00:00,  4.24it/s]\n",
      "Epoch 3 - validation - Loss: 1.816: 100%|██████████| 100/100 [00:06<00:00, 16.59it/s]\n",
      "  0%|          | 0/391 [00:00<?, ?it/s]"
     ]
    },
    {
     "name": "stdout",
     "output_type": "stream",
     "text": [
      "======Saved Best Accuracy Checkpoint======\n"
     ]
    },
    {
     "name": "stderr",
     "output_type": "stream",
     "text": [
      "Epoch 3 - train - Loss: 1.390: 100%|██████████| 391/391 [01:40<00:00,  4.34it/s]\n",
      "Epoch 4 - validation - Loss: 1.709: 100%|██████████| 100/100 [00:05<00:00, 16.74it/s]\n",
      "  0%|          | 0/391 [00:00<?, ?it/s]"
     ]
    },
    {
     "name": "stdout",
     "output_type": "stream",
     "text": [
      "======Saved Best Accuracy Checkpoint======\n"
     ]
    },
    {
     "name": "stderr",
     "output_type": "stream",
     "text": [
      "Epoch 4 - train - Loss: 1.431: 100%|██████████| 391/391 [01:40<00:00,  4.38it/s]\n",
      "Epoch 5 - validation - Loss: 1.236: 100%|██████████| 100/100 [00:06<00:00, 16.51it/s]\n",
      "  0%|          | 0/391 [00:00<?, ?it/s]"
     ]
    },
    {
     "name": "stdout",
     "output_type": "stream",
     "text": [
      "======Saved Best Accuracy Checkpoint======\n"
     ]
    },
    {
     "name": "stderr",
     "output_type": "stream",
     "text": [
      "Epoch 5 - train - Loss: 1.101: 100%|██████████| 391/391 [01:40<00:00,  4.40it/s]\n",
      "Epoch 6 - validation - Loss: 1.394: 100%|██████████| 100/100 [00:06<00:00, 16.39it/s]\n",
      "  0%|          | 0/391 [00:00<?, ?it/s]"
     ]
    },
    {
     "name": "stdout",
     "output_type": "stream",
     "text": [
      "======Saved Best Accuracy Checkpoint======\n"
     ]
    },
    {
     "name": "stderr",
     "output_type": "stream",
     "text": [
      "Epoch 6 - train - Loss: 1.080: 100%|██████████| 391/391 [01:40<00:00,  4.40it/s]\n",
      "Epoch 7 - validation - Loss: 1.316: 100%|██████████| 100/100 [00:06<00:00, 16.47it/s]\n",
      "  0%|          | 0/391 [00:00<?, ?it/s]"
     ]
    },
    {
     "name": "stdout",
     "output_type": "stream",
     "text": [
      "======Saved Best Accuracy Checkpoint======\n"
     ]
    },
    {
     "name": "stderr",
     "output_type": "stream",
     "text": [
      "Epoch 7 - train - Loss: 0.950: 100%|██████████| 391/391 [01:40<00:00,  4.41it/s]\n",
      "Epoch 8 - validation - Loss: 1.160: 100%|██████████| 100/100 [00:05<00:00, 16.87it/s]\n",
      "  0%|          | 0/391 [00:00<?, ?it/s]"
     ]
    },
    {
     "name": "stdout",
     "output_type": "stream",
     "text": [
      "======Saved Best Accuracy Checkpoint======\n"
     ]
    },
    {
     "name": "stderr",
     "output_type": "stream",
     "text": [
      "Epoch 8 - train - Loss: 0.860: 100%|██████████| 391/391 [01:39<00:00,  4.41it/s]\n",
      "Epoch 9 - validation - Loss: 0.871: 100%|██████████| 100/100 [00:05<00:00, 16.91it/s]\n",
      "  0%|          | 0/391 [00:00<?, ?it/s]"
     ]
    },
    {
     "name": "stdout",
     "output_type": "stream",
     "text": [
      "======Saved Best Accuracy Checkpoint======\n"
     ]
    },
    {
     "name": "stderr",
     "output_type": "stream",
     "text": [
      "Epoch 9 - train - Loss: 0.882: 100%|██████████| 391/391 [01:39<00:00,  4.41it/s]\n",
      "Epoch 10 - validation - Loss: 1.012: 100%|██████████| 100/100 [00:05<00:00, 16.97it/s]\n",
      "Epoch 10 - train - Loss: 0.930: 100%|██████████| 391/391 [01:39<00:00,  4.42it/s]\n",
      "Epoch 11 - validation - Loss: 1.038: 100%|██████████| 100/100 [00:05<00:00, 16.98it/s]\n",
      "Epoch 11 - train - Loss: 0.996: 100%|██████████| 391/391 [01:39<00:00,  4.35it/s]\n",
      "Epoch 12 - validation - Loss: 0.710: 100%|██████████| 100/100 [00:05<00:00, 16.95it/s]\n",
      "  0%|          | 0/391 [00:00<?, ?it/s]"
     ]
    },
    {
     "name": "stdout",
     "output_type": "stream",
     "text": [
      "======Saved Best Accuracy Checkpoint======\n"
     ]
    },
    {
     "name": "stderr",
     "output_type": "stream",
     "text": [
      "Epoch 12 - train - Loss: 0.803: 100%|██████████| 391/391 [01:39<00:00,  4.42it/s]\n",
      "Epoch 13 - validation - Loss: 0.838: 100%|██████████| 100/100 [00:05<00:00, 16.92it/s]\n",
      "  0%|          | 0/391 [00:00<?, ?it/s]"
     ]
    },
    {
     "name": "stdout",
     "output_type": "stream",
     "text": [
      "======Saved Best Accuracy Checkpoint======\n"
     ]
    },
    {
     "name": "stderr",
     "output_type": "stream",
     "text": [
      "Epoch 13 - train - Loss: 0.864: 100%|██████████| 391/391 [01:39<00:00,  4.42it/s]\n",
      "Epoch 14 - validation - Loss: 0.834: 100%|██████████| 100/100 [00:06<00:00, 16.66it/s]\n",
      "Epoch 14 - train - Loss: 0.939: 100%|██████████| 391/391 [01:40<00:00,  4.22it/s]\n",
      "Epoch 15 - validation - Loss: 0.742: 100%|██████████| 100/100 [00:06<00:00, 16.64it/s]\n",
      "  0%|          | 0/391 [00:00<?, ?it/s]"
     ]
    },
    {
     "name": "stdout",
     "output_type": "stream",
     "text": [
      "======Saved Best Accuracy Checkpoint======\n"
     ]
    },
    {
     "name": "stderr",
     "output_type": "stream",
     "text": [
      "Epoch 15 - train - Loss: 0.740: 100%|██████████| 391/391 [01:40<00:00,  4.38it/s]\n",
      "Epoch 16 - validation - Loss: 0.754: 100%|██████████| 100/100 [00:06<00:00, 16.04it/s]\n",
      "  0%|          | 0/391 [00:00<?, ?it/s]"
     ]
    },
    {
     "name": "stdout",
     "output_type": "stream",
     "text": [
      "======Saved Best Accuracy Checkpoint======\n"
     ]
    },
    {
     "name": "stderr",
     "output_type": "stream",
     "text": [
      "Epoch 16 - train - Loss: 0.682: 100%|██████████| 391/391 [01:39<00:00,  4.42it/s]\n",
      "Epoch 17 - validation - Loss: 0.704: 100%|██████████| 100/100 [00:05<00:00, 16.77it/s]\n",
      "Epoch 17 - train - Loss: 0.745: 100%|██████████| 391/391 [01:40<00:00,  4.27it/s]\n",
      "Epoch 18 - validation - Loss: 0.933: 100%|██████████| 100/100 [00:06<00:00, 16.48it/s]\n",
      "  0%|          | 0/391 [00:00<?, ?it/s]"
     ]
    },
    {
     "name": "stdout",
     "output_type": "stream",
     "text": [
      "======Saved Best Accuracy Checkpoint======\n"
     ]
    },
    {
     "name": "stderr",
     "output_type": "stream",
     "text": [
      "Epoch 18 - train - Loss: 0.764: 100%|██████████| 391/391 [01:40<00:00,  4.38it/s]\n",
      "Epoch 19 - validation - Loss: 0.721: 100%|██████████| 100/100 [00:05<00:00, 16.92it/s]\n",
      "  0%|          | 0/391 [00:00<?, ?it/s]"
     ]
    },
    {
     "name": "stdout",
     "output_type": "stream",
     "text": [
      "======Saved Best Accuracy Checkpoint======\n"
     ]
    },
    {
     "name": "stderr",
     "output_type": "stream",
     "text": [
      "Epoch 19 - train - Loss: 0.585: 100%|██████████| 391/391 [01:40<00:00,  4.34it/s]\n",
      "Epoch 20 - validation - Loss: 0.795: 100%|██████████| 100/100 [00:06<00:00, 16.36it/s]\n",
      "Epoch 20 - train - Loss: 0.505: 100%|██████████| 391/391 [01:40<00:00,  4.42it/s]\n",
      "Epoch 21 - validation - Loss: 0.760: 100%|██████████| 100/100 [00:05<00:00, 16.84it/s]\n",
      "Epoch 21 - train - Loss: 0.656: 100%|██████████| 391/391 [01:41<00:00,  4.34it/s]\n",
      "Epoch 22 - validation - Loss: 0.866: 100%|██████████| 100/100 [00:06<00:00, 16.59it/s]\n",
      "Epoch 22 - train - Loss: 0.815: 100%|██████████| 391/391 [01:41<00:00,  4.41it/s]\n",
      "Epoch 23 - validation - Loss: 0.892: 100%|██████████| 100/100 [00:06<00:00, 16.47it/s]\n",
      "Epoch 23 - train - Loss: 0.559: 100%|██████████| 391/391 [01:40<00:00,  4.39it/s]\n",
      "Epoch 24 - validation - Loss: 0.767: 100%|██████████| 100/100 [00:06<00:00, 16.63it/s]\n",
      "Epoch 24 - train - Loss: 0.535: 100%|██████████| 391/391 [01:41<00:00,  4.34it/s]\n",
      "Epoch 25 - validation - Loss: 1.076: 100%|██████████| 100/100 [00:05<00:00, 17.01it/s]\n",
      "Epoch 25 - train - Loss: 0.669: 100%|██████████| 391/391 [01:39<00:00,  4.42it/s]\n",
      "Epoch 26 - validation - Loss: 0.820: 100%|██████████| 100/100 [00:05<00:00, 16.91it/s]\n",
      "Epoch 26 - train - Loss: 0.641: 100%|██████████| 391/391 [01:39<00:00,  4.43it/s]\n",
      "Epoch 27 - validation - Loss: 0.851: 100%|██████████| 100/100 [00:05<00:00, 16.89it/s]\n",
      "Epoch 27 - train - Loss: 0.823: 100%|██████████| 391/391 [01:40<00:00,  4.40it/s]\n",
      "Epoch 28 - validation - Loss: 0.656: 100%|██████████| 100/100 [00:05<00:00, 16.85it/s]\n",
      "Epoch 28 - train - Loss: 0.666: 100%|██████████| 391/391 [01:39<00:00,  4.43it/s]\n",
      "Epoch 29 - validation - Loss: 0.916: 100%|██████████| 100/100 [00:05<00:00, 16.90it/s]\n",
      "Epoch 29 - train - Loss: 0.665: 100%|██████████| 391/391 [01:39<00:00,  4.43it/s]\n",
      "Epoch 30 - validation - Loss: 0.769: 100%|██████████| 100/100 [00:05<00:00, 16.75it/s]\n",
      "Epoch 30 - train - Loss: 0.793: 100%|██████████| 391/391 [01:41<00:00,  4.28it/s]\n",
      "Epoch 31 - validation - Loss: 0.694: 100%|██████████| 100/100 [00:06<00:00, 16.28it/s]\n",
      "Epoch 31 - train - Loss: 0.671: 100%|██████████| 391/391 [01:42<00:00,  4.30it/s]\n",
      "Epoch 32 - validation - Loss: 0.751: 100%|██████████| 100/100 [00:06<00:00, 16.38it/s]\n",
      "Epoch 32 - train - Loss: 0.578: 100%|██████████| 391/391 [01:42<00:00,  4.31it/s]\n",
      "Epoch 33 - validation - Loss: 0.725: 100%|██████████| 100/100 [00:06<00:00, 16.35it/s]\n",
      "Epoch 33 - train - Loss: 0.857: 100%|██████████| 391/391 [01:42<00:00,  4.27it/s]\n",
      "Epoch 34 - validation - Loss: 0.871: 100%|██████████| 100/100 [00:06<00:00, 16.32it/s]\n",
      "Epoch 34 - train - Loss: 0.640: 100%|██████████| 391/391 [01:42<00:00,  4.27it/s]\n",
      "Epoch 35 - validation - Loss: 0.659: 100%|██████████| 100/100 [00:06<00:00, 16.32it/s]\n",
      "  0%|          | 0/391 [00:00<?, ?it/s]"
     ]
    },
    {
     "name": "stdout",
     "output_type": "stream",
     "text": [
      "======Saved Best Accuracy Checkpoint======\n"
     ]
    },
    {
     "name": "stderr",
     "output_type": "stream",
     "text": [
      "Epoch 35 - train - Loss: 0.762: 100%|██████████| 391/391 [01:42<00:00,  4.25it/s]\n",
      "Epoch 36 - validation - Loss: 0.705: 100%|██████████| 100/100 [00:06<00:00, 16.49it/s]\n",
      "  0%|          | 0/391 [00:00<?, ?it/s]"
     ]
    },
    {
     "name": "stdout",
     "output_type": "stream",
     "text": [
      "======Saved Best Accuracy Checkpoint======\n"
     ]
    },
    {
     "name": "stderr",
     "output_type": "stream",
     "text": [
      "Epoch 36 - train - Loss: 0.648: 100%|██████████| 391/391 [01:42<00:00,  4.26it/s]\n",
      "Epoch 37 - validation - Loss: 0.810: 100%|██████████| 100/100 [00:06<00:00, 16.42it/s]\n",
      "  0%|          | 0/391 [00:00<?, ?it/s]"
     ]
    },
    {
     "name": "stdout",
     "output_type": "stream",
     "text": [
      "======Saved Best Accuracy Checkpoint======\n"
     ]
    },
    {
     "name": "stderr",
     "output_type": "stream",
     "text": [
      "Epoch 37 - train - Loss: 0.505: 100%|██████████| 391/391 [01:42<00:00,  4.24it/s]\n",
      "Epoch 38 - validation - Loss: 0.826: 100%|██████████| 100/100 [00:06<00:00, 16.22it/s]\n",
      "Epoch 38 - train - Loss: 0.804: 100%|██████████| 391/391 [01:42<00:00,  4.28it/s]\n",
      "Epoch 39 - validation - Loss: 0.754: 100%|██████████| 100/100 [00:06<00:00, 16.30it/s]\n",
      "Epoch 39 - train - Loss: 0.683: 100%|██████████| 391/391 [01:42<00:00,  4.29it/s]\n",
      "Epoch 40 - validation - Loss: 0.696: 100%|██████████| 100/100 [00:06<00:00, 16.43it/s]\n",
      "  0%|          | 0/391 [00:00<?, ?it/s]"
     ]
    },
    {
     "name": "stdout",
     "output_type": "stream",
     "text": [
      "======Saved Best Accuracy Checkpoint======\n"
     ]
    },
    {
     "name": "stderr",
     "output_type": "stream",
     "text": [
      "Epoch 40 - train - Loss: 0.671: 100%|██████████| 391/391 [01:42<00:00,  4.27it/s]\n",
      "Epoch 41 - validation - Loss: 0.767: 100%|██████████| 100/100 [00:06<00:00, 16.34it/s]\n",
      "Epoch 41 - train - Loss: 0.534: 100%|██████████| 391/391 [01:42<00:00,  4.26it/s]\n",
      "Epoch 42 - validation - Loss: 0.681: 100%|██████████| 100/100 [00:06<00:00, 16.37it/s]\n",
      "Epoch 42 - train - Loss: 0.538: 100%|██████████| 391/391 [01:42<00:00,  4.28it/s]\n",
      "Epoch 43 - validation - Loss: 0.791: 100%|██████████| 100/100 [00:06<00:00, 16.32it/s]\n",
      "Epoch 43 - train - Loss: 0.657: 100%|██████████| 391/391 [01:42<00:00,  4.31it/s]\n",
      "Epoch 44 - validation - Loss: 0.627: 100%|██████████| 100/100 [00:06<00:00, 16.34it/s]\n",
      "  0%|          | 0/391 [00:00<?, ?it/s]"
     ]
    },
    {
     "name": "stdout",
     "output_type": "stream",
     "text": [
      "======Saved Best Accuracy Checkpoint======\n"
     ]
    },
    {
     "name": "stderr",
     "output_type": "stream",
     "text": [
      "Epoch 44 - train - Loss: 0.668: 100%|██████████| 391/391 [01:42<00:00,  4.26it/s]\n",
      "Epoch 45 - validation - Loss: 0.826: 100%|██████████| 100/100 [00:06<00:00, 16.42it/s]\n",
      "  0%|          | 0/391 [00:00<?, ?it/s]"
     ]
    },
    {
     "name": "stdout",
     "output_type": "stream",
     "text": [
      "======Saved Best Accuracy Checkpoint======\n"
     ]
    },
    {
     "name": "stderr",
     "output_type": "stream",
     "text": [
      "Epoch 45 - train - Loss: 0.435: 100%|██████████| 391/391 [01:42<00:00,  4.28it/s]\n",
      "Epoch 46 - validation - Loss: 0.680: 100%|██████████| 100/100 [00:06<00:00, 16.43it/s]\n",
      "Epoch 46 - train - Loss: 0.626: 100%|██████████| 391/391 [01:42<00:00,  4.30it/s]\n",
      "Epoch 47 - validation - Loss: 0.627: 100%|██████████| 100/100 [00:06<00:00, 16.38it/s]\n",
      "Epoch 47 - train - Loss: 0.647: 100%|██████████| 391/391 [01:42<00:00,  4.26it/s]\n",
      "Epoch 48 - validation - Loss: 0.811: 100%|██████████| 100/100 [00:06<00:00, 16.38it/s]\n",
      "Epoch 48 - train - Loss: 0.751: 100%|██████████| 391/391 [01:42<00:00,  4.26it/s]\n",
      "Epoch 49 - validation - Loss: 0.686: 100%|██████████| 100/100 [00:06<00:00, 16.44it/s]\n",
      "Epoch 49 - train - Loss: 0.590: 100%|██████████| 391/391 [01:42<00:00,  4.26it/s]\n",
      "Epoch 50 - validation - Loss: 0.780: 100%|██████████| 100/100 [00:06<00:00, 16.46it/s]\n",
      "Epoch 50 - train - Loss: 0.531: 100%|██████████| 391/391 [01:42<00:00,  4.22it/s]\n",
      "Epoch 51 - validation - Loss: 0.659: 100%|██████████| 100/100 [00:06<00:00, 16.46it/s]\n",
      "Epoch 51 - train - Loss: 0.526: 100%|██████████| 391/391 [01:42<00:00,  4.27it/s]\n",
      "Epoch 52 - validation - Loss: 0.618: 100%|██████████| 100/100 [00:06<00:00, 16.47it/s]\n",
      "Epoch 52 - train - Loss: 0.504: 100%|██████████| 391/391 [01:42<00:00,  4.29it/s]\n",
      "Epoch 53 - validation - Loss: 0.781: 100%|██████████| 100/100 [00:06<00:00, 16.20it/s]\n",
      "Epoch 53 - train - Loss: 0.623: 100%|██████████| 391/391 [01:42<00:00,  4.16it/s]\n",
      "Epoch 54 - validation - Loss: 0.863: 100%|██████████| 100/100 [00:06<00:00, 16.37it/s]\n",
      "Epoch 54 - train - Loss: 0.441: 100%|██████████| 391/391 [01:42<00:00,  4.24it/s]\n",
      "Epoch 55 - validation - Loss: 0.631: 100%|██████████| 100/100 [00:06<00:00, 16.46it/s]\n",
      "Epoch 55 - train - Loss: 0.508: 100%|██████████| 391/391 [01:42<00:00,  4.24it/s]\n",
      "Epoch 56 - validation - Loss: 0.710: 100%|██████████| 100/100 [00:06<00:00, 16.50it/s]\n",
      "Epoch 56 - train - Loss: 0.572: 100%|██████████| 391/391 [01:42<00:00,  4.29it/s]\n",
      "Epoch 57 - validation - Loss: 0.634: 100%|██████████| 100/100 [00:06<00:00, 16.26it/s]\n",
      "Epoch 57 - train - Loss: 0.608: 100%|██████████| 391/391 [01:42<00:00,  4.27it/s]\n",
      "Epoch 58 - validation - Loss: 0.686: 100%|██████████| 100/100 [00:06<00:00, 16.44it/s]\n",
      "  0%|          | 0/391 [00:00<?, ?it/s]"
     ]
    },
    {
     "name": "stdout",
     "output_type": "stream",
     "text": [
      "======Saved Best Accuracy Checkpoint======\n"
     ]
    },
    {
     "name": "stderr",
     "output_type": "stream",
     "text": [
      "Epoch 58 - train - Loss: 0.513: 100%|██████████| 391/391 [01:42<00:00,  4.28it/s]\n",
      "Epoch 59 - validation - Loss: 0.572: 100%|██████████| 100/100 [00:06<00:00, 16.54it/s]\n",
      "Epoch 59 - train - Loss: 0.474: 100%|██████████| 391/391 [01:42<00:00,  4.31it/s]\n",
      "Epoch 60 - validation - Loss: 0.661: 100%|██████████| 100/100 [00:06<00:00, 16.44it/s]\n",
      "Epoch 60 - train - Loss: 0.433: 100%|██████████| 391/391 [01:42<00:00,  4.27it/s]\n",
      "Epoch 61 - validation - Loss: 0.555: 100%|██████████| 100/100 [00:06<00:00, 16.53it/s]\n",
      "  0%|          | 0/391 [00:00<?, ?it/s]"
     ]
    },
    {
     "name": "stdout",
     "output_type": "stream",
     "text": [
      "======Saved Best Accuracy Checkpoint======\n"
     ]
    },
    {
     "name": "stderr",
     "output_type": "stream",
     "text": [
      "Epoch 61 - train - Loss: 0.523: 100%|██████████| 391/391 [01:42<00:00,  4.23it/s]\n",
      "Epoch 62 - validation - Loss: 0.586: 100%|██████████| 100/100 [00:06<00:00, 16.49it/s]\n",
      "Epoch 62 - train - Loss: 0.476: 100%|██████████| 391/391 [01:42<00:00,  4.28it/s]\n",
      "Epoch 63 - validation - Loss: 0.545: 100%|██████████| 100/100 [00:06<00:00, 16.44it/s]\n",
      "  0%|          | 0/391 [00:00<?, ?it/s]"
     ]
    },
    {
     "name": "stdout",
     "output_type": "stream",
     "text": [
      "======Saved Best Accuracy Checkpoint======\n"
     ]
    },
    {
     "name": "stderr",
     "output_type": "stream",
     "text": [
      "Epoch 63 - train - Loss: 0.493: 100%|██████████| 391/391 [01:42<00:00,  4.25it/s]\n",
      "Epoch 64 - validation - Loss: 0.698: 100%|██████████| 100/100 [00:06<00:00, 16.52it/s]\n",
      "Epoch 64 - train - Loss: 0.557: 100%|██████████| 391/391 [01:42<00:00,  4.27it/s]\n",
      "Epoch 65 - validation - Loss: 0.562: 100%|██████████| 100/100 [00:06<00:00, 16.45it/s]\n",
      "  0%|          | 0/391 [00:00<?, ?it/s]"
     ]
    },
    {
     "name": "stdout",
     "output_type": "stream",
     "text": [
      "======Saved Best Accuracy Checkpoint======\n"
     ]
    },
    {
     "name": "stderr",
     "output_type": "stream",
     "text": [
      "Epoch 65 - train - Loss: 0.534: 100%|██████████| 391/391 [01:42<00:00,  4.28it/s]\n",
      "Epoch 66 - validation - Loss: 0.594: 100%|██████████| 100/100 [00:06<00:00, 16.56it/s]\n",
      "Epoch 66 - train - Loss: 0.358: 100%|██████████| 391/391 [01:42<00:00,  4.30it/s]\n",
      "Epoch 67 - validation - Loss: 0.549: 100%|██████████| 100/100 [00:06<00:00, 16.38it/s]\n",
      "Epoch 67 - train - Loss: 0.523: 100%|██████████| 391/391 [01:42<00:00,  4.30it/s]\n",
      "Epoch 68 - validation - Loss: 0.636: 100%|██████████| 100/100 [00:06<00:00, 16.27it/s]\n",
      "  0%|          | 0/391 [00:00<?, ?it/s]"
     ]
    },
    {
     "name": "stdout",
     "output_type": "stream",
     "text": [
      "======Saved Best Accuracy Checkpoint======\n"
     ]
    },
    {
     "name": "stderr",
     "output_type": "stream",
     "text": [
      "Epoch 68 - train - Loss: 0.395: 100%|██████████| 391/391 [01:42<00:00,  4.31it/s]\n",
      "Epoch 69 - validation - Loss: 0.476: 100%|██████████| 100/100 [00:06<00:00, 16.46it/s]\n",
      "  0%|          | 0/391 [00:00<?, ?it/s]"
     ]
    },
    {
     "name": "stdout",
     "output_type": "stream",
     "text": [
      "======Saved Best Accuracy Checkpoint======\n"
     ]
    },
    {
     "name": "stderr",
     "output_type": "stream",
     "text": [
      "Epoch 69 - train - Loss: 0.409: 100%|██████████| 391/391 [01:42<00:00,  4.30it/s]\n",
      "Epoch 70 - validation - Loss: 0.518: 100%|██████████| 100/100 [00:06<00:00, 16.51it/s]\n",
      "Epoch 70 - train - Loss: 0.582: 100%|██████████| 391/391 [01:42<00:00,  4.27it/s]\n",
      "Epoch 71 - validation - Loss: 0.633: 100%|██████████| 100/100 [00:06<00:00, 16.45it/s]\n",
      "Epoch 71 - train - Loss: 0.409: 100%|██████████| 391/391 [01:42<00:00,  4.27it/s]\n",
      "Epoch 72 - validation - Loss: 0.456: 100%|██████████| 100/100 [00:06<00:00, 16.61it/s]\n",
      "Epoch 72 - train - Loss: 0.395: 100%|██████████| 391/391 [01:42<00:00,  4.29it/s]\n",
      "Epoch 73 - validation - Loss: 0.567: 100%|██████████| 100/100 [00:06<00:00, 16.46it/s]\n",
      "  0%|          | 0/391 [00:00<?, ?it/s]"
     ]
    },
    {
     "name": "stdout",
     "output_type": "stream",
     "text": [
      "======Saved Best Accuracy Checkpoint======\n"
     ]
    },
    {
     "name": "stderr",
     "output_type": "stream",
     "text": [
      "Epoch 73 - train - Loss: 0.449: 100%|██████████| 391/391 [01:42<00:00,  4.28it/s]\n",
      "Epoch 74 - validation - Loss: 0.586: 100%|██████████| 100/100 [00:06<00:00, 16.54it/s]\n",
      "Epoch 74 - train - Loss: 0.366: 100%|██████████| 391/391 [01:42<00:00,  4.33it/s]\n",
      "Epoch 75 - validation - Loss: 0.637: 100%|██████████| 100/100 [00:06<00:00, 16.42it/s]\n",
      "Epoch 75 - train - Loss: 0.379: 100%|██████████| 391/391 [01:42<00:00,  4.29it/s]\n",
      "Epoch 76 - validation - Loss: 0.615: 100%|██████████| 100/100 [00:06<00:00, 16.47it/s]\n",
      "Epoch 76 - train - Loss: 0.316: 100%|██████████| 391/391 [01:42<00:00,  4.28it/s]\n",
      "Epoch 77 - validation - Loss: 0.503: 100%|██████████| 100/100 [00:06<00:00, 16.47it/s]\n",
      "Epoch 77 - train - Loss: 0.338: 100%|██████████| 391/391 [01:42<00:00,  4.22it/s]\n",
      "Epoch 78 - validation - Loss: 0.536: 100%|██████████| 100/100 [00:06<00:00, 16.41it/s]\n",
      "  0%|          | 0/391 [00:00<?, ?it/s]"
     ]
    },
    {
     "name": "stdout",
     "output_type": "stream",
     "text": [
      "======Saved Best Accuracy Checkpoint======\n"
     ]
    },
    {
     "name": "stderr",
     "output_type": "stream",
     "text": [
      "Epoch 78 - train - Loss: 0.330: 100%|██████████| 391/391 [01:42<00:00,  4.26it/s]\n",
      "Epoch 79 - validation - Loss: 0.582: 100%|██████████| 100/100 [00:06<00:00, 16.51it/s]\n",
      "Epoch 79 - train - Loss: 0.338: 100%|██████████| 391/391 [01:42<00:00,  4.28it/s]\n",
      "Epoch 80 - validation - Loss: 0.595: 100%|██████████| 100/100 [00:06<00:00, 16.58it/s]\n",
      "  0%|          | 0/391 [00:00<?, ?it/s]"
     ]
    },
    {
     "name": "stdout",
     "output_type": "stream",
     "text": [
      "======Saved Best Accuracy Checkpoint======\n"
     ]
    },
    {
     "name": "stderr",
     "output_type": "stream",
     "text": [
      "Epoch 80 - train - Loss: 0.364: 100%|██████████| 391/391 [01:42<00:00,  4.29it/s]\n",
      "Epoch 81 - validation - Loss: 0.511: 100%|██████████| 100/100 [00:06<00:00, 16.59it/s]\n",
      "  0%|          | 0/391 [00:00<?, ?it/s]"
     ]
    },
    {
     "name": "stdout",
     "output_type": "stream",
     "text": [
      "======Saved Best Accuracy Checkpoint======\n"
     ]
    },
    {
     "name": "stderr",
     "output_type": "stream",
     "text": [
      "Epoch 81 - train - Loss: 0.383: 100%|██████████| 391/391 [01:42<00:00,  4.29it/s]\n",
      "Epoch 82 - validation - Loss: 0.477: 100%|██████████| 100/100 [00:06<00:00, 16.46it/s]\n",
      "  0%|          | 0/391 [00:00<?, ?it/s]"
     ]
    },
    {
     "name": "stdout",
     "output_type": "stream",
     "text": [
      "======Saved Best Accuracy Checkpoint======\n"
     ]
    },
    {
     "name": "stderr",
     "output_type": "stream",
     "text": [
      "Epoch 82 - train - Loss: 0.358: 100%|██████████| 391/391 [01:42<00:00,  4.29it/s]\n",
      "Epoch 83 - validation - Loss: 0.470: 100%|██████████| 100/100 [00:06<00:00, 16.40it/s]\n",
      "Epoch 83 - train - Loss: 0.301: 100%|██████████| 391/391 [01:42<00:00,  4.31it/s]\n",
      "Epoch 84 - validation - Loss: 0.600: 100%|██████████| 100/100 [00:05<00:00, 16.67it/s]\n",
      "Epoch 84 - train - Loss: 0.313: 100%|██████████| 391/391 [01:42<00:00,  4.24it/s]\n",
      "Epoch 85 - validation - Loss: 0.492: 100%|██████████| 100/100 [00:06<00:00, 16.62it/s]\n",
      "  0%|          | 0/391 [00:00<?, ?it/s]"
     ]
    },
    {
     "name": "stdout",
     "output_type": "stream",
     "text": [
      "======Saved Best Accuracy Checkpoint======\n"
     ]
    },
    {
     "name": "stderr",
     "output_type": "stream",
     "text": [
      "Epoch 85 - train - Loss: 0.293: 100%|██████████| 391/391 [01:42<00:00,  4.27it/s]\n",
      "Epoch 86 - validation - Loss: 0.489: 100%|██████████| 100/100 [00:06<00:00, 16.65it/s]\n",
      "  0%|          | 0/391 [00:00<?, ?it/s]"
     ]
    },
    {
     "name": "stdout",
     "output_type": "stream",
     "text": [
      "======Saved Best Accuracy Checkpoint======\n"
     ]
    },
    {
     "name": "stderr",
     "output_type": "stream",
     "text": [
      "Epoch 86 - train - Loss: 0.295: 100%|██████████| 391/391 [01:42<00:00,  4.28it/s]\n",
      "Epoch 87 - validation - Loss: 0.597: 100%|██████████| 100/100 [00:06<00:00, 16.60it/s]\n",
      "  0%|          | 0/391 [00:00<?, ?it/s]"
     ]
    },
    {
     "name": "stdout",
     "output_type": "stream",
     "text": [
      "======Saved Best Accuracy Checkpoint======\n"
     ]
    },
    {
     "name": "stderr",
     "output_type": "stream",
     "text": [
      "Epoch 87 - train - Loss: 0.292: 100%|██████████| 391/391 [01:42<00:00,  4.25it/s]\n",
      "Epoch 88 - validation - Loss: 0.519: 100%|██████████| 100/100 [00:05<00:00, 16.76it/s]\n",
      "Epoch 88 - train - Loss: 0.294: 100%|██████████| 391/391 [01:42<00:00,  4.26it/s]\n",
      "Epoch 89 - validation - Loss: 0.494: 100%|██████████| 100/100 [00:05<00:00, 16.68it/s]\n",
      "Epoch 89 - train - Loss: 0.294: 100%|██████████| 391/391 [01:42<00:00,  4.30it/s]\n",
      "Epoch 90 - validation - Loss: 0.537: 100%|██████████| 100/100 [00:05<00:00, 16.74it/s]\n",
      "Epoch 90 - train - Loss: 0.292: 100%|██████████| 391/391 [01:42<00:00,  4.26it/s]\n",
      "Epoch 91 - validation - Loss: 0.462: 100%|██████████| 100/100 [00:06<00:00, 16.65it/s]\n",
      "  0%|          | 0/391 [00:00<?, ?it/s]"
     ]
    },
    {
     "name": "stdout",
     "output_type": "stream",
     "text": [
      "======Saved Best Accuracy Checkpoint======\n"
     ]
    },
    {
     "name": "stderr",
     "output_type": "stream",
     "text": [
      "Epoch 91 - train - Loss: 0.295: 100%|██████████| 391/391 [01:42<00:00,  4.29it/s]\n",
      "Epoch 92 - validation - Loss: 0.506: 100%|██████████| 100/100 [00:06<00:00, 16.62it/s]\n",
      "  0%|          | 0/391 [00:00<?, ?it/s]"
     ]
    },
    {
     "name": "stdout",
     "output_type": "stream",
     "text": [
      "======Saved Best Accuracy Checkpoint======\n"
     ]
    },
    {
     "name": "stderr",
     "output_type": "stream",
     "text": [
      "Epoch 92 - train - Loss: 0.291: 100%|██████████| 391/391 [01:42<00:00,  4.26it/s]\n",
      "Epoch 93 - validation - Loss: 0.461: 100%|██████████| 100/100 [00:05<00:00, 16.71it/s]\n",
      "Epoch 93 - train - Loss: 0.297: 100%|██████████| 391/391 [01:42<00:00,  4.25it/s]\n",
      "Epoch 94 - validation - Loss: 0.476: 100%|██████████| 100/100 [00:05<00:00, 16.68it/s]\n",
      "  0%|          | 0/391 [00:00<?, ?it/s]"
     ]
    },
    {
     "name": "stdout",
     "output_type": "stream",
     "text": [
      "======Saved Best Accuracy Checkpoint======\n"
     ]
    },
    {
     "name": "stderr",
     "output_type": "stream",
     "text": [
      "Epoch 94 - train - Loss: 0.284: 100%|██████████| 391/391 [01:42<00:00,  4.27it/s]\n",
      "Epoch 95 - validation - Loss: 0.470: 100%|██████████| 100/100 [00:06<00:00, 16.55it/s]\n",
      "  0%|          | 0/391 [00:00<?, ?it/s]"
     ]
    },
    {
     "name": "stdout",
     "output_type": "stream",
     "text": [
      "======Saved Best Accuracy Checkpoint======\n"
     ]
    },
    {
     "name": "stderr",
     "output_type": "stream",
     "text": [
      "Epoch 95 - train - Loss: 0.291: 100%|██████████| 391/391 [01:42<00:00,  4.26it/s]\n",
      "Epoch 96 - validation - Loss: 0.465: 100%|██████████| 100/100 [00:05<00:00, 16.74it/s]\n",
      "Epoch 96 - train - Loss: 0.284: 100%|██████████| 391/391 [01:42<00:00,  4.19it/s]\n",
      "Epoch 97 - validation - Loss: 0.467: 100%|██████████| 100/100 [00:06<00:00, 16.60it/s]\n",
      "Epoch 97 - train - Loss: 0.284: 100%|██████████| 391/391 [01:42<00:00,  4.26it/s]\n",
      "Epoch 98 - validation - Loss: 0.461: 100%|██████████| 100/100 [00:06<00:00, 16.37it/s]\n",
      "Epoch 98 - train - Loss: 0.280: 100%|██████████| 391/391 [01:42<00:00,  4.26it/s]\n",
      "Epoch 99 - validation - Loss: 0.485: 100%|██████████| 100/100 [00:05<00:00, 16.70it/s]\n",
      "Epoch 99 - train - Loss: 0.291: 100%|██████████| 391/391 [01:42<00:00,  4.25it/s]\n",
      "Epoch 100 - validation - Loss: 0.460: 100%|██████████| 100/100 [00:05<00:00, 16.72it/s]\n"
     ]
    }
   ],
   "source": [
    "from yapwrap.experiments import ImpBGClassification\n",
    "from yapwrap.dataloaders import *\n",
    "from yapwrap.utils import *\n",
    "from yapwrap.models import *\n",
    "import torch\n",
    "import torch.nn as nn\n",
    "\n",
    "config = {\n",
    "    \"experiment_dir\":'.',\n",
    "    \"dataloader\":{\n",
    "        \"class\":CIFAR10,\n",
    "        \"params\":{}\n",
    "    },\n",
    "    \"model\":{\n",
    "        \"class\":TinyImpBG50,\n",
    "        \"params\":{}\n",
    "    },\n",
    "    \"lr_scheduler\":{\n",
    "        \"class\":torch.optim.lr_scheduler.CosineAnnealingLR,\n",
    "        \"params\":{\"T_max\":100}\n",
    "    },\n",
    "    \"criterion\":{\n",
    "        \"class\":nn.CrossEntropyLoss,\n",
    "        \"params\":{}\n",
    "    },\n",
    "    \"evaluator\":{\n",
    "        \"class\":ImageClassificationEvaluator,\n",
    "        \"params\":{}\n",
    "    },\n",
    "    \"saver\":{\n",
    "        \"class\":BestMetricSaver,\n",
    "        \"params\":{\"metric_set\":\"validation\",\n",
    "                  \"metric_name\":\"Accuracy\"}\n",
    "    },\n",
    "    \"cuda\":True,\n",
    "    }\n",
    "exp = ImpBGClassification(config)\n",
    "exp.train(100)\n",
    "\n"
   ]
  },
  {
   "cell_type": "code",
   "execution_count": 1,
   "metadata": {
    "scrolled": true
   },
   "outputs": [
    {
     "name": "stderr",
     "output_type": "stream",
     "text": [
      "/home/charlie/.virtualenvs/yapwrap/lib/python3.7/site-packages/dask/config.py:168: YAMLLoadWarning: calling yaml.load() without Loader=... is deprecated, as the default Loader is unsafe. Please read https://msg.pyyaml.org/load for full details.\n",
      "  data = yaml.load(f.read()) or {}\n"
     ]
    },
    {
     "name": "stdout",
     "output_type": "stream",
     "text": [
      "Created run/TinyImpBG18_CIFAR10/experiment_0002\n",
      "Files already downloaded and verified\n",
      "Files already downloaded and verified\n",
      "Using downloaded and verified file: ./data/test_32x32.mat\n",
      "Files already downloaded and verified\n",
      "Files already downloaded and verified\n"
     ]
    },
    {
     "name": "stderr",
     "output_type": "stream",
     "text": [
      "  0%|          | 0/391 [00:00<?, ?it/s]/home/charlie/.virtualenvs/yapwrap/lib/python3.7/site-packages/yapwrap/experiments/impbg_classification.py:90: UserWarning: To copy construct from a tensor, it is recommended to use sourceTensor.clone().detach() or sourceTensor.clone().detach().requires_grad_(True), rather than torch.tensor(sourceTensor).\n",
      "  _attn = torch.tensor(attn.detach(), requires_grad=False)\n",
      "Epoch 0 - train - Loss: 2.264: 100%|██████████| 391/391 [00:32<00:00, 13.10it/s]\n",
      "Epoch 0 - validation - Loss: 1.987: 100%|██████████| 100/100 [00:02<00:00, 41.13it/s]\n",
      "OOD_CIFAR100:   4%|▍         | 4/100 [00:00<00:13,  7.02it/s]\n",
      "OOD_TinyImageNet:   4%|▍         | 4/100 [00:00<00:15,  6.37it/s]\n",
      "OOD_SVHN:   2%|▏         | 4/261 [00:00<00:41,  6.25it/s]\n",
      "Noise_Gaussian: 100%|██████████| 20/20 [00:00<00:00, 23.33it/s]\n",
      "Noise_Rademacher: 100%|██████████| 20/20 [00:00<00:00, 24.11it/s]\n",
      "Noise_Blob: 100%|██████████| 20/20 [00:00<00:00, 23.87it/s]\n",
      "  0%|          | 0/391 [00:00<?, ?it/s]"
     ]
    },
    {
     "name": "stdout",
     "output_type": "stream",
     "text": [
      "======Saved Best Accuracy Checkpoint======\n"
     ]
    },
    {
     "name": "stderr",
     "output_type": "stream",
     "text": [
      "/home/charlie/.virtualenvs/yapwrap/lib/python3.7/site-packages/yapwrap/experiments/impbg_classification.py:90: UserWarning: To copy construct from a tensor, it is recommended to use sourceTensor.clone().detach() or sourceTensor.clone().detach().requires_grad_(True), rather than torch.tensor(sourceTensor).\n",
      "  _attn = torch.tensor(attn.detach(), requires_grad=False)\n",
      "Epoch 1 - train - Loss: 1.738: 100%|██████████| 391/391 [00:32<00:00, 12.64it/s]\n",
      "Epoch 1 - validation - Loss: 1.901: 100%|██████████| 100/100 [00:02<00:00, 41.20it/s]\n",
      "OOD_CIFAR100:   4%|▍         | 4/100 [00:00<00:14,  6.54it/s]\n",
      "OOD_TinyImageNet:   4%|▍         | 4/100 [00:00<00:15,  6.26it/s]\n",
      "OOD_SVHN:   2%|▏         | 4/261 [00:00<00:40,  6.34it/s]\n",
      "Noise_Gaussian: 100%|██████████| 20/20 [00:00<00:00, 25.51it/s]\n",
      "Noise_Rademacher: 100%|██████████| 20/20 [00:00<00:00, 24.02it/s]\n",
      "Noise_Blob: 100%|██████████| 20/20 [00:01<00:00, 18.45it/s]\n",
      "  0%|          | 0/391 [00:00<?, ?it/s]"
     ]
    },
    {
     "name": "stdout",
     "output_type": "stream",
     "text": [
      "======Saved Best Accuracy Checkpoint======\n"
     ]
    },
    {
     "name": "stderr",
     "output_type": "stream",
     "text": [
      "/home/charlie/.virtualenvs/yapwrap/lib/python3.7/site-packages/yapwrap/experiments/impbg_classification.py:90: UserWarning: To copy construct from a tensor, it is recommended to use sourceTensor.clone().detach() or sourceTensor.clone().detach().requires_grad_(True), rather than torch.tensor(sourceTensor).\n",
      "  _attn = torch.tensor(attn.detach(), requires_grad=False)\n",
      "Epoch 2 - train - Loss: 1.510: 100%|██████████| 391/391 [00:32<00:00, 12.57it/s]\n",
      "Epoch 2 - validation - Loss: 1.615: 100%|██████████| 100/100 [00:02<00:00, 39.60it/s]\n",
      "OOD_CIFAR100:   4%|▍         | 4/100 [00:00<00:14,  6.85it/s]\n",
      "OOD_TinyImageNet:   4%|▍         | 4/100 [00:00<00:15,  6.36it/s]\n",
      "OOD_SVHN:   2%|▏         | 4/261 [00:00<00:36,  6.97it/s]\n",
      "Noise_Gaussian: 100%|██████████| 20/20 [00:00<00:00, 25.21it/s]\n",
      "Noise_Rademacher: 100%|██████████| 20/20 [00:00<00:00, 21.39it/s]\n",
      "Noise_Blob: 100%|██████████| 20/20 [00:00<00:00, 24.51it/s]\n",
      "  0%|          | 0/391 [00:00<?, ?it/s]"
     ]
    },
    {
     "name": "stdout",
     "output_type": "stream",
     "text": [
      "======Saved Best Accuracy Checkpoint======\n"
     ]
    },
    {
     "name": "stderr",
     "output_type": "stream",
     "text": [
      "/home/charlie/.virtualenvs/yapwrap/lib/python3.7/site-packages/yapwrap/experiments/impbg_classification.py:90: UserWarning: To copy construct from a tensor, it is recommended to use sourceTensor.clone().detach() or sourceTensor.clone().detach().requires_grad_(True), rather than torch.tensor(sourceTensor).\n",
      "  _attn = torch.tensor(attn.detach(), requires_grad=False)\n",
      "Epoch 3 - train - Loss: 1.223: 100%|██████████| 391/391 [00:32<00:00, 12.71it/s]\n",
      "Epoch 3 - validation - Loss: 1.359: 100%|██████████| 100/100 [00:02<00:00, 41.70it/s]\n",
      "OOD_CIFAR100:   4%|▍         | 4/100 [00:00<00:13,  7.32it/s]\n",
      "OOD_TinyImageNet:   4%|▍         | 4/100 [00:00<00:15,  6.32it/s]\n",
      "OOD_SVHN:   2%|▏         | 4/261 [00:00<00:37,  6.83it/s]\n",
      "Noise_Gaussian: 100%|██████████| 20/20 [00:00<00:00, 24.94it/s]\n",
      "Noise_Rademacher: 100%|██████████| 20/20 [00:00<00:00, 25.93it/s]\n",
      "Noise_Blob: 100%|██████████| 20/20 [00:00<00:00, 25.30it/s]\n",
      "  0%|          | 0/391 [00:00<?, ?it/s]"
     ]
    },
    {
     "name": "stdout",
     "output_type": "stream",
     "text": [
      "======Saved Best Accuracy Checkpoint======\n"
     ]
    },
    {
     "name": "stderr",
     "output_type": "stream",
     "text": [
      "/home/charlie/.virtualenvs/yapwrap/lib/python3.7/site-packages/yapwrap/experiments/impbg_classification.py:90: UserWarning: To copy construct from a tensor, it is recommended to use sourceTensor.clone().detach() or sourceTensor.clone().detach().requires_grad_(True), rather than torch.tensor(sourceTensor).\n",
      "  _attn = torch.tensor(attn.detach(), requires_grad=False)\n",
      "Epoch 4 - train - Loss: 0.932: 100%|██████████| 391/391 [00:32<00:00, 12.91it/s]\n",
      "Epoch 4 - validation - Loss: 1.031: 100%|██████████| 100/100 [00:02<00:00, 41.24it/s]\n",
      "OOD_CIFAR100:   4%|▍         | 4/100 [00:00<00:13,  6.95it/s]\n",
      "OOD_TinyImageNet:   4%|▍         | 4/100 [00:00<00:14,  6.42it/s]\n",
      "OOD_SVHN:   2%|▏         | 4/261 [00:00<00:36,  7.13it/s]\n",
      "Noise_Gaussian: 100%|██████████| 20/20 [00:00<00:00, 24.92it/s]\n",
      "Noise_Rademacher: 100%|██████████| 20/20 [00:00<00:00, 25.04it/s]\n",
      "Noise_Blob: 100%|██████████| 20/20 [00:00<00:00, 24.34it/s]\n",
      "  0%|          | 0/391 [00:00<?, ?it/s]"
     ]
    },
    {
     "name": "stdout",
     "output_type": "stream",
     "text": [
      "======Saved Best Accuracy Checkpoint======\n"
     ]
    },
    {
     "name": "stderr",
     "output_type": "stream",
     "text": [
      "/home/charlie/.virtualenvs/yapwrap/lib/python3.7/site-packages/yapwrap/experiments/impbg_classification.py:90: UserWarning: To copy construct from a tensor, it is recommended to use sourceTensor.clone().detach() or sourceTensor.clone().detach().requires_grad_(True), rather than torch.tensor(sourceTensor).\n",
      "  _attn = torch.tensor(attn.detach(), requires_grad=False)\n",
      "Epoch 5 - train - Loss: 0.999: 100%|██████████| 391/391 [00:32<00:00, 12.90it/s]\n",
      "Epoch 5 - validation - Loss: 1.042: 100%|██████████| 100/100 [00:02<00:00, 41.95it/s]\n",
      "OOD_CIFAR100:   4%|▍         | 4/100 [00:00<00:13,  7.37it/s]\n",
      "OOD_TinyImageNet:   4%|▍         | 4/100 [00:00<00:14,  6.65it/s]\n",
      "OOD_SVHN:   2%|▏         | 4/261 [00:00<00:36,  6.95it/s]\n",
      "Noise_Gaussian: 100%|██████████| 20/20 [00:00<00:00, 25.60it/s]\n",
      "Noise_Rademacher: 100%|██████████| 20/20 [00:00<00:00, 24.79it/s]\n",
      "Noise_Blob: 100%|██████████| 20/20 [00:00<00:00, 23.82it/s]\n",
      "  0%|          | 0/391 [00:00<?, ?it/s]"
     ]
    },
    {
     "name": "stdout",
     "output_type": "stream",
     "text": [
      "======Saved Best Accuracy Checkpoint======\n"
     ]
    },
    {
     "name": "stderr",
     "output_type": "stream",
     "text": [
      "/home/charlie/.virtualenvs/yapwrap/lib/python3.7/site-packages/yapwrap/experiments/impbg_classification.py:90: UserWarning: To copy construct from a tensor, it is recommended to use sourceTensor.clone().detach() or sourceTensor.clone().detach().requires_grad_(True), rather than torch.tensor(sourceTensor).\n",
      "  _attn = torch.tensor(attn.detach(), requires_grad=False)\n",
      "Epoch 6 - train - Loss: 0.765: 100%|██████████| 391/391 [00:32<00:00, 12.93it/s]\n",
      "Epoch 6 - validation - Loss: 1.008: 100%|██████████| 100/100 [00:02<00:00, 37.59it/s]\n",
      "OOD_CIFAR100:   4%|▍         | 4/100 [00:00<00:15,  6.19it/s]\n",
      "OOD_TinyImageNet:   4%|▍         | 4/100 [00:00<00:14,  6.40it/s]\n",
      "OOD_SVHN:   2%|▏         | 4/261 [00:00<00:41,  6.17it/s]\n",
      "Noise_Gaussian: 100%|██████████| 20/20 [00:00<00:00, 24.18it/s]\n",
      "Noise_Rademacher: 100%|██████████| 20/20 [00:00<00:00, 23.80it/s]\n",
      "Noise_Blob: 100%|██████████| 20/20 [00:00<00:00, 23.62it/s]\n",
      "  0%|          | 0/391 [00:00<?, ?it/s]"
     ]
    },
    {
     "name": "stdout",
     "output_type": "stream",
     "text": [
      "======Saved Best Accuracy Checkpoint======\n"
     ]
    },
    {
     "name": "stderr",
     "output_type": "stream",
     "text": [
      "/home/charlie/.virtualenvs/yapwrap/lib/python3.7/site-packages/yapwrap/experiments/impbg_classification.py:90: UserWarning: To copy construct from a tensor, it is recommended to use sourceTensor.clone().detach() or sourceTensor.clone().detach().requires_grad_(True), rather than torch.tensor(sourceTensor).\n",
      "  _attn = torch.tensor(attn.detach(), requires_grad=False)\n",
      "Epoch 7 - train - Loss: 0.936: 100%|██████████| 391/391 [00:32<00:00, 12.94it/s]\n",
      "Epoch 7 - validation - Loss: 0.894: 100%|██████████| 100/100 [00:02<00:00, 40.41it/s]\n",
      "OOD_CIFAR100:   4%|▍         | 4/100 [00:00<00:14,  6.85it/s]\n",
      "OOD_TinyImageNet:   4%|▍         | 4/100 [00:00<00:14,  6.70it/s]\n",
      "OOD_SVHN:   2%|▏         | 4/261 [00:00<00:39,  6.45it/s]\n",
      "Noise_Gaussian: 100%|██████████| 20/20 [00:00<00:00, 24.41it/s]\n",
      "Noise_Rademacher: 100%|██████████| 20/20 [00:00<00:00, 24.34it/s]\n",
      "Noise_Blob: 100%|██████████| 20/20 [00:00<00:00, 24.30it/s]\n",
      "  0%|          | 0/391 [00:00<?, ?it/s]"
     ]
    },
    {
     "name": "stdout",
     "output_type": "stream",
     "text": [
      "======Saved Best Accuracy Checkpoint======\n"
     ]
    },
    {
     "name": "stderr",
     "output_type": "stream",
     "text": [
      "/home/charlie/.virtualenvs/yapwrap/lib/python3.7/site-packages/yapwrap/experiments/impbg_classification.py:90: UserWarning: To copy construct from a tensor, it is recommended to use sourceTensor.clone().detach() or sourceTensor.clone().detach().requires_grad_(True), rather than torch.tensor(sourceTensor).\n",
      "  _attn = torch.tensor(attn.detach(), requires_grad=False)\n",
      "Epoch 8 - train - Loss: 0.693: 100%|██████████| 391/391 [00:32<00:00, 12.95it/s]\n",
      "Epoch 8 - validation - Loss: 1.098: 100%|██████████| 100/100 [00:02<00:00, 41.34it/s]\n",
      "OOD_CIFAR100:   4%|▍         | 4/100 [00:00<00:13,  6.89it/s]\n",
      "OOD_TinyImageNet:   4%|▍         | 4/100 [00:00<00:14,  6.58it/s]\n",
      "OOD_SVHN:   2%|▏         | 4/261 [00:00<00:36,  7.09it/s]\n",
      "Noise_Gaussian: 100%|██████████| 20/20 [00:00<00:00, 24.92it/s]\n",
      "Noise_Rademacher: 100%|██████████| 20/20 [00:00<00:00, 24.60it/s]\n",
      "Noise_Blob: 100%|██████████| 20/20 [00:00<00:00, 26.10it/s]\n",
      "  0%|          | 0/391 [00:00<?, ?it/s]/home/charlie/.virtualenvs/yapwrap/lib/python3.7/site-packages/yapwrap/experiments/impbg_classification.py:90: UserWarning: To copy construct from a tensor, it is recommended to use sourceTensor.clone().detach() or sourceTensor.clone().detach().requires_grad_(True), rather than torch.tensor(sourceTensor).\n",
      "  _attn = torch.tensor(attn.detach(), requires_grad=False)\n",
      "Epoch 9 - train - Loss: 0.790: 100%|██████████| 391/391 [00:32<00:00, 12.88it/s]\n",
      "Epoch 9 - validation - Loss: 0.879: 100%|██████████| 100/100 [00:02<00:00, 41.18it/s]\n",
      "OOD_CIFAR100:   4%|▍         | 4/100 [00:00<00:14,  6.76it/s]\n",
      "OOD_TinyImageNet:   4%|▍         | 4/100 [00:00<00:14,  6.54it/s]\n",
      "OOD_SVHN:   2%|▏         | 4/261 [00:00<00:36,  7.09it/s]\n",
      "Noise_Gaussian: 100%|██████████| 20/20 [00:00<00:00, 24.70it/s]\n",
      "Noise_Rademacher: 100%|██████████| 20/20 [00:00<00:00, 25.89it/s]\n",
      "Noise_Blob: 100%|██████████| 20/20 [00:00<00:00, 24.80it/s]\n",
      "  0%|          | 0/391 [00:00<?, ?it/s]"
     ]
    },
    {
     "name": "stdout",
     "output_type": "stream",
     "text": [
      "======Saved Best Accuracy Checkpoint======\n"
     ]
    },
    {
     "name": "stderr",
     "output_type": "stream",
     "text": [
      "/home/charlie/.virtualenvs/yapwrap/lib/python3.7/site-packages/yapwrap/experiments/impbg_classification.py:90: UserWarning: To copy construct from a tensor, it is recommended to use sourceTensor.clone().detach() or sourceTensor.clone().detach().requires_grad_(True), rather than torch.tensor(sourceTensor).\n",
      "  _attn = torch.tensor(attn.detach(), requires_grad=False)\n",
      "Epoch 10 - train - Loss: 0.663: 100%|██████████| 391/391 [00:32<00:00, 12.88it/s]\n",
      "Epoch 10 - validation - Loss: 0.973: 100%|██████████| 100/100 [00:02<00:00, 42.10it/s]\n",
      "OOD_CIFAR100:   4%|▍         | 4/100 [00:00<00:13,  7.08it/s]\n",
      "OOD_TinyImageNet:   4%|▍         | 4/100 [00:00<00:14,  6.60it/s]\n",
      "OOD_SVHN:   2%|▏         | 4/261 [00:00<00:35,  7.18it/s]\n",
      "Noise_Gaussian: 100%|██████████| 20/20 [00:00<00:00, 25.59it/s]\n",
      "Noise_Rademacher: 100%|██████████| 20/20 [00:00<00:00, 25.52it/s]\n",
      "Noise_Blob: 100%|██████████| 20/20 [00:00<00:00, 24.43it/s]\n",
      "  0%|          | 0/391 [00:00<?, ?it/s]/home/charlie/.virtualenvs/yapwrap/lib/python3.7/site-packages/yapwrap/experiments/impbg_classification.py:90: UserWarning: To copy construct from a tensor, it is recommended to use sourceTensor.clone().detach() or sourceTensor.clone().detach().requires_grad_(True), rather than torch.tensor(sourceTensor).\n",
      "  _attn = torch.tensor(attn.detach(), requires_grad=False)\n",
      "Epoch 11 - train - Loss: 0.654: 100%|██████████| 391/391 [00:32<00:00, 12.94it/s]\n",
      "Epoch 11 - validation - Loss: 0.829: 100%|██████████| 100/100 [00:02<00:00, 41.53it/s]\n",
      "OOD_CIFAR100:   4%|▍         | 4/100 [00:00<00:14,  6.70it/s]\n",
      "OOD_TinyImageNet:   4%|▍         | 4/100 [00:00<00:14,  6.51it/s]\n",
      "OOD_SVHN:   2%|▏         | 4/261 [00:00<00:36,  6.99it/s]\n",
      "Noise_Gaussian: 100%|██████████| 20/20 [00:00<00:00, 24.65it/s]\n",
      "Noise_Rademacher: 100%|██████████| 20/20 [00:00<00:00, 25.70it/s]\n",
      "Noise_Blob: 100%|██████████| 20/20 [00:00<00:00, 24.32it/s]\n",
      "  0%|          | 0/391 [00:00<?, ?it/s]"
     ]
    },
    {
     "name": "stdout",
     "output_type": "stream",
     "text": [
      "======Saved Best Accuracy Checkpoint======\n"
     ]
    },
    {
     "name": "stderr",
     "output_type": "stream",
     "text": [
      "/home/charlie/.virtualenvs/yapwrap/lib/python3.7/site-packages/yapwrap/experiments/impbg_classification.py:90: UserWarning: To copy construct from a tensor, it is recommended to use sourceTensor.clone().detach() or sourceTensor.clone().detach().requires_grad_(True), rather than torch.tensor(sourceTensor).\n",
      "  _attn = torch.tensor(attn.detach(), requires_grad=False)\n",
      "Epoch 12 - train - Loss: 0.740: 100%|██████████| 391/391 [00:32<00:00, 12.85it/s]\n",
      "Epoch 12 - validation - Loss: 0.849: 100%|██████████| 100/100 [00:02<00:00, 41.89it/s]\n",
      "OOD_CIFAR100:   4%|▍         | 4/100 [00:00<00:14,  6.69it/s]\n",
      "OOD_TinyImageNet:   4%|▍         | 4/100 [00:00<00:15,  6.36it/s]\n",
      "OOD_SVHN:   2%|▏         | 4/261 [00:00<00:37,  6.88it/s]\n",
      "Noise_Gaussian: 100%|██████████| 20/20 [00:00<00:00, 25.41it/s]\n",
      "Noise_Rademacher: 100%|██████████| 20/20 [00:00<00:00, 24.96it/s]\n",
      "Noise_Blob: 100%|██████████| 20/20 [00:00<00:00, 25.74it/s]\n",
      "  0%|          | 0/391 [00:00<?, ?it/s]"
     ]
    },
    {
     "name": "stdout",
     "output_type": "stream",
     "text": [
      "======Saved Best Accuracy Checkpoint======\n"
     ]
    },
    {
     "name": "stderr",
     "output_type": "stream",
     "text": [
      "/home/charlie/.virtualenvs/yapwrap/lib/python3.7/site-packages/yapwrap/experiments/impbg_classification.py:90: UserWarning: To copy construct from a tensor, it is recommended to use sourceTensor.clone().detach() or sourceTensor.clone().detach().requires_grad_(True), rather than torch.tensor(sourceTensor).\n",
      "  _attn = torch.tensor(attn.detach(), requires_grad=False)\n",
      "Epoch 13 - train - Loss: 0.862: 100%|██████████| 391/391 [00:32<00:00, 12.88it/s]\n",
      "Epoch 13 - validation - Loss: 0.932: 100%|██████████| 100/100 [00:02<00:00, 41.21it/s]\n",
      "OOD_CIFAR100:   4%|▍         | 4/100 [00:00<00:13,  6.99it/s]\n",
      "OOD_TinyImageNet:   4%|▍         | 4/100 [00:00<00:14,  6.56it/s]\n",
      "OOD_SVHN:   2%|▏         | 4/261 [00:00<00:36,  7.08it/s]\n",
      "Noise_Gaussian: 100%|██████████| 20/20 [00:00<00:00, 25.70it/s]\n",
      "Noise_Rademacher: 100%|██████████| 20/20 [00:00<00:00, 24.65it/s]\n",
      "Noise_Blob: 100%|██████████| 20/20 [00:00<00:00, 25.36it/s]\n",
      "  0%|          | 0/391 [00:00<?, ?it/s]/home/charlie/.virtualenvs/yapwrap/lib/python3.7/site-packages/yapwrap/experiments/impbg_classification.py:90: UserWarning: To copy construct from a tensor, it is recommended to use sourceTensor.clone().detach() or sourceTensor.clone().detach().requires_grad_(True), rather than torch.tensor(sourceTensor).\n",
      "  _attn = torch.tensor(attn.detach(), requires_grad=False)\n",
      "Epoch 14 - train - Loss: 0.573: 100%|██████████| 391/391 [00:32<00:00, 12.88it/s]\n",
      "Epoch 14 - validation - Loss: 0.691: 100%|██████████| 100/100 [00:02<00:00, 41.33it/s]\n",
      "OOD_CIFAR100:   4%|▍         | 4/100 [00:00<00:13,  6.99it/s]\n",
      "OOD_TinyImageNet:   4%|▍         | 4/100 [00:00<00:14,  6.85it/s]\n",
      "OOD_SVHN:   2%|▏         | 4/261 [00:00<00:38,  6.61it/s]\n",
      "Noise_Gaussian: 100%|██████████| 20/20 [00:01<00:00, 17.74it/s]\n",
      "Noise_Rademacher: 100%|██████████| 20/20 [00:00<00:00, 24.29it/s]\n",
      "Noise_Blob: 100%|██████████| 20/20 [00:00<00:00, 25.56it/s]\n",
      "  0%|          | 0/391 [00:00<?, ?it/s]/home/charlie/.virtualenvs/yapwrap/lib/python3.7/site-packages/yapwrap/experiments/impbg_classification.py:90: UserWarning: To copy construct from a tensor, it is recommended to use sourceTensor.clone().detach() or sourceTensor.clone().detach().requires_grad_(True), rather than torch.tensor(sourceTensor).\n",
      "  _attn = torch.tensor(attn.detach(), requires_grad=False)\n",
      "Epoch 15 - train - Loss: 0.690: 100%|██████████| 391/391 [00:32<00:00, 12.94it/s]\n",
      "Epoch 15 - validation - Loss: 0.947: 100%|██████████| 100/100 [00:02<00:00, 41.54it/s]\n",
      "OOD_CIFAR100:   4%|▍         | 4/100 [00:00<00:13,  7.11it/s]\n",
      "OOD_TinyImageNet:   4%|▍         | 4/100 [00:00<00:14,  6.64it/s]\n",
      "OOD_SVHN:   2%|▏         | 4/261 [00:00<00:36,  7.06it/s]\n",
      "Noise_Gaussian: 100%|██████████| 20/20 [00:00<00:00, 25.95it/s]\n",
      "Noise_Rademacher: 100%|██████████| 20/20 [00:00<00:00, 26.07it/s]\n",
      "Noise_Blob: 100%|██████████| 20/20 [00:00<00:00, 26.08it/s]\n",
      "  0%|          | 0/391 [00:00<?, ?it/s]/home/charlie/.virtualenvs/yapwrap/lib/python3.7/site-packages/yapwrap/experiments/impbg_classification.py:90: UserWarning: To copy construct from a tensor, it is recommended to use sourceTensor.clone().detach() or sourceTensor.clone().detach().requires_grad_(True), rather than torch.tensor(sourceTensor).\n",
      "  _attn = torch.tensor(attn.detach(), requires_grad=False)\n",
      "Epoch 16 - train - Loss: 0.730: 100%|██████████| 391/391 [00:32<00:00, 12.94it/s]\n",
      "Epoch 16 - validation - Loss: 0.872: 100%|██████████| 100/100 [00:02<00:00, 41.22it/s]\n",
      "OOD_CIFAR100:   4%|▍         | 4/100 [00:00<00:13,  7.37it/s]\n",
      "OOD_TinyImageNet:   4%|▍         | 4/100 [00:00<00:14,  6.85it/s]\n",
      "OOD_SVHN:   2%|▏         | 4/261 [00:00<00:38,  6.70it/s]\n",
      "Noise_Gaussian: 100%|██████████| 20/20 [00:00<00:00, 25.64it/s]\n",
      "Noise_Rademacher: 100%|██████████| 20/20 [00:01<00:00, 17.85it/s]\n",
      "Noise_Blob: 100%|██████████| 20/20 [00:00<00:00, 25.72it/s]\n",
      "  0%|          | 0/391 [00:00<?, ?it/s]/home/charlie/.virtualenvs/yapwrap/lib/python3.7/site-packages/yapwrap/experiments/impbg_classification.py:90: UserWarning: To copy construct from a tensor, it is recommended to use sourceTensor.clone().detach() or sourceTensor.clone().detach().requires_grad_(True), rather than torch.tensor(sourceTensor).\n",
      "  _attn = torch.tensor(attn.detach(), requires_grad=False)\n",
      "Epoch 17 - train - Loss: 0.771: 100%|██████████| 391/391 [00:32<00:00, 12.86it/s]\n",
      "Epoch 17 - validation - Loss: 0.835: 100%|██████████| 100/100 [00:02<00:00, 41.88it/s]\n",
      "OOD_CIFAR100:   4%|▍         | 4/100 [00:00<00:13,  7.12it/s]\n",
      "OOD_TinyImageNet:   4%|▍         | 4/100 [00:00<00:13,  6.86it/s]\n",
      "OOD_SVHN:   2%|▏         | 4/261 [00:00<00:36,  7.12it/s]\n",
      "Noise_Gaussian: 100%|██████████| 20/20 [00:00<00:00, 25.41it/s]\n",
      "Noise_Rademacher: 100%|██████████| 20/20 [00:00<00:00, 25.32it/s]\n",
      "Noise_Blob: 100%|██████████| 20/20 [00:00<00:00, 25.48it/s]\n",
      "  0%|          | 0/391 [00:00<?, ?it/s]"
     ]
    },
    {
     "name": "stdout",
     "output_type": "stream",
     "text": [
      "======Saved Best Accuracy Checkpoint======\n"
     ]
    },
    {
     "name": "stderr",
     "output_type": "stream",
     "text": [
      "/home/charlie/.virtualenvs/yapwrap/lib/python3.7/site-packages/yapwrap/experiments/impbg_classification.py:90: UserWarning: To copy construct from a tensor, it is recommended to use sourceTensor.clone().detach() or sourceTensor.clone().detach().requires_grad_(True), rather than torch.tensor(sourceTensor).\n",
      "  _attn = torch.tensor(attn.detach(), requires_grad=False)\n",
      "Epoch 18 - train - Loss: 0.723: 100%|██████████| 391/391 [00:32<00:00, 12.93it/s]\n",
      "Epoch 18 - validation - Loss: 0.817: 100%|██████████| 100/100 [00:02<00:00, 42.05it/s]\n",
      "OOD_CIFAR100:   4%|▍         | 4/100 [00:00<00:13,  7.13it/s]\n",
      "OOD_TinyImageNet:   4%|▍         | 4/100 [00:00<00:14,  6.43it/s]\n",
      "OOD_SVHN:   2%|▏         | 4/261 [00:00<00:36,  7.13it/s]\n",
      "Noise_Gaussian: 100%|██████████| 20/20 [00:00<00:00, 24.88it/s]\n",
      "Noise_Rademacher: 100%|██████████| 20/20 [00:00<00:00, 24.82it/s]\n",
      "Noise_Blob: 100%|██████████| 20/20 [00:01<00:00, 19.18it/s]\n",
      "  0%|          | 0/391 [00:00<?, ?it/s]"
     ]
    },
    {
     "name": "stdout",
     "output_type": "stream",
     "text": [
      "======Saved Best Accuracy Checkpoint======\n"
     ]
    },
    {
     "name": "stderr",
     "output_type": "stream",
     "text": [
      "/home/charlie/.virtualenvs/yapwrap/lib/python3.7/site-packages/yapwrap/experiments/impbg_classification.py:90: UserWarning: To copy construct from a tensor, it is recommended to use sourceTensor.clone().detach() or sourceTensor.clone().detach().requires_grad_(True), rather than torch.tensor(sourceTensor).\n",
      "  _attn = torch.tensor(attn.detach(), requires_grad=False)\n",
      "Epoch 19 - train - Loss: 0.711: 100%|██████████| 391/391 [00:32<00:00, 12.93it/s]\n",
      "Epoch 19 - validation - Loss: 0.804: 100%|██████████| 100/100 [00:02<00:00, 41.63it/s]\n",
      "OOD_CIFAR100:   4%|▍         | 4/100 [00:00<00:13,  6.88it/s]\n",
      "OOD_TinyImageNet:   4%|▍         | 4/100 [00:00<00:14,  6.71it/s]\n",
      "OOD_SVHN:   2%|▏         | 4/261 [00:00<00:37,  6.82it/s]\n",
      "Noise_Gaussian: 100%|██████████| 20/20 [00:00<00:00, 24.93it/s]\n",
      "Noise_Rademacher: 100%|██████████| 20/20 [00:00<00:00, 25.17it/s]\n",
      "Noise_Blob: 100%|██████████| 20/20 [00:00<00:00, 24.99it/s]\n",
      "  0%|          | 0/391 [00:00<?, ?it/s]/home/charlie/.virtualenvs/yapwrap/lib/python3.7/site-packages/yapwrap/experiments/impbg_classification.py:90: UserWarning: To copy construct from a tensor, it is recommended to use sourceTensor.clone().detach() or sourceTensor.clone().detach().requires_grad_(True), rather than torch.tensor(sourceTensor).\n",
      "  _attn = torch.tensor(attn.detach(), requires_grad=False)\n",
      "Epoch 20 - train - Loss: 0.651: 100%|██████████| 391/391 [00:32<00:00, 12.90it/s]\n",
      "Epoch 20 - validation - Loss: 0.854: 100%|██████████| 100/100 [00:02<00:00, 42.12it/s]\n",
      "OOD_CIFAR100:   4%|▍         | 4/100 [00:00<00:13,  6.88it/s]\n",
      "OOD_TinyImageNet:   4%|▍         | 4/100 [00:00<00:14,  6.52it/s]\n",
      "OOD_SVHN:   2%|▏         | 4/261 [00:00<00:38,  6.73it/s]\n",
      "Noise_Gaussian: 100%|██████████| 20/20 [00:00<00:00, 24.41it/s]\n",
      "Noise_Rademacher: 100%|██████████| 20/20 [00:00<00:00, 24.66it/s]\n",
      "Noise_Blob: 100%|██████████| 20/20 [00:00<00:00, 25.72it/s]\n",
      "  0%|          | 0/391 [00:00<?, ?it/s]/home/charlie/.virtualenvs/yapwrap/lib/python3.7/site-packages/yapwrap/experiments/impbg_classification.py:90: UserWarning: To copy construct from a tensor, it is recommended to use sourceTensor.clone().detach() or sourceTensor.clone().detach().requires_grad_(True), rather than torch.tensor(sourceTensor).\n",
      "  _attn = torch.tensor(attn.detach(), requires_grad=False)\n",
      "Epoch 21 - train - Loss: 0.793: 100%|██████████| 391/391 [00:32<00:00, 12.96it/s]\n",
      "Epoch 21 - validation - Loss: 0.687: 100%|██████████| 100/100 [00:02<00:00, 41.83it/s]\n",
      "OOD_CIFAR100:   4%|▍         | 4/100 [00:00<00:13,  7.27it/s]\n",
      "OOD_TinyImageNet:   4%|▍         | 4/100 [00:00<00:15,  6.30it/s]\n",
      "OOD_SVHN:   2%|▏         | 4/261 [00:00<00:35,  7.31it/s]\n",
      "Noise_Gaussian: 100%|██████████| 20/20 [00:00<00:00, 25.00it/s]\n",
      "Noise_Rademacher: 100%|██████████| 20/20 [00:00<00:00, 25.55it/s]\n",
      "Noise_Blob: 100%|██████████| 20/20 [00:00<00:00, 25.37it/s]\n",
      "  0%|          | 0/391 [00:00<?, ?it/s]/home/charlie/.virtualenvs/yapwrap/lib/python3.7/site-packages/yapwrap/experiments/impbg_classification.py:90: UserWarning: To copy construct from a tensor, it is recommended to use sourceTensor.clone().detach() or sourceTensor.clone().detach().requires_grad_(True), rather than torch.tensor(sourceTensor).\n",
      "  _attn = torch.tensor(attn.detach(), requires_grad=False)\n",
      "Epoch 22 - train - Loss: 0.692: 100%|██████████| 391/391 [00:32<00:00, 12.91it/s]\n",
      "Epoch 22 - validation - Loss: 0.777: 100%|██████████| 100/100 [00:02<00:00, 42.13it/s]\n",
      "OOD_CIFAR100:   4%|▍         | 4/100 [00:00<00:14,  6.70it/s]\n",
      "OOD_TinyImageNet:   4%|▍         | 4/100 [00:00<00:14,  6.48it/s]\n",
      "OOD_SVHN:   2%|▏         | 4/261 [00:00<00:36,  7.02it/s]\n",
      "Noise_Gaussian: 100%|██████████| 20/20 [00:00<00:00, 26.07it/s]\n",
      "Noise_Rademacher: 100%|██████████| 20/20 [00:00<00:00, 24.23it/s]\n",
      "Noise_Blob: 100%|██████████| 20/20 [00:00<00:00, 25.21it/s]\n",
      "  0%|          | 0/391 [00:00<?, ?it/s]/home/charlie/.virtualenvs/yapwrap/lib/python3.7/site-packages/yapwrap/experiments/impbg_classification.py:90: UserWarning: To copy construct from a tensor, it is recommended to use sourceTensor.clone().detach() or sourceTensor.clone().detach().requires_grad_(True), rather than torch.tensor(sourceTensor).\n",
      "  _attn = torch.tensor(attn.detach(), requires_grad=False)\n",
      "Epoch 23 - train - Loss: 0.479: 100%|██████████| 391/391 [00:32<00:00, 12.93it/s]\n",
      "Epoch 23 - validation - Loss: 0.673: 100%|██████████| 100/100 [00:02<00:00, 39.98it/s]\n",
      "OOD_CIFAR100:   4%|▍         | 4/100 [00:00<00:13,  6.88it/s]\n",
      "OOD_TinyImageNet:   4%|▍         | 4/100 [00:00<00:13,  6.86it/s]\n",
      "OOD_SVHN:   2%|▏         | 4/261 [00:00<00:36,  7.05it/s]\n",
      "Noise_Gaussian: 100%|██████████| 20/20 [00:00<00:00, 23.98it/s]\n",
      "Noise_Rademacher: 100%|██████████| 20/20 [00:00<00:00, 25.21it/s]\n",
      "Noise_Blob: 100%|██████████| 20/20 [00:00<00:00, 26.04it/s]\n",
      "  0%|          | 0/391 [00:00<?, ?it/s]"
     ]
    },
    {
     "name": "stdout",
     "output_type": "stream",
     "text": [
      "======Saved Best Accuracy Checkpoint======\n"
     ]
    },
    {
     "name": "stderr",
     "output_type": "stream",
     "text": [
      "/home/charlie/.virtualenvs/yapwrap/lib/python3.7/site-packages/yapwrap/experiments/impbg_classification.py:90: UserWarning: To copy construct from a tensor, it is recommended to use sourceTensor.clone().detach() or sourceTensor.clone().detach().requires_grad_(True), rather than torch.tensor(sourceTensor).\n",
      "  _attn = torch.tensor(attn.detach(), requires_grad=False)\n",
      "Epoch 24 - train - Loss: 0.440: 100%|██████████| 391/391 [00:32<00:00, 12.94it/s]\n",
      "Epoch 24 - validation - Loss: 0.884: 100%|██████████| 100/100 [00:02<00:00, 40.99it/s]\n",
      "OOD_CIFAR100:   4%|▍         | 4/100 [00:00<00:13,  7.16it/s]\n",
      "OOD_TinyImageNet:   4%|▍         | 4/100 [00:00<00:14,  6.83it/s]\n",
      "OOD_SVHN:   2%|▏         | 4/261 [00:00<00:37,  6.80it/s]\n",
      "Noise_Gaussian: 100%|██████████| 20/20 [00:00<00:00, 25.04it/s]\n",
      "Noise_Rademacher: 100%|██████████| 20/20 [00:00<00:00, 25.23it/s]\n",
      "Noise_Blob: 100%|██████████| 20/20 [00:00<00:00, 25.34it/s]\n",
      "  0%|          | 0/391 [00:00<?, ?it/s]/home/charlie/.virtualenvs/yapwrap/lib/python3.7/site-packages/yapwrap/experiments/impbg_classification.py:90: UserWarning: To copy construct from a tensor, it is recommended to use sourceTensor.clone().detach() or sourceTensor.clone().detach().requires_grad_(True), rather than torch.tensor(sourceTensor).\n",
      "  _attn = torch.tensor(attn.detach(), requires_grad=False)\n",
      "Epoch 25 - train - Loss: 0.590: 100%|██████████| 391/391 [00:32<00:00, 12.90it/s]\n",
      "Epoch 25 - validation - Loss: 0.754: 100%|██████████| 100/100 [00:02<00:00, 41.67it/s]\n",
      "OOD_CIFAR100:   4%|▍         | 4/100 [00:00<00:12,  7.42it/s]\n",
      "OOD_TinyImageNet:   4%|▍         | 4/100 [00:00<00:14,  6.73it/s]\n",
      "OOD_SVHN:   2%|▏         | 4/261 [00:00<00:35,  7.15it/s]\n",
      "Noise_Gaussian: 100%|██████████| 20/20 [00:00<00:00, 24.54it/s]\n",
      "Noise_Rademacher: 100%|██████████| 20/20 [00:00<00:00, 24.93it/s]\n",
      "Noise_Blob: 100%|██████████| 20/20 [00:00<00:00, 25.58it/s]\n",
      "  0%|          | 0/391 [00:00<?, ?it/s]/home/charlie/.virtualenvs/yapwrap/lib/python3.7/site-packages/yapwrap/experiments/impbg_classification.py:90: UserWarning: To copy construct from a tensor, it is recommended to use sourceTensor.clone().detach() or sourceTensor.clone().detach().requires_grad_(True), rather than torch.tensor(sourceTensor).\n",
      "  _attn = torch.tensor(attn.detach(), requires_grad=False)\n",
      "Epoch 26 - train - Loss: 0.610: 100%|██████████| 391/391 [00:32<00:00, 12.93it/s]\n",
      "Epoch 26 - validation - Loss: 0.730: 100%|██████████| 100/100 [00:02<00:00, 41.74it/s]\n",
      "OOD_CIFAR100:   4%|▍         | 4/100 [00:00<00:13,  7.08it/s]\n",
      "OOD_TinyImageNet:   4%|▍         | 4/100 [00:00<00:14,  6.70it/s]\n",
      "OOD_SVHN:   2%|▏         | 4/261 [00:00<00:38,  6.61it/s]\n",
      "Noise_Gaussian: 100%|██████████| 20/20 [00:00<00:00, 25.10it/s]\n",
      "Noise_Rademacher: 100%|██████████| 20/20 [00:00<00:00, 24.24it/s]\n",
      "Noise_Blob: 100%|██████████| 20/20 [00:00<00:00, 24.80it/s]\n",
      "  0%|          | 0/391 [00:00<?, ?it/s]/home/charlie/.virtualenvs/yapwrap/lib/python3.7/site-packages/yapwrap/experiments/impbg_classification.py:90: UserWarning: To copy construct from a tensor, it is recommended to use sourceTensor.clone().detach() or sourceTensor.clone().detach().requires_grad_(True), rather than torch.tensor(sourceTensor).\n",
      "  _attn = torch.tensor(attn.detach(), requires_grad=False)\n",
      "Epoch 27 - train - Loss: 0.664: 100%|██████████| 391/391 [00:32<00:00, 12.90it/s]\n",
      "Epoch 27 - validation - Loss: 0.826: 100%|██████████| 100/100 [00:02<00:00, 41.38it/s]\n",
      "OOD_CIFAR100:   4%|▍         | 4/100 [00:00<00:13,  7.03it/s]\n",
      "OOD_TinyImageNet:   4%|▍         | 4/100 [00:00<00:14,  6.82it/s]\n",
      "OOD_SVHN:   2%|▏         | 4/261 [00:00<00:37,  6.77it/s]\n",
      "Noise_Gaussian: 100%|██████████| 20/20 [00:00<00:00, 25.02it/s]\n",
      "Noise_Rademacher: 100%|██████████| 20/20 [00:00<00:00, 24.31it/s]\n",
      "Noise_Blob: 100%|██████████| 20/20 [00:00<00:00, 25.64it/s]\n",
      "  0%|          | 0/391 [00:00<?, ?it/s]/home/charlie/.virtualenvs/yapwrap/lib/python3.7/site-packages/yapwrap/experiments/impbg_classification.py:90: UserWarning: To copy construct from a tensor, it is recommended to use sourceTensor.clone().detach() or sourceTensor.clone().detach().requires_grad_(True), rather than torch.tensor(sourceTensor).\n",
      "  _attn = torch.tensor(attn.detach(), requires_grad=False)\n",
      "Epoch 28 - train - Loss: 0.478: 100%|██████████| 391/391 [00:32<00:00, 12.92it/s]\n",
      "Epoch 28 - validation - Loss: 0.681: 100%|██████████| 100/100 [00:02<00:00, 41.99it/s]\n",
      "OOD_CIFAR100:   4%|▍         | 4/100 [00:00<00:14,  6.71it/s]\n",
      "OOD_TinyImageNet:   4%|▍         | 4/100 [00:00<00:15,  6.30it/s]\n",
      "OOD_SVHN:   2%|▏         | 4/261 [00:00<00:37,  6.89it/s]\n",
      "Noise_Gaussian: 100%|██████████| 20/20 [00:00<00:00, 24.81it/s]\n",
      "Noise_Rademacher: 100%|██████████| 20/20 [00:00<00:00, 24.45it/s]\n",
      "Noise_Blob: 100%|██████████| 20/20 [00:00<00:00, 24.89it/s]\n",
      "  0%|          | 0/391 [00:00<?, ?it/s]/home/charlie/.virtualenvs/yapwrap/lib/python3.7/site-packages/yapwrap/experiments/impbg_classification.py:90: UserWarning: To copy construct from a tensor, it is recommended to use sourceTensor.clone().detach() or sourceTensor.clone().detach().requires_grad_(True), rather than torch.tensor(sourceTensor).\n",
      "  _attn = torch.tensor(attn.detach(), requires_grad=False)\n",
      "Epoch 29 - train - Loss: 0.532: 100%|██████████| 391/391 [00:32<00:00, 12.92it/s]\n",
      "Epoch 29 - validation - Loss: 0.682: 100%|██████████| 100/100 [00:02<00:00, 41.33it/s]\n",
      "OOD_CIFAR100:   4%|▍         | 4/100 [00:00<00:14,  6.58it/s]\n",
      "OOD_TinyImageNet:   4%|▍         | 4/100 [00:00<00:14,  6.52it/s]\n",
      "OOD_SVHN:   2%|▏         | 4/261 [00:00<00:41,  6.22it/s]\n",
      "Noise_Gaussian: 100%|██████████| 20/20 [00:00<00:00, 24.56it/s]\n",
      "Noise_Rademacher: 100%|██████████| 20/20 [00:00<00:00, 24.47it/s]\n",
      "Noise_Blob: 100%|██████████| 20/20 [00:00<00:00, 25.83it/s]\n",
      "  0%|          | 0/391 [00:00<?, ?it/s]/home/charlie/.virtualenvs/yapwrap/lib/python3.7/site-packages/yapwrap/experiments/impbg_classification.py:90: UserWarning: To copy construct from a tensor, it is recommended to use sourceTensor.clone().detach() or sourceTensor.clone().detach().requires_grad_(True), rather than torch.tensor(sourceTensor).\n",
      "  _attn = torch.tensor(attn.detach(), requires_grad=False)\n",
      "Epoch 30 - train - Loss: 0.522: 100%|██████████| 391/391 [00:32<00:00, 12.91it/s]\n",
      "Epoch 30 - validation - Loss: 0.701: 100%|██████████| 100/100 [00:02<00:00, 41.10it/s]\n",
      "OOD_CIFAR100:   4%|▍         | 4/100 [00:00<00:13,  7.04it/s]\n",
      "OOD_TinyImageNet:   4%|▍         | 4/100 [00:00<00:14,  6.60it/s]\n",
      "OOD_SVHN:   2%|▏         | 4/261 [00:00<00:37,  6.92it/s]\n",
      "Noise_Gaussian: 100%|██████████| 20/20 [00:00<00:00, 23.87it/s]\n",
      "Noise_Rademacher: 100%|██████████| 20/20 [00:00<00:00, 24.07it/s]\n",
      "Noise_Blob: 100%|██████████| 20/20 [00:00<00:00, 25.05it/s]\n",
      "  0%|          | 0/391 [00:00<?, ?it/s]/home/charlie/.virtualenvs/yapwrap/lib/python3.7/site-packages/yapwrap/experiments/impbg_classification.py:90: UserWarning: To copy construct from a tensor, it is recommended to use sourceTensor.clone().detach() or sourceTensor.clone().detach().requires_grad_(True), rather than torch.tensor(sourceTensor).\n",
      "  _attn = torch.tensor(attn.detach(), requires_grad=False)\n",
      "Epoch 31 - train - Loss: 0.425: 100%|██████████| 391/391 [00:32<00:00, 12.95it/s]\n",
      "Epoch 31 - validation - Loss: 0.589: 100%|██████████| 100/100 [00:02<00:00, 41.39it/s]\n",
      "OOD_CIFAR100:   4%|▍         | 4/100 [00:00<00:14,  6.84it/s]\n",
      "OOD_TinyImageNet:   4%|▍         | 4/100 [00:00<00:15,  6.39it/s]\n",
      "OOD_SVHN:   2%|▏         | 4/261 [00:00<00:37,  6.91it/s]\n",
      "Noise_Gaussian: 100%|██████████| 20/20 [00:01<00:00, 18.08it/s]\n",
      "Noise_Rademacher: 100%|██████████| 20/20 [00:00<00:00, 25.43it/s]\n",
      "Noise_Blob: 100%|██████████| 20/20 [00:00<00:00, 25.18it/s]\n",
      "  0%|          | 0/391 [00:00<?, ?it/s]/home/charlie/.virtualenvs/yapwrap/lib/python3.7/site-packages/yapwrap/experiments/impbg_classification.py:90: UserWarning: To copy construct from a tensor, it is recommended to use sourceTensor.clone().detach() or sourceTensor.clone().detach().requires_grad_(True), rather than torch.tensor(sourceTensor).\n",
      "  _attn = torch.tensor(attn.detach(), requires_grad=False)\n",
      "Epoch 32 - train - Loss: 0.679: 100%|██████████| 391/391 [00:32<00:00, 12.94it/s]\n",
      "Epoch 32 - validation - Loss: 0.625: 100%|██████████| 100/100 [00:02<00:00, 41.83it/s]\n"
     ]
    },
    {
     "name": "stderr",
     "output_type": "stream",
     "text": [
      "OOD_CIFAR100:   4%|▍         | 4/100 [00:00<00:14,  6.79it/s]\n",
      "OOD_TinyImageNet:   4%|▍         | 4/100 [00:00<00:15,  6.25it/s]\n",
      "OOD_SVHN:   2%|▏         | 4/261 [00:00<00:36,  7.07it/s]\n",
      "Noise_Gaussian: 100%|██████████| 20/20 [00:00<00:00, 25.78it/s]\n",
      "Noise_Rademacher: 100%|██████████| 20/20 [00:00<00:00, 25.24it/s]\n",
      "Noise_Blob: 100%|██████████| 20/20 [00:00<00:00, 25.58it/s]\n",
      "  0%|          | 0/391 [00:00<?, ?it/s]"
     ]
    },
    {
     "name": "stdout",
     "output_type": "stream",
     "text": [
      "======Saved Best Accuracy Checkpoint======\n"
     ]
    },
    {
     "name": "stderr",
     "output_type": "stream",
     "text": [
      "/home/charlie/.virtualenvs/yapwrap/lib/python3.7/site-packages/yapwrap/experiments/impbg_classification.py:90: UserWarning: To copy construct from a tensor, it is recommended to use sourceTensor.clone().detach() or sourceTensor.clone().detach().requires_grad_(True), rather than torch.tensor(sourceTensor).\n",
      "  _attn = torch.tensor(attn.detach(), requires_grad=False)\n",
      "Epoch 33 - train - Loss: 0.472: 100%|██████████| 391/391 [00:32<00:00, 12.95it/s]\n",
      "Epoch 33 - validation - Loss: 0.824: 100%|██████████| 100/100 [00:02<00:00, 41.83it/s]\n",
      "OOD_CIFAR100:   4%|▍         | 4/100 [00:00<00:13,  6.97it/s]\n",
      "OOD_TinyImageNet:   4%|▍         | 4/100 [00:00<00:14,  6.82it/s]\n",
      "OOD_SVHN:   2%|▏         | 4/261 [00:00<00:35,  7.23it/s]\n",
      "Noise_Gaussian: 100%|██████████| 20/20 [00:00<00:00, 24.29it/s]\n",
      "Noise_Rademacher: 100%|██████████| 20/20 [00:01<00:00, 17.72it/s]\n",
      "Noise_Blob: 100%|██████████| 20/20 [00:00<00:00, 25.31it/s]\n",
      "  0%|          | 0/391 [00:00<?, ?it/s]/home/charlie/.virtualenvs/yapwrap/lib/python3.7/site-packages/yapwrap/experiments/impbg_classification.py:90: UserWarning: To copy construct from a tensor, it is recommended to use sourceTensor.clone().detach() or sourceTensor.clone().detach().requires_grad_(True), rather than torch.tensor(sourceTensor).\n",
      "  _attn = torch.tensor(attn.detach(), requires_grad=False)\n",
      "Epoch 34 - train - Loss: 0.598: 100%|██████████| 391/391 [00:32<00:00, 12.94it/s]\n",
      "Epoch 34 - validation - Loss: 0.689: 100%|██████████| 100/100 [00:02<00:00, 41.38it/s]\n",
      "OOD_CIFAR100:   4%|▍         | 4/100 [00:00<00:15,  6.33it/s]\n",
      "OOD_TinyImageNet:   4%|▍         | 4/100 [00:00<00:14,  6.43it/s]\n",
      "OOD_SVHN:   2%|▏         | 4/261 [00:00<00:38,  6.65it/s]\n",
      "Noise_Gaussian: 100%|██████████| 20/20 [00:00<00:00, 25.46it/s]\n",
      "Noise_Rademacher: 100%|██████████| 20/20 [00:00<00:00, 24.25it/s]\n",
      "Noise_Blob: 100%|██████████| 20/20 [00:00<00:00, 24.75it/s]\n",
      "  0%|          | 0/391 [00:00<?, ?it/s]/home/charlie/.virtualenvs/yapwrap/lib/python3.7/site-packages/yapwrap/experiments/impbg_classification.py:90: UserWarning: To copy construct from a tensor, it is recommended to use sourceTensor.clone().detach() or sourceTensor.clone().detach().requires_grad_(True), rather than torch.tensor(sourceTensor).\n",
      "  _attn = torch.tensor(attn.detach(), requires_grad=False)\n",
      "Epoch 35 - train - Loss: 0.529: 100%|██████████| 391/391 [00:32<00:00, 12.91it/s]\n",
      "Epoch 35 - validation - Loss: 0.622: 100%|██████████| 100/100 [00:02<00:00, 41.70it/s]\n",
      "OOD_CIFAR100:   4%|▍         | 4/100 [00:00<00:13,  7.17it/s]\n",
      "OOD_TinyImageNet:   4%|▍         | 4/100 [00:00<00:13,  6.90it/s]\n",
      "OOD_SVHN:   2%|▏         | 4/261 [00:00<00:35,  7.27it/s]\n",
      "Noise_Gaussian: 100%|██████████| 20/20 [00:00<00:00, 24.85it/s]\n",
      "Noise_Rademacher: 100%|██████████| 20/20 [00:00<00:00, 24.92it/s]\n",
      "Noise_Blob: 100%|██████████| 20/20 [00:01<00:00, 17.81it/s]\n",
      "  0%|          | 0/391 [00:00<?, ?it/s]/home/charlie/.virtualenvs/yapwrap/lib/python3.7/site-packages/yapwrap/experiments/impbg_classification.py:90: UserWarning: To copy construct from a tensor, it is recommended to use sourceTensor.clone().detach() or sourceTensor.clone().detach().requires_grad_(True), rather than torch.tensor(sourceTensor).\n",
      "  _attn = torch.tensor(attn.detach(), requires_grad=False)\n",
      "Epoch 36 - train - Loss: 0.596: 100%|██████████| 391/391 [00:32<00:00, 12.92it/s]\n",
      "Epoch 36 - validation - Loss: 0.656: 100%|██████████| 100/100 [00:02<00:00, 41.52it/s]\n",
      "OOD_CIFAR100:   4%|▍         | 4/100 [00:00<00:14,  6.61it/s]\n",
      "OOD_TinyImageNet:   4%|▍         | 4/100 [00:00<00:14,  6.74it/s]\n",
      "OOD_SVHN:   2%|▏         | 4/261 [00:00<00:36,  7.00it/s]\n",
      "Noise_Gaussian: 100%|██████████| 20/20 [00:00<00:00, 23.71it/s]\n",
      "Noise_Rademacher: 100%|██████████| 20/20 [00:00<00:00, 24.69it/s]\n",
      "Noise_Blob: 100%|██████████| 20/20 [00:00<00:00, 24.62it/s]\n",
      "  0%|          | 0/391 [00:00<?, ?it/s]/home/charlie/.virtualenvs/yapwrap/lib/python3.7/site-packages/yapwrap/experiments/impbg_classification.py:90: UserWarning: To copy construct from a tensor, it is recommended to use sourceTensor.clone().detach() or sourceTensor.clone().detach().requires_grad_(True), rather than torch.tensor(sourceTensor).\n",
      "  _attn = torch.tensor(attn.detach(), requires_grad=False)\n",
      "Epoch 37 - train - Loss: 0.436: 100%|██████████| 391/391 [00:32<00:00, 12.92it/s]\n",
      "Epoch 37 - validation - Loss: 0.667: 100%|██████████| 100/100 [00:02<00:00, 41.49it/s]\n",
      "OOD_CIFAR100:   4%|▍         | 4/100 [00:00<00:13,  6.91it/s]\n",
      "OOD_TinyImageNet:   4%|▍         | 4/100 [00:00<00:14,  6.59it/s]\n",
      "OOD_SVHN:   2%|▏         | 4/261 [00:00<00:37,  6.77it/s]\n",
      "Noise_Gaussian: 100%|██████████| 20/20 [00:00<00:00, 25.07it/s]\n",
      "Noise_Rademacher: 100%|██████████| 20/20 [00:00<00:00, 24.42it/s]\n",
      "Noise_Blob: 100%|██████████| 20/20 [00:00<00:00, 25.70it/s]\n",
      "  0%|          | 0/391 [00:00<?, ?it/s]/home/charlie/.virtualenvs/yapwrap/lib/python3.7/site-packages/yapwrap/experiments/impbg_classification.py:90: UserWarning: To copy construct from a tensor, it is recommended to use sourceTensor.clone().detach() or sourceTensor.clone().detach().requires_grad_(True), rather than torch.tensor(sourceTensor).\n",
      "  _attn = torch.tensor(attn.detach(), requires_grad=False)\n",
      "Epoch 38 - train - Loss: 0.515: 100%|██████████| 391/391 [00:32<00:00, 12.92it/s]\n",
      "Epoch 38 - validation - Loss: 0.631: 100%|██████████| 100/100 [00:02<00:00, 41.96it/s]\n",
      "OOD_CIFAR100:   4%|▍         | 4/100 [00:00<00:14,  6.55it/s]\n",
      "OOD_TinyImageNet:   4%|▍         | 4/100 [00:00<00:14,  6.69it/s]\n",
      "OOD_SVHN:   2%|▏         | 4/261 [00:00<00:36,  7.07it/s]\n",
      "Noise_Gaussian: 100%|██████████| 20/20 [00:00<00:00, 25.23it/s]\n",
      "Noise_Rademacher: 100%|██████████| 20/20 [00:00<00:00, 23.57it/s]\n",
      "Noise_Blob: 100%|██████████| 20/20 [00:00<00:00, 24.80it/s]\n",
      "  0%|          | 0/391 [00:00<?, ?it/s]/home/charlie/.virtualenvs/yapwrap/lib/python3.7/site-packages/yapwrap/experiments/impbg_classification.py:90: UserWarning: To copy construct from a tensor, it is recommended to use sourceTensor.clone().detach() or sourceTensor.clone().detach().requires_grad_(True), rather than torch.tensor(sourceTensor).\n",
      "  _attn = torch.tensor(attn.detach(), requires_grad=False)\n",
      "Epoch 39 - train - Loss: 0.603: 100%|██████████| 391/391 [00:32<00:00, 12.99it/s]\n",
      "Epoch 39 - validation - Loss: 0.630: 100%|██████████| 100/100 [00:02<00:00, 41.79it/s]\n",
      "OOD_CIFAR100:   4%|▍         | 4/100 [00:00<00:14,  6.82it/s]\n",
      "OOD_TinyImageNet:   4%|▍         | 4/100 [00:00<00:14,  6.81it/s]\n",
      "OOD_SVHN:   2%|▏         | 4/261 [00:00<00:38,  6.72it/s]\n",
      "Noise_Gaussian: 100%|██████████| 20/20 [00:00<00:00, 25.10it/s]\n",
      "Noise_Rademacher: 100%|██████████| 20/20 [00:00<00:00, 24.00it/s]\n",
      "Noise_Blob: 100%|██████████| 20/20 [00:00<00:00, 25.36it/s]\n",
      "  0%|          | 0/391 [00:00<?, ?it/s]/home/charlie/.virtualenvs/yapwrap/lib/python3.7/site-packages/yapwrap/experiments/impbg_classification.py:90: UserWarning: To copy construct from a tensor, it is recommended to use sourceTensor.clone().detach() or sourceTensor.clone().detach().requires_grad_(True), rather than torch.tensor(sourceTensor).\n",
      "  _attn = torch.tensor(attn.detach(), requires_grad=False)\n",
      "Epoch 40 - train - Loss: 0.494: 100%|██████████| 391/391 [00:32<00:00, 12.89it/s]\n",
      "Epoch 40 - validation - Loss: 0.675: 100%|██████████| 100/100 [00:02<00:00, 40.31it/s]\n",
      "OOD_CIFAR100:   4%|▍         | 4/100 [00:00<00:13,  6.90it/s]\n",
      "OOD_TinyImageNet:   4%|▍         | 4/100 [00:00<00:14,  6.56it/s]\n",
      "OOD_SVHN:   2%|▏         | 4/261 [00:00<00:37,  6.87it/s]\n",
      "Noise_Gaussian: 100%|██████████| 20/20 [00:00<00:00, 25.23it/s]\n",
      "Noise_Rademacher: 100%|██████████| 20/20 [00:00<00:00, 25.38it/s]\n",
      "Noise_Blob: 100%|██████████| 20/20 [00:00<00:00, 24.58it/s]\n",
      "  0%|          | 0/391 [00:00<?, ?it/s]"
     ]
    },
    {
     "name": "stdout",
     "output_type": "stream",
     "text": [
      "======Saved Best Accuracy Checkpoint======\n"
     ]
    },
    {
     "name": "stderr",
     "output_type": "stream",
     "text": [
      "/home/charlie/.virtualenvs/yapwrap/lib/python3.7/site-packages/yapwrap/experiments/impbg_classification.py:90: UserWarning: To copy construct from a tensor, it is recommended to use sourceTensor.clone().detach() or sourceTensor.clone().detach().requires_grad_(True), rather than torch.tensor(sourceTensor).\n",
      "  _attn = torch.tensor(attn.detach(), requires_grad=False)\n",
      "Epoch 41 - train - Loss: 0.441: 100%|██████████| 391/391 [00:32<00:00, 12.95it/s]\n",
      "Epoch 41 - validation - Loss: 0.823: 100%|██████████| 100/100 [00:02<00:00, 41.41it/s]\n",
      "OOD_CIFAR100:   4%|▍         | 4/100 [00:00<00:14,  6.71it/s]\n",
      "OOD_TinyImageNet:   4%|▍         | 4/100 [00:00<00:14,  6.77it/s]\n",
      "OOD_SVHN:   2%|▏         | 4/261 [00:00<00:35,  7.17it/s]\n",
      "Noise_Gaussian: 100%|██████████| 20/20 [00:00<00:00, 26.06it/s]\n",
      "Noise_Rademacher: 100%|██████████| 20/20 [00:00<00:00, 24.48it/s]\n",
      "Noise_Blob: 100%|██████████| 20/20 [00:00<00:00, 24.66it/s]\n",
      "  0%|          | 0/391 [00:00<?, ?it/s]/home/charlie/.virtualenvs/yapwrap/lib/python3.7/site-packages/yapwrap/experiments/impbg_classification.py:90: UserWarning: To copy construct from a tensor, it is recommended to use sourceTensor.clone().detach() or sourceTensor.clone().detach().requires_grad_(True), rather than torch.tensor(sourceTensor).\n",
      "  _attn = torch.tensor(attn.detach(), requires_grad=False)\n",
      "Epoch 42 - train - Loss: 0.419: 100%|██████████| 391/391 [00:32<00:00, 12.88it/s]\n",
      "Epoch 42 - validation - Loss: 0.776: 100%|██████████| 100/100 [00:02<00:00, 41.31it/s]\n",
      "OOD_CIFAR100:   4%|▍         | 4/100 [00:00<00:13,  6.98it/s]\n",
      "OOD_TinyImageNet:   4%|▍         | 4/100 [00:00<00:14,  6.46it/s]\n",
      "OOD_SVHN:   2%|▏         | 4/261 [00:00<00:36,  7.09it/s]\n",
      "Noise_Gaussian: 100%|██████████| 20/20 [00:00<00:00, 25.36it/s]\n",
      "Noise_Rademacher: 100%|██████████| 20/20 [00:00<00:00, 25.47it/s]\n",
      "Noise_Blob: 100%|██████████| 20/20 [00:00<00:00, 25.34it/s]\n",
      "  0%|          | 0/391 [00:00<?, ?it/s]/home/charlie/.virtualenvs/yapwrap/lib/python3.7/site-packages/yapwrap/experiments/impbg_classification.py:90: UserWarning: To copy construct from a tensor, it is recommended to use sourceTensor.clone().detach() or sourceTensor.clone().detach().requires_grad_(True), rather than torch.tensor(sourceTensor).\n",
      "  _attn = torch.tensor(attn.detach(), requires_grad=False)\n",
      "Epoch 43 - train - Loss: 0.509: 100%|██████████| 391/391 [00:32<00:00, 12.94it/s]\n",
      "Epoch 43 - validation - Loss: 0.817: 100%|██████████| 100/100 [00:02<00:00, 40.86it/s]\n",
      "OOD_CIFAR100:   4%|▍         | 4/100 [00:00<00:13,  7.11it/s]\n",
      "OOD_TinyImageNet:   4%|▍         | 4/100 [00:00<00:14,  6.51it/s]\n",
      "OOD_SVHN:   2%|▏         | 4/261 [00:00<00:36,  7.05it/s]\n",
      "Noise_Gaussian: 100%|██████████| 20/20 [00:00<00:00, 25.04it/s]\n",
      "Noise_Rademacher: 100%|██████████| 20/20 [00:00<00:00, 23.76it/s]\n",
      "Noise_Blob: 100%|██████████| 20/20 [00:00<00:00, 25.15it/s]\n",
      "  0%|          | 0/391 [00:00<?, ?it/s]/home/charlie/.virtualenvs/yapwrap/lib/python3.7/site-packages/yapwrap/experiments/impbg_classification.py:90: UserWarning: To copy construct from a tensor, it is recommended to use sourceTensor.clone().detach() or sourceTensor.clone().detach().requires_grad_(True), rather than torch.tensor(sourceTensor).\n",
      "  _attn = torch.tensor(attn.detach(), requires_grad=False)\n",
      "Epoch 44 - train - Loss: 0.417: 100%|██████████| 391/391 [00:32<00:00, 12.91it/s]\n",
      "Epoch 44 - validation - Loss: 0.647: 100%|██████████| 100/100 [00:02<00:00, 41.85it/s]\n",
      "OOD_CIFAR100:   4%|▍         | 4/100 [00:00<00:13,  7.16it/s]\n",
      "OOD_TinyImageNet:   4%|▍         | 4/100 [00:00<00:15,  6.24it/s]\n",
      "OOD_SVHN:   2%|▏         | 4/261 [00:00<00:43,  5.85it/s]\n",
      "Noise_Gaussian: 100%|██████████| 20/20 [00:00<00:00, 23.78it/s]\n",
      "Noise_Rademacher: 100%|██████████| 20/20 [00:00<00:00, 24.82it/s]\n",
      "Noise_Blob: 100%|██████████| 20/20 [00:00<00:00, 24.45it/s]\n",
      "  0%|          | 0/391 [00:00<?, ?it/s]/home/charlie/.virtualenvs/yapwrap/lib/python3.7/site-packages/yapwrap/experiments/impbg_classification.py:90: UserWarning: To copy construct from a tensor, it is recommended to use sourceTensor.clone().detach() or sourceTensor.clone().detach().requires_grad_(True), rather than torch.tensor(sourceTensor).\n",
      "  _attn = torch.tensor(attn.detach(), requires_grad=False)\n",
      "Epoch 45 - train - Loss: 0.492: 100%|██████████| 391/391 [00:32<00:00, 12.98it/s]\n",
      "Epoch 45 - validation - Loss: 0.674: 100%|██████████| 100/100 [00:02<00:00, 42.07it/s]\n",
      "OOD_CIFAR100:   4%|▍         | 4/100 [00:00<00:14,  6.69it/s]\n",
      "OOD_TinyImageNet:   4%|▍         | 4/100 [00:00<00:14,  6.50it/s]\n",
      "OOD_SVHN:   2%|▏         | 4/261 [00:00<00:36,  7.06it/s]\n",
      "Noise_Gaussian: 100%|██████████| 20/20 [00:00<00:00, 25.58it/s]\n",
      "Noise_Rademacher: 100%|██████████| 20/20 [00:00<00:00, 24.88it/s]\n",
      "Noise_Blob: 100%|██████████| 20/20 [00:00<00:00, 24.58it/s]\n",
      "  0%|          | 0/391 [00:00<?, ?it/s]"
     ]
    },
    {
     "name": "stdout",
     "output_type": "stream",
     "text": [
      "======Saved Best Accuracy Checkpoint======\n"
     ]
    },
    {
     "name": "stderr",
     "output_type": "stream",
     "text": [
      "/home/charlie/.virtualenvs/yapwrap/lib/python3.7/site-packages/yapwrap/experiments/impbg_classification.py:90: UserWarning: To copy construct from a tensor, it is recommended to use sourceTensor.clone().detach() or sourceTensor.clone().detach().requires_grad_(True), rather than torch.tensor(sourceTensor).\n",
      "  _attn = torch.tensor(attn.detach(), requires_grad=False)\n",
      "Epoch 46 - train - Loss: 0.373: 100%|██████████| 391/391 [00:32<00:00, 12.97it/s]\n",
      "Epoch 46 - validation - Loss: 0.606: 100%|██████████| 100/100 [00:02<00:00, 41.71it/s]\n",
      "OOD_CIFAR100:   4%|▍         | 4/100 [00:00<00:13,  6.90it/s]\n",
      "OOD_TinyImageNet:   4%|▍         | 4/100 [00:00<00:15,  6.25it/s]\n",
      "OOD_SVHN:   2%|▏         | 4/261 [00:00<00:37,  6.84it/s]\n",
      "Noise_Gaussian: 100%|██████████| 20/20 [00:00<00:00, 24.13it/s]\n",
      "Noise_Rademacher: 100%|██████████| 20/20 [00:00<00:00,  4.79it/s]\n",
      "Noise_Blob: 100%|██████████| 20/20 [00:00<00:00, 24.24it/s]\n",
      "  0%|          | 0/391 [00:00<?, ?it/s]"
     ]
    },
    {
     "name": "stdout",
     "output_type": "stream",
     "text": [
      "======Saved Best Accuracy Checkpoint======\n"
     ]
    },
    {
     "name": "stderr",
     "output_type": "stream",
     "text": [
      "/home/charlie/.virtualenvs/yapwrap/lib/python3.7/site-packages/yapwrap/experiments/impbg_classification.py:90: UserWarning: To copy construct from a tensor, it is recommended to use sourceTensor.clone().detach() or sourceTensor.clone().detach().requires_grad_(True), rather than torch.tensor(sourceTensor).\n",
      "  _attn = torch.tensor(attn.detach(), requires_grad=False)\n",
      "Epoch 47 - train - Loss: 0.359: 100%|██████████| 391/391 [00:32<00:00, 12.70it/s]\n",
      "Epoch 47 - validation - Loss: 0.505: 100%|██████████| 100/100 [00:02<00:00, 41.73it/s]\n",
      "OOD_CIFAR100:   4%|▍         | 4/100 [00:00<00:14,  6.81it/s]\n",
      "OOD_TinyImageNet:   4%|▍         | 4/100 [00:00<00:15,  6.20it/s]\n",
      "OOD_SVHN:   2%|▏         | 4/261 [00:00<00:37,  6.92it/s]\n",
      "Noise_Gaussian: 100%|██████████| 20/20 [00:00<00:00, 25.83it/s]\n",
      "Noise_Rademacher: 100%|██████████| 20/20 [00:00<00:00, 25.56it/s]\n",
      "Noise_Blob: 100%|██████████| 20/20 [00:00<00:00, 25.27it/s]\n",
      "  0%|          | 0/391 [00:00<?, ?it/s]/home/charlie/.virtualenvs/yapwrap/lib/python3.7/site-packages/yapwrap/experiments/impbg_classification.py:90: UserWarning: To copy construct from a tensor, it is recommended to use sourceTensor.clone().detach() or sourceTensor.clone().detach().requires_grad_(True), rather than torch.tensor(sourceTensor).\n",
      "  _attn = torch.tensor(attn.detach(), requires_grad=False)\n",
      "Epoch 48 - train - Loss: 0.426: 100%|██████████| 391/391 [00:32<00:00, 12.92it/s]\n",
      "Epoch 48 - validation - Loss: 0.683: 100%|██████████| 100/100 [00:02<00:00, 42.00it/s]\n",
      "OOD_CIFAR100:   4%|▍         | 4/100 [00:00<00:13,  7.32it/s]\n",
      "OOD_TinyImageNet:   4%|▍         | 4/100 [00:00<00:14,  6.60it/s]\n",
      "OOD_SVHN:   2%|▏         | 4/261 [00:00<00:36,  6.98it/s]\n",
      "Noise_Gaussian: 100%|██████████| 20/20 [00:00<00:00, 24.79it/s]\n",
      "Noise_Rademacher: 100%|██████████| 20/20 [00:00<00:00, 25.48it/s]\n",
      "Noise_Blob: 100%|██████████| 20/20 [00:00<00:00, 25.42it/s]\n",
      "  0%|          | 0/391 [00:00<?, ?it/s]"
     ]
    },
    {
     "name": "stdout",
     "output_type": "stream",
     "text": [
      "======Saved Best Accuracy Checkpoint======\n"
     ]
    },
    {
     "name": "stderr",
     "output_type": "stream",
     "text": [
      "/home/charlie/.virtualenvs/yapwrap/lib/python3.7/site-packages/yapwrap/experiments/impbg_classification.py:90: UserWarning: To copy construct from a tensor, it is recommended to use sourceTensor.clone().detach() or sourceTensor.clone().detach().requires_grad_(True), rather than torch.tensor(sourceTensor).\n",
      "  _attn = torch.tensor(attn.detach(), requires_grad=False)\n",
      "Epoch 49 - train - Loss: 0.551: 100%|██████████| 391/391 [00:32<00:00, 12.94it/s]\n",
      "Epoch 49 - validation - Loss: 0.652: 100%|██████████| 100/100 [00:02<00:00, 42.22it/s]\n",
      "OOD_CIFAR100:   4%|▍         | 4/100 [00:00<00:13,  7.12it/s]\n",
      "OOD_TinyImageNet:   4%|▍         | 4/100 [00:00<00:14,  6.70it/s]\n",
      "OOD_SVHN:   2%|▏         | 4/261 [00:00<00:38,  6.72it/s]\n",
      "Noise_Gaussian: 100%|██████████| 20/20 [00:00<00:00, 24.64it/s]\n",
      "Noise_Rademacher: 100%|██████████| 20/20 [00:00<00:00, 25.36it/s]\n",
      "Noise_Blob: 100%|██████████| 20/20 [00:00<00:00, 24.51it/s]\n",
      "  0%|          | 0/391 [00:00<?, ?it/s]"
     ]
    },
    {
     "name": "stdout",
     "output_type": "stream",
     "text": [
      "======Saved Best Accuracy Checkpoint======\n"
     ]
    },
    {
     "name": "stderr",
     "output_type": "stream",
     "text": [
      "/home/charlie/.virtualenvs/yapwrap/lib/python3.7/site-packages/yapwrap/experiments/impbg_classification.py:90: UserWarning: To copy construct from a tensor, it is recommended to use sourceTensor.clone().detach() or sourceTensor.clone().detach().requires_grad_(True), rather than torch.tensor(sourceTensor).\n",
      "  _attn = torch.tensor(attn.detach(), requires_grad=False)\n",
      "Epoch 50 - train - Loss: 0.528: 100%|██████████| 391/391 [00:32<00:00, 12.93it/s]\n",
      "Epoch 50 - validation - Loss: 0.605: 100%|██████████| 100/100 [00:02<00:00, 41.99it/s]\n",
      "OOD_CIFAR100:   4%|▍         | 4/100 [00:00<00:13,  7.21it/s]\n",
      "OOD_TinyImageNet:   4%|▍         | 4/100 [00:00<00:14,  6.45it/s]\n",
      "OOD_SVHN:   2%|▏         | 4/261 [00:00<00:36,  7.09it/s]\n",
      "Noise_Gaussian: 100%|██████████| 20/20 [00:00<00:00, 25.80it/s]\n",
      "Noise_Rademacher: 100%|██████████| 20/20 [00:00<00:00, 25.55it/s]\n",
      "Noise_Blob: 100%|██████████| 20/20 [00:00<00:00, 26.24it/s]\n",
      "  0%|          | 0/391 [00:00<?, ?it/s]/home/charlie/.virtualenvs/yapwrap/lib/python3.7/site-packages/yapwrap/experiments/impbg_classification.py:90: UserWarning: To copy construct from a tensor, it is recommended to use sourceTensor.clone().detach() or sourceTensor.clone().detach().requires_grad_(True), rather than torch.tensor(sourceTensor).\n",
      "  _attn = torch.tensor(attn.detach(), requires_grad=False)\n",
      "Epoch 51 - train - Loss: 0.424: 100%|██████████| 391/391 [00:32<00:00, 12.96it/s]\n",
      "Epoch 51 - validation - Loss: 0.610: 100%|██████████| 100/100 [00:02<00:00, 39.95it/s]\n",
      "OOD_CIFAR100:   4%|▍         | 4/100 [00:00<00:14,  6.84it/s]\n",
      "OOD_TinyImageNet:   4%|▍         | 4/100 [00:00<00:14,  6.50it/s]\n",
      "OOD_SVHN:   2%|▏         | 4/261 [00:00<00:38,  6.75it/s]\n",
      "Noise_Gaussian: 100%|██████████| 20/20 [00:00<00:00, 25.11it/s]\n",
      "Noise_Rademacher: 100%|██████████| 20/20 [00:00<00:00, 24.08it/s]\n",
      "Noise_Blob: 100%|██████████| 20/20 [00:00<00:00, 25.48it/s]\n",
      "  0%|          | 0/391 [00:00<?, ?it/s]/home/charlie/.virtualenvs/yapwrap/lib/python3.7/site-packages/yapwrap/experiments/impbg_classification.py:90: UserWarning: To copy construct from a tensor, it is recommended to use sourceTensor.clone().detach() or sourceTensor.clone().detach().requires_grad_(True), rather than torch.tensor(sourceTensor).\n",
      "  _attn = torch.tensor(attn.detach(), requires_grad=False)\n",
      "Epoch 52 - train - Loss: 0.394: 100%|██████████| 391/391 [00:32<00:00, 12.93it/s]\n",
      "Epoch 52 - validation - Loss: 0.632: 100%|██████████| 100/100 [00:02<00:00, 41.89it/s]\n",
      "OOD_CIFAR100:   4%|▍         | 4/100 [00:00<00:13,  6.86it/s]\n",
      "OOD_TinyImageNet:   4%|▍         | 4/100 [00:00<00:14,  6.57it/s]\n",
      "OOD_SVHN:   2%|▏         | 4/261 [00:00<00:37,  6.77it/s]\n",
      "Noise_Gaussian: 100%|██████████| 20/20 [00:00<00:00, 24.60it/s]\n",
      "Noise_Rademacher: 100%|██████████| 20/20 [00:00<00:00, 25.48it/s]\n",
      "Noise_Blob: 100%|██████████| 20/20 [00:00<00:00, 24.70it/s]\n",
      "  0%|          | 0/391 [00:00<?, ?it/s]/home/charlie/.virtualenvs/yapwrap/lib/python3.7/site-packages/yapwrap/experiments/impbg_classification.py:90: UserWarning: To copy construct from a tensor, it is recommended to use sourceTensor.clone().detach() or sourceTensor.clone().detach().requires_grad_(True), rather than torch.tensor(sourceTensor).\n",
      "  _attn = torch.tensor(attn.detach(), requires_grad=False)\n",
      "Epoch 53 - train - Loss: 0.408: 100%|██████████| 391/391 [00:32<00:00, 12.96it/s]\n",
      "Epoch 53 - validation - Loss: 0.482: 100%|██████████| 100/100 [00:02<00:00, 41.87it/s]\n",
      "OOD_CIFAR100:   4%|▍         | 4/100 [00:00<00:12,  7.48it/s]\n",
      "OOD_TinyImageNet:   4%|▍         | 4/100 [00:00<00:14,  6.83it/s]\n",
      "OOD_SVHN:   2%|▏         | 4/261 [00:00<00:35,  7.31it/s]\n",
      "Noise_Gaussian: 100%|██████████| 20/20 [00:00<00:00, 25.32it/s]\n",
      "Noise_Rademacher: 100%|██████████| 20/20 [00:00<00:00, 24.26it/s]\n",
      "Noise_Blob: 100%|██████████| 20/20 [00:00<00:00, 25.03it/s]\n",
      "  0%|          | 0/391 [00:00<?, ?it/s]/home/charlie/.virtualenvs/yapwrap/lib/python3.7/site-packages/yapwrap/experiments/impbg_classification.py:90: UserWarning: To copy construct from a tensor, it is recommended to use sourceTensor.clone().detach() or sourceTensor.clone().detach().requires_grad_(True), rather than torch.tensor(sourceTensor).\n",
      "  _attn = torch.tensor(attn.detach(), requires_grad=False)\n",
      "Epoch 54 - train - Loss: 0.335: 100%|██████████| 391/391 [00:32<00:00, 12.97it/s]\n",
      "Epoch 54 - validation - Loss: 0.619: 100%|██████████| 100/100 [00:02<00:00, 42.07it/s]\n",
      "OOD_CIFAR100:   4%|▍         | 4/100 [00:00<00:13,  7.17it/s]\n",
      "OOD_TinyImageNet:   4%|▍         | 4/100 [00:00<00:14,  6.45it/s]\n",
      "OOD_SVHN:   2%|▏         | 4/261 [00:00<00:37,  6.89it/s]\n",
      "Noise_Gaussian: 100%|██████████| 20/20 [00:00<00:00, 25.89it/s]\n",
      "Noise_Rademacher: 100%|██████████| 20/20 [00:00<00:00, 25.33it/s]\n",
      "Noise_Blob: 100%|██████████| 20/20 [00:00<00:00, 24.27it/s]\n",
      "  0%|          | 0/391 [00:00<?, ?it/s]"
     ]
    },
    {
     "name": "stdout",
     "output_type": "stream",
     "text": [
      "======Saved Best Accuracy Checkpoint======\n"
     ]
    },
    {
     "name": "stderr",
     "output_type": "stream",
     "text": [
      "/home/charlie/.virtualenvs/yapwrap/lib/python3.7/site-packages/yapwrap/experiments/impbg_classification.py:90: UserWarning: To copy construct from a tensor, it is recommended to use sourceTensor.clone().detach() or sourceTensor.clone().detach().requires_grad_(True), rather than torch.tensor(sourceTensor).\n",
      "  _attn = torch.tensor(attn.detach(), requires_grad=False)\n",
      "Epoch 55 - train - Loss: 0.485: 100%|██████████| 391/391 [00:32<00:00, 12.94it/s]\n",
      "Epoch 55 - validation - Loss: 0.578: 100%|██████████| 100/100 [00:02<00:00, 41.99it/s]\n",
      "OOD_CIFAR100:   4%|▍         | 4/100 [00:00<00:14,  6.81it/s]\n",
      "OOD_TinyImageNet:   4%|▍         | 4/100 [00:00<00:14,  6.55it/s]\n",
      "OOD_SVHN:   2%|▏         | 4/261 [00:00<00:36,  7.09it/s]\n",
      "Noise_Gaussian: 100%|██████████| 20/20 [00:01<00:00, 17.87it/s]\n",
      "Noise_Rademacher: 100%|██████████| 20/20 [00:00<00:00, 24.30it/s]\n",
      "Noise_Blob: 100%|██████████| 20/20 [00:00<00:00, 24.85it/s]\n",
      "  0%|          | 0/391 [00:00<?, ?it/s]/home/charlie/.virtualenvs/yapwrap/lib/python3.7/site-packages/yapwrap/experiments/impbg_classification.py:90: UserWarning: To copy construct from a tensor, it is recommended to use sourceTensor.clone().detach() or sourceTensor.clone().detach().requires_grad_(True), rather than torch.tensor(sourceTensor).\n",
      "  _attn = torch.tensor(attn.detach(), requires_grad=False)\n",
      "Epoch 56 - train - Loss: 0.375: 100%|██████████| 391/391 [00:32<00:00, 12.95it/s]\n",
      "Epoch 56 - validation - Loss: 0.620: 100%|██████████| 100/100 [00:02<00:00, 41.41it/s]\n",
      "OOD_CIFAR100:   4%|▍         | 4/100 [00:00<00:13,  7.03it/s]\n",
      "OOD_TinyImageNet:   4%|▍         | 4/100 [00:00<00:15,  6.35it/s]\n",
      "OOD_SVHN:   2%|▏         | 4/261 [00:00<00:36,  7.12it/s]\n",
      "Noise_Gaussian: 100%|██████████| 20/20 [00:00<00:00, 23.55it/s]\n",
      "Noise_Rademacher: 100%|██████████| 20/20 [00:00<00:00, 24.54it/s]\n",
      "Noise_Blob: 100%|██████████| 20/20 [00:00<00:00, 24.35it/s]\n",
      "  0%|          | 0/391 [00:00<?, ?it/s]/home/charlie/.virtualenvs/yapwrap/lib/python3.7/site-packages/yapwrap/experiments/impbg_classification.py:90: UserWarning: To copy construct from a tensor, it is recommended to use sourceTensor.clone().detach() or sourceTensor.clone().detach().requires_grad_(True), rather than torch.tensor(sourceTensor).\n",
      "  _attn = torch.tensor(attn.detach(), requires_grad=False)\n",
      "Epoch 57 - train - Loss: 0.392: 100%|██████████| 391/391 [00:32<00:00, 12.94it/s]\n",
      "Epoch 57 - validation - Loss: 0.564: 100%|██████████| 100/100 [00:02<00:00, 42.00it/s]\n",
      "OOD_CIFAR100:   4%|▍         | 4/100 [00:00<00:13,  6.99it/s]\n",
      "OOD_TinyImageNet:   4%|▍         | 4/100 [00:00<00:14,  6.73it/s]\n",
      "OOD_SVHN:   2%|▏         | 4/261 [00:00<00:38,  6.66it/s]\n",
      "Noise_Gaussian: 100%|██████████| 20/20 [00:00<00:00, 24.76it/s]\n",
      "Noise_Rademacher: 100%|██████████| 20/20 [00:00<00:00, 25.95it/s]\n",
      "Noise_Blob: 100%|██████████| 20/20 [00:01<00:00, 17.70it/s]\n",
      "  0%|          | 0/391 [00:00<?, ?it/s]"
     ]
    },
    {
     "name": "stdout",
     "output_type": "stream",
     "text": [
      "======Saved Best Accuracy Checkpoint======\n"
     ]
    },
    {
     "name": "stderr",
     "output_type": "stream",
     "text": [
      "/home/charlie/.virtualenvs/yapwrap/lib/python3.7/site-packages/yapwrap/experiments/impbg_classification.py:90: UserWarning: To copy construct from a tensor, it is recommended to use sourceTensor.clone().detach() or sourceTensor.clone().detach().requires_grad_(True), rather than torch.tensor(sourceTensor).\n",
      "  _attn = torch.tensor(attn.detach(), requires_grad=False)\n",
      "Epoch 58 - train - Loss: 0.319: 100%|██████████| 391/391 [00:32<00:00, 12.94it/s]\n",
      "Epoch 58 - validation - Loss: 0.718: 100%|██████████| 100/100 [00:02<00:00, 41.66it/s]\n",
      "OOD_CIFAR100:   4%|▍         | 4/100 [00:00<00:13,  6.98it/s]\n",
      "OOD_TinyImageNet:   4%|▍         | 4/100 [00:00<00:14,  6.42it/s]\n",
      "OOD_SVHN:   2%|▏         | 4/261 [00:00<00:37,  6.93it/s]\n",
      "Noise_Gaussian: 100%|██████████| 20/20 [00:00<00:00, 25.32it/s]\n",
      "Noise_Rademacher: 100%|██████████| 20/20 [00:00<00:00, 25.50it/s]\n",
      "Noise_Blob: 100%|██████████| 20/20 [00:00<00:00, 25.73it/s]\n",
      "  0%|          | 0/391 [00:00<?, ?it/s]/home/charlie/.virtualenvs/yapwrap/lib/python3.7/site-packages/yapwrap/experiments/impbg_classification.py:90: UserWarning: To copy construct from a tensor, it is recommended to use sourceTensor.clone().detach() or sourceTensor.clone().detach().requires_grad_(True), rather than torch.tensor(sourceTensor).\n",
      "  _attn = torch.tensor(attn.detach(), requires_grad=False)\n",
      "Epoch 59 - train - Loss: 0.511: 100%|██████████| 391/391 [00:32<00:00, 12.99it/s]\n",
      "Epoch 59 - validation - Loss: 0.554: 100%|██████████| 100/100 [00:02<00:00, 42.16it/s]\n",
      "OOD_CIFAR100:   4%|▍         | 4/100 [00:00<00:14,  6.74it/s]\n",
      "OOD_TinyImageNet:   4%|▍         | 4/100 [00:00<00:14,  6.75it/s]\n",
      "OOD_SVHN:   2%|▏         | 4/261 [00:00<00:37,  6.89it/s]\n",
      "Noise_Gaussian: 100%|██████████| 20/20 [00:00<00:00, 24.09it/s]\n",
      "Noise_Rademacher: 100%|██████████| 20/20 [00:00<00:00, 24.47it/s]\n",
      "Noise_Blob: 100%|██████████| 20/20 [00:00<00:00, 24.71it/s]\n",
      "  0%|          | 0/391 [00:00<?, ?it/s]/home/charlie/.virtualenvs/yapwrap/lib/python3.7/site-packages/yapwrap/experiments/impbg_classification.py:90: UserWarning: To copy construct from a tensor, it is recommended to use sourceTensor.clone().detach() or sourceTensor.clone().detach().requires_grad_(True), rather than torch.tensor(sourceTensor).\n",
      "  _attn = torch.tensor(attn.detach(), requires_grad=False)\n",
      "Epoch 60 - train - Loss: 0.480: 100%|██████████| 391/391 [00:32<00:00, 12.97it/s]\n",
      "Epoch 60 - validation - Loss: 0.472: 100%|██████████| 100/100 [00:02<00:00, 40.71it/s]\n",
      "OOD_CIFAR100:   4%|▍         | 4/100 [00:00<00:13,  6.92it/s]\n",
      "OOD_TinyImageNet:   4%|▍         | 4/100 [00:00<00:14,  6.53it/s]\n",
      "OOD_SVHN:   2%|▏         | 4/261 [00:00<00:36,  7.00it/s]\n",
      "Noise_Gaussian: 100%|██████████| 20/20 [00:00<00:00, 25.78it/s]\n",
      "Noise_Rademacher: 100%|██████████| 20/20 [00:00<00:00, 24.43it/s]\n",
      "Noise_Blob: 100%|██████████| 20/20 [00:00<00:00, 25.04it/s]\n",
      "  0%|          | 0/391 [00:00<?, ?it/s]"
     ]
    },
    {
     "name": "stdout",
     "output_type": "stream",
     "text": [
      "======Saved Best Accuracy Checkpoint======\n"
     ]
    },
    {
     "name": "stderr",
     "output_type": "stream",
     "text": [
      "/home/charlie/.virtualenvs/yapwrap/lib/python3.7/site-packages/yapwrap/experiments/impbg_classification.py:90: UserWarning: To copy construct from a tensor, it is recommended to use sourceTensor.clone().detach() or sourceTensor.clone().detach().requires_grad_(True), rather than torch.tensor(sourceTensor).\n",
      "  _attn = torch.tensor(attn.detach(), requires_grad=False)\n",
      "Epoch 61 - train - Loss: 0.420: 100%|██████████| 391/391 [00:32<00:00, 12.94it/s]\n",
      "Epoch 61 - validation - Loss: 0.515: 100%|██████████| 100/100 [00:02<00:00, 42.28it/s]\n",
      "OOD_CIFAR100:   4%|▍         | 4/100 [00:00<00:13,  7.02it/s]\n",
      "OOD_TinyImageNet:   4%|▍         | 4/100 [00:00<00:14,  6.55it/s]\n",
      "OOD_SVHN:   2%|▏         | 4/261 [00:00<00:36,  6.96it/s]\n",
      "Noise_Gaussian: 100%|██████████| 20/20 [00:00<00:00, 25.16it/s]\n",
      "Noise_Rademacher: 100%|██████████| 20/20 [00:00<00:00, 24.39it/s]\n",
      "Noise_Blob: 100%|██████████| 20/20 [00:00<00:00, 24.24it/s]\n",
      "  0%|          | 0/391 [00:00<?, ?it/s]/home/charlie/.virtualenvs/yapwrap/lib/python3.7/site-packages/yapwrap/experiments/impbg_classification.py:90: UserWarning: To copy construct from a tensor, it is recommended to use sourceTensor.clone().detach() or sourceTensor.clone().detach().requires_grad_(True), rather than torch.tensor(sourceTensor).\n",
      "  _attn = torch.tensor(attn.detach(), requires_grad=False)\n",
      "Epoch 62 - train - Loss: 0.383: 100%|██████████| 391/391 [00:32<00:00, 12.97it/s]\n",
      "Epoch 62 - validation - Loss: 0.529: 100%|██████████| 100/100 [00:02<00:00, 41.73it/s]\n",
      "OOD_CIFAR100:   4%|▍         | 4/100 [00:00<00:13,  7.18it/s]\n",
      "OOD_TinyImageNet:   4%|▍         | 4/100 [00:00<00:14,  6.42it/s]\n",
      "OOD_SVHN:   2%|▏         | 4/261 [00:00<00:37,  6.87it/s]\n",
      "Noise_Gaussian: 100%|██████████| 20/20 [00:00<00:00, 23.49it/s]\n",
      "Noise_Rademacher: 100%|██████████| 20/20 [00:00<00:00, 24.71it/s]\n",
      "Noise_Blob: 100%|██████████| 20/20 [00:00<00:00, 24.71it/s]\n",
      "  0%|          | 0/391 [00:00<?, ?it/s]/home/charlie/.virtualenvs/yapwrap/lib/python3.7/site-packages/yapwrap/experiments/impbg_classification.py:90: UserWarning: To copy construct from a tensor, it is recommended to use sourceTensor.clone().detach() or sourceTensor.clone().detach().requires_grad_(True), rather than torch.tensor(sourceTensor).\n",
      "  _attn = torch.tensor(attn.detach(), requires_grad=False)\n",
      "Epoch 63 - train - Loss: 0.298: 100%|██████████| 391/391 [00:32<00:00, 12.95it/s]\n",
      "Epoch 63 - validation - Loss: 0.582: 100%|██████████| 100/100 [00:02<00:00, 42.20it/s]\n",
      "OOD_CIFAR100:   4%|▍         | 4/100 [00:00<00:13,  7.12it/s]\n",
      "OOD_TinyImageNet:   4%|▍         | 4/100 [00:00<00:13,  6.86it/s]\n",
      "OOD_SVHN:   2%|▏         | 4/261 [00:00<00:38,  6.69it/s]\n",
      "Noise_Gaussian: 100%|██████████| 20/20 [00:00<00:00, 26.02it/s]\n",
      "Noise_Rademacher: 100%|██████████| 20/20 [00:00<00:00, 24.97it/s]\n",
      "Noise_Blob: 100%|██████████| 20/20 [00:00<00:00, 25.98it/s]\n",
      "  0%|          | 0/391 [00:00<?, ?it/s]/home/charlie/.virtualenvs/yapwrap/lib/python3.7/site-packages/yapwrap/experiments/impbg_classification.py:90: UserWarning: To copy construct from a tensor, it is recommended to use sourceTensor.clone().detach() or sourceTensor.clone().detach().requires_grad_(True), rather than torch.tensor(sourceTensor).\n",
      "  _attn = torch.tensor(attn.detach(), requires_grad=False)\n",
      "Epoch 64 - train - Loss: 0.294: 100%|██████████| 391/391 [00:32<00:00, 12.95it/s]\n",
      "Epoch 64 - validation - Loss: 0.584: 100%|██████████| 100/100 [00:02<00:00, 42.04it/s]\n",
      "OOD_CIFAR100:   4%|▍         | 4/100 [00:00<00:14,  6.63it/s]\n",
      "OOD_TinyImageNet:   4%|▍         | 4/100 [00:00<00:16,  5.90it/s]\n",
      "OOD_SVHN:   2%|▏         | 4/261 [00:00<00:39,  6.56it/s]\n",
      "Noise_Gaussian: 100%|██████████| 20/20 [00:01<00:00, 16.99it/s]\n",
      "Noise_Rademacher: 100%|██████████| 20/20 [00:00<00:00, 25.56it/s]\n",
      "Noise_Blob: 100%|██████████| 20/20 [00:00<00:00, 25.15it/s]\n",
      "  0%|          | 0/391 [00:00<?, ?it/s]/home/charlie/.virtualenvs/yapwrap/lib/python3.7/site-packages/yapwrap/experiments/impbg_classification.py:90: UserWarning: To copy construct from a tensor, it is recommended to use sourceTensor.clone().detach() or sourceTensor.clone().detach().requires_grad_(True), rather than torch.tensor(sourceTensor).\n",
      "  _attn = torch.tensor(attn.detach(), requires_grad=False)\n",
      "Epoch 65 - train - Loss: 0.382: 100%|██████████| 391/391 [00:32<00:00, 12.95it/s]\n",
      "Epoch 65 - validation - Loss: 0.543: 100%|██████████| 100/100 [00:02<00:00, 41.67it/s]\n",
      "OOD_CIFAR100:   4%|▍         | 4/100 [00:00<00:14,  6.72it/s]\n",
      "OOD_TinyImageNet:   4%|▍         | 4/100 [00:00<00:14,  6.45it/s]\n",
      "OOD_SVHN:   2%|▏         | 4/261 [00:00<00:35,  7.33it/s]\n",
      "Noise_Gaussian: 100%|██████████| 20/20 [00:00<00:00, 25.17it/s]\n",
      "Noise_Rademacher: 100%|██████████| 20/20 [00:00<00:00, 24.79it/s]\n",
      "Noise_Blob: 100%|██████████| 20/20 [00:00<00:00, 24.50it/s]\n",
      "  0%|          | 0/391 [00:00<?, ?it/s]/home/charlie/.virtualenvs/yapwrap/lib/python3.7/site-packages/yapwrap/experiments/impbg_classification.py:90: UserWarning: To copy construct from a tensor, it is recommended to use sourceTensor.clone().detach() or sourceTensor.clone().detach().requires_grad_(True), rather than torch.tensor(sourceTensor).\n",
      "  _attn = torch.tensor(attn.detach(), requires_grad=False)\n",
      "Epoch 66 - train - Loss: 0.399: 100%|██████████| 391/391 [00:32<00:00, 12.91it/s]\n",
      "Epoch 66 - validation - Loss: 0.518: 100%|██████████| 100/100 [00:02<00:00, 42.01it/s]\n",
      "OOD_CIFAR100:   4%|▍         | 4/100 [00:00<00:14,  6.72it/s]\n",
      "OOD_TinyImageNet:   4%|▍         | 4/100 [00:00<00:14,  6.63it/s]\n",
      "OOD_SVHN:   2%|▏         | 4/261 [00:00<00:37,  6.77it/s]\n",
      "Noise_Gaussian: 100%|██████████| 20/20 [00:00<00:00, 25.99it/s]\n",
      "Noise_Rademacher: 100%|██████████| 20/20 [00:00<00:00, 24.68it/s]\n",
      "Noise_Blob: 100%|██████████| 20/20 [00:01<00:00, 18.51it/s]\n",
      "  0%|          | 0/391 [00:00<?, ?it/s]/home/charlie/.virtualenvs/yapwrap/lib/python3.7/site-packages/yapwrap/experiments/impbg_classification.py:90: UserWarning: To copy construct from a tensor, it is recommended to use sourceTensor.clone().detach() or sourceTensor.clone().detach().requires_grad_(True), rather than torch.tensor(sourceTensor).\n",
      "  _attn = torch.tensor(attn.detach(), requires_grad=False)\n",
      "Epoch 67 - train - Loss: 0.325: 100%|██████████| 391/391 [00:32<00:00, 12.96it/s]\n",
      "Epoch 67 - validation - Loss: 0.584: 100%|██████████| 100/100 [00:02<00:00, 42.62it/s]\n",
      "OOD_CIFAR100:   4%|▍         | 4/100 [00:00<00:14,  6.85it/s]\n",
      "OOD_TinyImageNet:   4%|▍         | 4/100 [00:00<00:15,  6.18it/s]\n",
      "OOD_SVHN:   2%|▏         | 4/261 [00:00<00:37,  6.78it/s]\n",
      "Noise_Gaussian: 100%|██████████| 20/20 [00:00<00:00, 24.33it/s]\n",
      "Noise_Rademacher: 100%|██████████| 20/20 [00:00<00:00, 23.66it/s]\n",
      "Noise_Blob: 100%|██████████| 20/20 [00:00<00:00, 25.09it/s]\n",
      "  0%|          | 0/391 [00:00<?, ?it/s]"
     ]
    },
    {
     "name": "stdout",
     "output_type": "stream",
     "text": [
      "======Saved Best Accuracy Checkpoint======\n"
     ]
    },
    {
     "name": "stderr",
     "output_type": "stream",
     "text": [
      "/home/charlie/.virtualenvs/yapwrap/lib/python3.7/site-packages/yapwrap/experiments/impbg_classification.py:90: UserWarning: To copy construct from a tensor, it is recommended to use sourceTensor.clone().detach() or sourceTensor.clone().detach().requires_grad_(True), rather than torch.tensor(sourceTensor).\n",
      "  _attn = torch.tensor(attn.detach(), requires_grad=False)\n",
      "Epoch 68 - train - Loss: 0.307: 100%|██████████| 391/391 [00:32<00:00, 12.93it/s]\n",
      "Epoch 68 - validation - Loss: 0.486: 100%|██████████| 100/100 [00:02<00:00, 42.15it/s]\n",
      "OOD_CIFAR100:   4%|▍         | 4/100 [00:00<00:14,  6.74it/s]\n",
      "OOD_TinyImageNet:   4%|▍         | 4/100 [00:00<00:13,  6.97it/s]\n",
      "OOD_SVHN:   2%|▏         | 4/261 [00:00<00:35,  7.16it/s]\n",
      "Noise_Gaussian: 100%|██████████| 20/20 [00:00<00:00, 25.91it/s]\n",
      "Noise_Rademacher: 100%|██████████| 20/20 [00:00<00:00, 25.68it/s]\n",
      "Noise_Blob: 100%|██████████| 20/20 [00:00<00:00, 25.20it/s]\n",
      "  0%|          | 0/391 [00:00<?, ?it/s]"
     ]
    },
    {
     "name": "stdout",
     "output_type": "stream",
     "text": [
      "======Saved Best Accuracy Checkpoint======\n"
     ]
    },
    {
     "name": "stderr",
     "output_type": "stream",
     "text": [
      "/home/charlie/.virtualenvs/yapwrap/lib/python3.7/site-packages/yapwrap/experiments/impbg_classification.py:90: UserWarning: To copy construct from a tensor, it is recommended to use sourceTensor.clone().detach() or sourceTensor.clone().detach().requires_grad_(True), rather than torch.tensor(sourceTensor).\n",
      "  _attn = torch.tensor(attn.detach(), requires_grad=False)\n",
      "Epoch 69 - train - Loss: 0.391: 100%|██████████| 391/391 [00:32<00:00, 12.94it/s]\n",
      "Epoch 69 - validation - Loss: 0.565: 100%|██████████| 100/100 [00:02<00:00, 41.14it/s]\n",
      "OOD_CIFAR100:   4%|▍         | 4/100 [00:00<00:14,  6.77it/s]\n",
      "OOD_TinyImageNet:   4%|▍         | 4/100 [00:00<00:14,  6.83it/s]\n",
      "OOD_SVHN:   2%|▏         | 4/261 [00:00<00:36,  7.05it/s]\n",
      "Noise_Gaussian: 100%|██████████| 20/20 [00:00<00:00, 24.27it/s]\n",
      "Noise_Rademacher: 100%|██████████| 20/20 [00:00<00:00, 24.90it/s]\n",
      "Noise_Blob: 100%|██████████| 20/20 [00:00<00:00, 25.82it/s]\n",
      "  0%|          | 0/391 [00:00<?, ?it/s]/home/charlie/.virtualenvs/yapwrap/lib/python3.7/site-packages/yapwrap/experiments/impbg_classification.py:90: UserWarning: To copy construct from a tensor, it is recommended to use sourceTensor.clone().detach() or sourceTensor.clone().detach().requires_grad_(True), rather than torch.tensor(sourceTensor).\n",
      "  _attn = torch.tensor(attn.detach(), requires_grad=False)\n",
      "Epoch 70 - train - Loss: 0.414: 100%|██████████| 391/391 [00:32<00:00, 12.94it/s]\n",
      "Epoch 70 - validation - Loss: 0.581: 100%|██████████| 100/100 [00:02<00:00, 42.76it/s]\n",
      "OOD_CIFAR100:   4%|▍         | 4/100 [00:00<00:14,  6.64it/s]\n",
      "OOD_TinyImageNet:   4%|▍         | 4/100 [00:00<00:14,  6.53it/s]\n",
      "OOD_SVHN:   2%|▏         | 4/261 [00:00<00:37,  6.93it/s]\n",
      "Noise_Gaussian: 100%|██████████| 20/20 [00:00<00:00, 24.91it/s]\n",
      "Noise_Rademacher: 100%|██████████| 20/20 [00:00<00:00, 25.30it/s]\n",
      "Noise_Blob: 100%|██████████| 20/20 [00:00<00:00, 25.61it/s]\n",
      "  0%|          | 0/391 [00:00<?, ?it/s]"
     ]
    },
    {
     "name": "stdout",
     "output_type": "stream",
     "text": [
      "======Saved Best Accuracy Checkpoint======\n"
     ]
    },
    {
     "name": "stderr",
     "output_type": "stream",
     "text": [
      "/home/charlie/.virtualenvs/yapwrap/lib/python3.7/site-packages/yapwrap/experiments/impbg_classification.py:90: UserWarning: To copy construct from a tensor, it is recommended to use sourceTensor.clone().detach() or sourceTensor.clone().detach().requires_grad_(True), rather than torch.tensor(sourceTensor).\n",
      "  _attn = torch.tensor(attn.detach(), requires_grad=False)\n",
      "Epoch 71 - train - Loss: 0.287: 100%|██████████| 391/391 [00:32<00:00, 12.95it/s]\n",
      "Epoch 71 - validation - Loss: 0.612: 100%|██████████| 100/100 [00:02<00:00, 42.59it/s]\n",
      "OOD_CIFAR100:   4%|▍         | 4/100 [00:00<00:14,  6.79it/s]\n",
      "OOD_TinyImageNet:   4%|▍         | 4/100 [00:00<00:14,  6.42it/s]\n",
      "OOD_SVHN:   2%|▏         | 4/261 [00:00<00:37,  6.91it/s]\n",
      "Noise_Gaussian: 100%|██████████| 20/20 [00:00<00:00, 24.53it/s]\n",
      "Noise_Rademacher: 100%|██████████| 20/20 [00:00<00:00, 24.19it/s]\n",
      "Noise_Blob: 100%|██████████| 20/20 [00:00<00:00, 24.62it/s]\n",
      "  0%|          | 0/391 [00:00<?, ?it/s]/home/charlie/.virtualenvs/yapwrap/lib/python3.7/site-packages/yapwrap/experiments/impbg_classification.py:90: UserWarning: To copy construct from a tensor, it is recommended to use sourceTensor.clone().detach() or sourceTensor.clone().detach().requires_grad_(True), rather than torch.tensor(sourceTensor).\n",
      "  _attn = torch.tensor(attn.detach(), requires_grad=False)\n",
      "Epoch 72 - train - Loss: 0.250: 100%|██████████| 391/391 [00:32<00:00, 12.95it/s]\n",
      "Epoch 72 - validation - Loss: 0.593: 100%|██████████| 100/100 [00:02<00:00, 42.33it/s]\n",
      "OOD_CIFAR100:   4%|▍         | 4/100 [00:00<00:14,  6.65it/s]\n",
      "OOD_TinyImageNet:   4%|▍         | 4/100 [00:00<00:14,  6.61it/s]\n",
      "OOD_SVHN:   2%|▏         | 4/261 [00:00<00:38,  6.67it/s]\n",
      "Noise_Gaussian: 100%|██████████| 20/20 [00:00<00:00, 25.56it/s]\n",
      "Noise_Rademacher: 100%|██████████| 20/20 [00:00<00:00, 24.84it/s]\n",
      "Noise_Blob: 100%|██████████| 20/20 [00:00<00:00, 26.06it/s]\n",
      "  0%|          | 0/391 [00:00<?, ?it/s]/home/charlie/.virtualenvs/yapwrap/lib/python3.7/site-packages/yapwrap/experiments/impbg_classification.py:90: UserWarning: To copy construct from a tensor, it is recommended to use sourceTensor.clone().detach() or sourceTensor.clone().detach().requires_grad_(True), rather than torch.tensor(sourceTensor).\n",
      "  _attn = torch.tensor(attn.detach(), requires_grad=False)\n",
      "Epoch 73 - train - Loss: 0.298: 100%|██████████| 391/391 [00:32<00:00, 12.91it/s]\n",
      "Epoch 73 - validation - Loss: 0.599: 100%|██████████| 100/100 [00:02<00:00, 42.68it/s]\n",
      "OOD_CIFAR100:   4%|▍         | 4/100 [00:00<00:13,  7.36it/s]\n",
      "OOD_TinyImageNet:   4%|▍         | 4/100 [00:00<00:14,  6.43it/s]\n",
      "OOD_SVHN:   2%|▏         | 4/261 [00:00<00:34,  7.42it/s]\n",
      "Noise_Gaussian: 100%|██████████| 20/20 [00:01<00:00, 18.03it/s]\n",
      "Noise_Rademacher: 100%|██████████| 20/20 [00:00<00:00, 25.66it/s]\n",
      "Noise_Blob: 100%|██████████| 20/20 [00:00<00:00, 23.80it/s]\n",
      "  0%|          | 0/391 [00:00<?, ?it/s]/home/charlie/.virtualenvs/yapwrap/lib/python3.7/site-packages/yapwrap/experiments/impbg_classification.py:90: UserWarning: To copy construct from a tensor, it is recommended to use sourceTensor.clone().detach() or sourceTensor.clone().detach().requires_grad_(True), rather than torch.tensor(sourceTensor).\n",
      "  _attn = torch.tensor(attn.detach(), requires_grad=False)\n",
      "Epoch 74 - train - Loss: 0.380: 100%|██████████| 391/391 [00:32<00:00, 12.92it/s]\n",
      "Epoch 74 - validation - Loss: 0.506: 100%|██████████| 100/100 [00:02<00:00, 42.72it/s]\n",
      "OOD_CIFAR100:   4%|▍         | 4/100 [00:00<00:14,  6.46it/s]\n",
      "OOD_TinyImageNet:   4%|▍         | 4/100 [00:00<00:14,  6.61it/s]\n",
      "OOD_SVHN:   2%|▏         | 4/261 [00:00<00:35,  7.31it/s]\n",
      "Noise_Gaussian: 100%|██████████| 20/20 [00:00<00:00, 24.87it/s]\n",
      "Noise_Rademacher: 100%|██████████| 20/20 [00:00<00:00, 25.15it/s]\n",
      "Noise_Blob: 100%|██████████| 20/20 [00:00<00:00, 24.31it/s]\n",
      "  0%|          | 0/391 [00:00<?, ?it/s]"
     ]
    },
    {
     "name": "stdout",
     "output_type": "stream",
     "text": [
      "======Saved Best Accuracy Checkpoint======\n"
     ]
    },
    {
     "name": "stderr",
     "output_type": "stream",
     "text": [
      "/home/charlie/.virtualenvs/yapwrap/lib/python3.7/site-packages/yapwrap/experiments/impbg_classification.py:90: UserWarning: To copy construct from a tensor, it is recommended to use sourceTensor.clone().detach() or sourceTensor.clone().detach().requires_grad_(True), rather than torch.tensor(sourceTensor).\n",
      "  _attn = torch.tensor(attn.detach(), requires_grad=False)\n",
      "Epoch 75 - train - Loss: 0.297: 100%|██████████| 391/391 [00:32<00:00, 12.87it/s]\n",
      "Epoch 75 - validation - Loss: 0.527: 100%|██████████| 100/100 [00:02<00:00, 42.19it/s]\n",
      "OOD_CIFAR100:   4%|▍         | 4/100 [00:00<00:14,  6.65it/s]\n",
      "OOD_TinyImageNet:   4%|▍         | 4/100 [00:00<00:14,  6.50it/s]\n",
      "OOD_SVHN:   2%|▏         | 4/261 [00:00<00:39,  6.50it/s]\n",
      "Noise_Gaussian: 100%|██████████| 20/20 [00:00<00:00, 24.68it/s]\n",
      "Noise_Rademacher: 100%|██████████| 20/20 [00:00<00:00, 25.87it/s]\n",
      "Noise_Blob: 100%|██████████| 20/20 [00:01<00:00, 17.80it/s]\n",
      "  0%|          | 0/391 [00:00<?, ?it/s]"
     ]
    },
    {
     "name": "stdout",
     "output_type": "stream",
     "text": [
      "======Saved Best Accuracy Checkpoint======\n"
     ]
    },
    {
     "name": "stderr",
     "output_type": "stream",
     "text": [
      "/home/charlie/.virtualenvs/yapwrap/lib/python3.7/site-packages/yapwrap/experiments/impbg_classification.py:90: UserWarning: To copy construct from a tensor, it is recommended to use sourceTensor.clone().detach() or sourceTensor.clone().detach().requires_grad_(True), rather than torch.tensor(sourceTensor).\n",
      "  _attn = torch.tensor(attn.detach(), requires_grad=False)\n",
      "Epoch 76 - train - Loss: 0.241: 100%|██████████| 391/391 [00:32<00:00, 12.93it/s]\n",
      "Epoch 76 - validation - Loss: 0.549: 100%|██████████| 100/100 [00:02<00:00, 42.63it/s]\n",
      "OOD_CIFAR100:   4%|▍         | 4/100 [00:00<00:14,  6.79it/s]\n",
      "OOD_TinyImageNet:   4%|▍         | 4/100 [00:00<00:14,  6.47it/s]\n",
      "OOD_SVHN:   2%|▏         | 4/261 [00:00<00:38,  6.67it/s]\n",
      "Noise_Gaussian: 100%|██████████| 20/20 [00:00<00:00, 24.87it/s]\n",
      "Noise_Rademacher: 100%|██████████| 20/20 [00:00<00:00, 24.34it/s]\n",
      "Noise_Blob: 100%|██████████| 20/20 [00:00<00:00, 24.63it/s]\n",
      "  0%|          | 0/391 [00:00<?, ?it/s]/home/charlie/.virtualenvs/yapwrap/lib/python3.7/site-packages/yapwrap/experiments/impbg_classification.py:90: UserWarning: To copy construct from a tensor, it is recommended to use sourceTensor.clone().detach() or sourceTensor.clone().detach().requires_grad_(True), rather than torch.tensor(sourceTensor).\n",
      "  _attn = torch.tensor(attn.detach(), requires_grad=False)\n",
      "Epoch 77 - train - Loss: 0.323: 100%|██████████| 391/391 [00:32<00:00, 12.95it/s]\n",
      "Epoch 77 - validation - Loss: 0.467: 100%|██████████| 100/100 [00:02<00:00, 42.77it/s]\n",
      "OOD_CIFAR100:   4%|▍         | 4/100 [00:00<00:14,  6.56it/s]\n",
      "OOD_TinyImageNet:   4%|▍         | 4/100 [00:00<00:14,  6.46it/s]\n",
      "OOD_SVHN:   2%|▏         | 4/261 [00:00<00:39,  6.50it/s]\n",
      "Noise_Gaussian: 100%|██████████| 20/20 [00:00<00:00, 25.96it/s]\n",
      "Noise_Rademacher: 100%|██████████| 20/20 [00:00<00:00, 24.88it/s]\n",
      "Noise_Blob: 100%|██████████| 20/20 [00:00<00:00, 24.75it/s]\n",
      "  0%|          | 0/391 [00:00<?, ?it/s]"
     ]
    },
    {
     "name": "stdout",
     "output_type": "stream",
     "text": [
      "======Saved Best Accuracy Checkpoint======\n"
     ]
    },
    {
     "name": "stderr",
     "output_type": "stream",
     "text": [
      "/home/charlie/.virtualenvs/yapwrap/lib/python3.7/site-packages/yapwrap/experiments/impbg_classification.py:90: UserWarning: To copy construct from a tensor, it is recommended to use sourceTensor.clone().detach() or sourceTensor.clone().detach().requires_grad_(True), rather than torch.tensor(sourceTensor).\n",
      "  _attn = torch.tensor(attn.detach(), requires_grad=False)\n",
      "Epoch 78 - train - Loss: 0.297: 100%|██████████| 391/391 [00:32<00:00, 12.91it/s]\n",
      "Epoch 78 - validation - Loss: 0.415: 100%|██████████| 100/100 [00:02<00:00, 41.26it/s]\n",
      "OOD_CIFAR100:   4%|▍         | 4/100 [00:00<00:14,  6.75it/s]\n",
      "OOD_TinyImageNet:   4%|▍         | 4/100 [00:00<00:14,  6.66it/s]\n",
      "OOD_SVHN:   2%|▏         | 4/261 [00:00<00:37,  6.92it/s]\n",
      "Noise_Gaussian: 100%|██████████| 20/20 [00:00<00:00, 24.31it/s]\n",
      "Noise_Rademacher: 100%|██████████| 20/20 [00:00<00:00, 24.86it/s]\n",
      "Noise_Blob: 100%|██████████| 20/20 [00:00<00:00, 24.53it/s]\n",
      "  0%|          | 0/391 [00:00<?, ?it/s]/home/charlie/.virtualenvs/yapwrap/lib/python3.7/site-packages/yapwrap/experiments/impbg_classification.py:90: UserWarning: To copy construct from a tensor, it is recommended to use sourceTensor.clone().detach() or sourceTensor.clone().detach().requires_grad_(True), rather than torch.tensor(sourceTensor).\n",
      "  _attn = torch.tensor(attn.detach(), requires_grad=False)\n",
      "Epoch 79 - train - Loss: 0.265: 100%|██████████| 391/391 [00:32<00:00, 12.90it/s]\n",
      "Epoch 79 - validation - Loss: 0.473: 100%|██████████| 100/100 [00:02<00:00, 42.67it/s]\n",
      "OOD_CIFAR100:   4%|▍         | 4/100 [00:00<00:13,  6.92it/s]\n",
      "OOD_TinyImageNet:   4%|▍         | 4/100 [00:00<00:14,  6.48it/s]\n",
      "OOD_SVHN:   2%|▏         | 4/261 [00:00<00:36,  7.08it/s]\n",
      "Noise_Gaussian: 100%|██████████| 20/20 [00:00<00:00, 24.73it/s]\n",
      "Noise_Rademacher: 100%|██████████| 20/20 [00:00<00:00, 24.30it/s]\n",
      "Noise_Blob: 100%|██████████| 20/20 [00:00<00:00, 23.93it/s]\n",
      "  0%|          | 0/391 [00:00<?, ?it/s]/home/charlie/.virtualenvs/yapwrap/lib/python3.7/site-packages/yapwrap/experiments/impbg_classification.py:90: UserWarning: To copy construct from a tensor, it is recommended to use sourceTensor.clone().detach() or sourceTensor.clone().detach().requires_grad_(True), rather than torch.tensor(sourceTensor).\n",
      "  _attn = torch.tensor(attn.detach(), requires_grad=False)\n",
      "Epoch 80 - train - Loss: 0.274: 100%|██████████| 391/391 [00:32<00:00, 12.99it/s]\n",
      "Epoch 80 - validation - Loss: 0.526: 100%|██████████| 100/100 [00:02<00:00, 43.34it/s]\n",
      "OOD_CIFAR100:   4%|▍         | 4/100 [00:00<00:14,  6.59it/s]\n",
      "OOD_TinyImageNet:   4%|▍         | 4/100 [00:00<00:17,  5.60it/s]\n",
      "OOD_SVHN:   2%|▏         | 4/261 [00:00<00:40,  6.39it/s]\n",
      "Noise_Gaussian: 100%|██████████| 20/20 [00:00<00:00, 24.32it/s]\n",
      "Noise_Rademacher: 100%|██████████| 20/20 [00:00<00:00, 23.94it/s]\n",
      "Noise_Blob: 100%|██████████| 20/20 [00:00<00:00, 25.16it/s]\n",
      "  0%|          | 0/391 [00:00<?, ?it/s]"
     ]
    },
    {
     "name": "stdout",
     "output_type": "stream",
     "text": [
      "======Saved Best Accuracy Checkpoint======\n"
     ]
    },
    {
     "name": "stderr",
     "output_type": "stream",
     "text": [
      "/home/charlie/.virtualenvs/yapwrap/lib/python3.7/site-packages/yapwrap/experiments/impbg_classification.py:90: UserWarning: To copy construct from a tensor, it is recommended to use sourceTensor.clone().detach() or sourceTensor.clone().detach().requires_grad_(True), rather than torch.tensor(sourceTensor).\n",
      "  _attn = torch.tensor(attn.detach(), requires_grad=False)\n",
      "Epoch 81 - train - Loss: 0.227: 100%|██████████| 391/391 [00:32<00:00, 12.93it/s]\n",
      "Epoch 81 - validation - Loss: 0.421: 100%|██████████| 100/100 [00:02<00:00, 43.47it/s]\n",
      "OOD_CIFAR100:   4%|▍         | 4/100 [00:00<00:13,  6.87it/s]\n",
      "OOD_TinyImageNet:   4%|▍         | 4/100 [00:00<00:14,  6.73it/s]\n",
      "OOD_SVHN:   2%|▏         | 4/261 [00:00<00:37,  6.77it/s]\n",
      "Noise_Gaussian: 100%|██████████| 20/20 [00:00<00:00, 25.63it/s]\n",
      "Noise_Rademacher: 100%|██████████| 20/20 [00:00<00:00, 24.69it/s]\n",
      "Noise_Blob: 100%|██████████| 20/20 [00:00<00:00, 25.03it/s]\n",
      "  0%|          | 0/391 [00:00<?, ?it/s]"
     ]
    },
    {
     "name": "stdout",
     "output_type": "stream",
     "text": [
      "======Saved Best Accuracy Checkpoint======\n"
     ]
    },
    {
     "name": "stderr",
     "output_type": "stream",
     "text": [
      "/home/charlie/.virtualenvs/yapwrap/lib/python3.7/site-packages/yapwrap/experiments/impbg_classification.py:90: UserWarning: To copy construct from a tensor, it is recommended to use sourceTensor.clone().detach() or sourceTensor.clone().detach().requires_grad_(True), rather than torch.tensor(sourceTensor).\n",
      "  _attn = torch.tensor(attn.detach(), requires_grad=False)\n",
      "Epoch 82 - train - Loss: 0.227: 100%|██████████| 391/391 [00:32<00:00, 12.96it/s]\n",
      "Epoch 82 - validation - Loss: 0.414: 100%|██████████| 100/100 [00:02<00:00, 42.73it/s]\n",
      "OOD_CIFAR100:   4%|▍         | 4/100 [00:00<00:14,  6.76it/s]\n",
      "OOD_TinyImageNet:   4%|▍         | 4/100 [00:00<00:13,  6.89it/s]\n",
      "OOD_SVHN:   2%|▏         | 4/261 [00:00<00:37,  6.80it/s]\n",
      "Noise_Gaussian: 100%|██████████| 20/20 [00:01<00:00, 17.97it/s]\n",
      "Noise_Rademacher: 100%|██████████| 20/20 [00:00<00:00, 24.72it/s]\n",
      "Noise_Blob: 100%|██████████| 20/20 [00:00<00:00, 25.71it/s]\n",
      "  0%|          | 0/391 [00:00<?, ?it/s]"
     ]
    },
    {
     "name": "stdout",
     "output_type": "stream",
     "text": [
      "======Saved Best Accuracy Checkpoint======\n"
     ]
    },
    {
     "name": "stderr",
     "output_type": "stream",
     "text": [
      "/home/charlie/.virtualenvs/yapwrap/lib/python3.7/site-packages/yapwrap/experiments/impbg_classification.py:90: UserWarning: To copy construct from a tensor, it is recommended to use sourceTensor.clone().detach() or sourceTensor.clone().detach().requires_grad_(True), rather than torch.tensor(sourceTensor).\n",
      "  _attn = torch.tensor(attn.detach(), requires_grad=False)\n",
      "Epoch 83 - train - Loss: 0.240: 100%|██████████| 391/391 [00:32<00:00, 12.95it/s]\n",
      "Epoch 83 - validation - Loss: 0.341: 100%|██████████| 100/100 [00:02<00:00, 42.42it/s]\n",
      "OOD_CIFAR100:   4%|▍         | 4/100 [00:00<00:13,  6.97it/s]\n",
      "OOD_TinyImageNet:   4%|▍         | 4/100 [00:00<00:13,  6.96it/s]\n",
      "OOD_SVHN:   2%|▏         | 4/261 [00:00<00:38,  6.73it/s]\n",
      "Noise_Gaussian: 100%|██████████| 20/20 [00:00<00:00, 24.07it/s]\n",
      "Noise_Rademacher: 100%|██████████| 20/20 [00:00<00:00, 26.12it/s]\n",
      "Noise_Blob: 100%|██████████| 20/20 [00:00<00:00, 25.08it/s]\n",
      "  0%|          | 0/391 [00:00<?, ?it/s]"
     ]
    },
    {
     "name": "stdout",
     "output_type": "stream",
     "text": [
      "======Saved Best Accuracy Checkpoint======\n"
     ]
    },
    {
     "name": "stderr",
     "output_type": "stream",
     "text": [
      "/home/charlie/.virtualenvs/yapwrap/lib/python3.7/site-packages/yapwrap/experiments/impbg_classification.py:90: UserWarning: To copy construct from a tensor, it is recommended to use sourceTensor.clone().detach() or sourceTensor.clone().detach().requires_grad_(True), rather than torch.tensor(sourceTensor).\n",
      "  _attn = torch.tensor(attn.detach(), requires_grad=False)\n",
      "Epoch 84 - train - Loss: 0.231: 100%|██████████| 391/391 [00:32<00:00, 12.99it/s]\n",
      "Epoch 84 - validation - Loss: 0.442: 100%|██████████| 100/100 [00:02<00:00, 43.40it/s]\n",
      "OOD_CIFAR100:   4%|▍         | 4/100 [00:00<00:14,  6.77it/s]\n",
      "OOD_TinyImageNet:   4%|▍         | 4/100 [00:00<00:14,  6.83it/s]\n",
      "OOD_SVHN:   2%|▏         | 4/261 [00:00<00:37,  6.86it/s]\n",
      "Noise_Gaussian: 100%|██████████| 20/20 [00:00<00:00, 25.62it/s]\n",
      "Noise_Rademacher: 100%|██████████| 20/20 [00:00<00:00, 24.89it/s]\n",
      "Noise_Blob: 100%|██████████| 20/20 [00:01<00:00, 18.31it/s]\n",
      "  0%|          | 0/391 [00:00<?, ?it/s]"
     ]
    },
    {
     "name": "stdout",
     "output_type": "stream",
     "text": [
      "======Saved Best Accuracy Checkpoint======\n"
     ]
    },
    {
     "name": "stderr",
     "output_type": "stream",
     "text": [
      "/home/charlie/.virtualenvs/yapwrap/lib/python3.7/site-packages/yapwrap/experiments/impbg_classification.py:90: UserWarning: To copy construct from a tensor, it is recommended to use sourceTensor.clone().detach() or sourceTensor.clone().detach().requires_grad_(True), rather than torch.tensor(sourceTensor).\n",
      "  _attn = torch.tensor(attn.detach(), requires_grad=False)\n",
      "Epoch 85 - train - Loss: 0.220: 100%|██████████| 391/391 [00:32<00:00, 12.93it/s]\n",
      "Epoch 85 - validation - Loss: 0.427: 100%|██████████| 100/100 [00:02<00:00, 54.13it/s]\n",
      "OOD_CIFAR100:   4%|▍         | 4/100 [00:00<00:14,  6.77it/s]\n",
      "OOD_TinyImageNet:   4%|▍         | 4/100 [00:00<00:15,  6.37it/s]\n",
      "OOD_SVHN:   2%|▏         | 4/261 [00:00<00:37,  6.77it/s]\n",
      "Noise_Gaussian: 100%|██████████| 20/20 [00:00<00:00, 25.29it/s]\n",
      "Noise_Rademacher: 100%|██████████| 20/20 [00:00<00:00, 24.51it/s]\n",
      "Noise_Blob: 100%|██████████| 20/20 [00:00<00:00, 24.71it/s]\n",
      "  0%|          | 0/391 [00:00<?, ?it/s]/home/charlie/.virtualenvs/yapwrap/lib/python3.7/site-packages/yapwrap/experiments/impbg_classification.py:90: UserWarning: To copy construct from a tensor, it is recommended to use sourceTensor.clone().detach() or sourceTensor.clone().detach().requires_grad_(True), rather than torch.tensor(sourceTensor).\n",
      "  _attn = torch.tensor(attn.detach(), requires_grad=False)\n",
      "Epoch 86 - train - Loss: 0.207: 100%|██████████| 391/391 [00:32<00:00, 12.93it/s]\n",
      "Epoch 86 - validation - Loss: 0.466: 100%|██████████| 100/100 [00:02<00:00, 43.22it/s]\n",
      "OOD_CIFAR100:   4%|▍         | 4/100 [00:00<00:14,  6.54it/s]\n",
      "OOD_TinyImageNet:   4%|▍         | 4/100 [00:00<00:14,  6.58it/s]\n",
      "OOD_SVHN:   2%|▏         | 4/261 [00:00<00:36,  7.04it/s]\n",
      "Noise_Gaussian: 100%|██████████| 20/20 [00:00<00:00, 23.49it/s]\n",
      "Noise_Rademacher: 100%|██████████| 20/20 [00:00<00:00, 24.78it/s]\n",
      "Noise_Blob: 100%|██████████| 20/20 [00:00<00:00, 25.25it/s]\n",
      "  0%|          | 0/391 [00:00<?, ?it/s]/home/charlie/.virtualenvs/yapwrap/lib/python3.7/site-packages/yapwrap/experiments/impbg_classification.py:90: UserWarning: To copy construct from a tensor, it is recommended to use sourceTensor.clone().detach() or sourceTensor.clone().detach().requires_grad_(True), rather than torch.tensor(sourceTensor).\n",
      "  _attn = torch.tensor(attn.detach(), requires_grad=False)\n",
      "Epoch 87 - train - Loss: 0.214: 100%|██████████| 391/391 [00:32<00:00, 12.96it/s]\n",
      "Epoch 87 - validation - Loss: 0.399: 100%|██████████| 100/100 [00:02<00:00, 41.16it/s]\n",
      "OOD_CIFAR100:   4%|▍         | 4/100 [00:00<00:13,  7.20it/s]\n",
      "OOD_TinyImageNet:   4%|▍         | 4/100 [00:00<00:14,  6.73it/s]\n",
      "OOD_SVHN:   2%|▏         | 4/261 [00:00<00:38,  6.75it/s]\n",
      "Noise_Gaussian: 100%|██████████| 20/20 [00:00<00:00, 25.26it/s]\n",
      "Noise_Rademacher: 100%|██████████| 20/20 [00:00<00:00, 25.11it/s]\n",
      "Noise_Blob: 100%|██████████| 20/20 [00:00<00:00, 25.23it/s]\n",
      "  0%|          | 0/391 [00:00<?, ?it/s]"
     ]
    },
    {
     "name": "stdout",
     "output_type": "stream",
     "text": [
      "======Saved Best Accuracy Checkpoint======\n"
     ]
    },
    {
     "name": "stderr",
     "output_type": "stream",
     "text": [
      "/home/charlie/.virtualenvs/yapwrap/lib/python3.7/site-packages/yapwrap/experiments/impbg_classification.py:90: UserWarning: To copy construct from a tensor, it is recommended to use sourceTensor.clone().detach() or sourceTensor.clone().detach().requires_grad_(True), rather than torch.tensor(sourceTensor).\n",
      "  _attn = torch.tensor(attn.detach(), requires_grad=False)\n",
      "Epoch 88 - train - Loss: 0.205: 100%|██████████| 391/391 [00:32<00:00, 12.83it/s]\n",
      "Epoch 88 - validation - Loss: 0.418: 100%|██████████| 100/100 [00:02<00:00, 43.19it/s]\n",
      "OOD_CIFAR100:   4%|▍         | 4/100 [00:00<00:13,  6.94it/s]\n",
      "OOD_TinyImageNet:   4%|▍         | 4/100 [00:00<00:14,  6.65it/s]\n",
      "OOD_SVHN:   2%|▏         | 4/261 [00:00<00:37,  6.87it/s]\n",
      "Noise_Gaussian: 100%|██████████| 20/20 [00:00<00:00, 24.37it/s]\n",
      "Noise_Rademacher: 100%|██████████| 20/20 [00:00<00:00, 25.72it/s]\n",
      "Noise_Blob: 100%|██████████| 20/20 [00:00<00:00, 25.26it/s]\n",
      "  0%|          | 0/391 [00:00<?, ?it/s]"
     ]
    },
    {
     "name": "stdout",
     "output_type": "stream",
     "text": [
      "======Saved Best Accuracy Checkpoint======\n"
     ]
    },
    {
     "name": "stderr",
     "output_type": "stream",
     "text": [
      "/home/charlie/.virtualenvs/yapwrap/lib/python3.7/site-packages/yapwrap/experiments/impbg_classification.py:90: UserWarning: To copy construct from a tensor, it is recommended to use sourceTensor.clone().detach() or sourceTensor.clone().detach().requires_grad_(True), rather than torch.tensor(sourceTensor).\n",
      "  _attn = torch.tensor(attn.detach(), requires_grad=False)\n",
      "Epoch 89 - train - Loss: 0.203: 100%|██████████| 391/391 [00:32<00:00, 13.02it/s]\n",
      "Epoch 89 - validation - Loss: 0.481: 100%|██████████| 100/100 [00:02<00:00, 43.82it/s]\n",
      "OOD_CIFAR100:   4%|▍         | 4/100 [00:00<00:13,  7.06it/s]\n",
      "OOD_TinyImageNet:   4%|▍         | 4/100 [00:00<00:31,  3.04it/s]\n",
      "OOD_SVHN:   2%|▏         | 4/261 [00:00<00:39,  6.43it/s]\n",
      "Noise_Gaussian: 100%|██████████| 20/20 [00:00<00:00, 25.06it/s]\n",
      "Noise_Rademacher: 100%|██████████| 20/20 [00:00<00:00, 24.14it/s]\n",
      "Noise_Blob: 100%|██████████| 20/20 [00:00<00:00, 24.62it/s]\n",
      "  0%|          | 0/391 [00:00<?, ?it/s]/home/charlie/.virtualenvs/yapwrap/lib/python3.7/site-packages/yapwrap/experiments/impbg_classification.py:90: UserWarning: To copy construct from a tensor, it is recommended to use sourceTensor.clone().detach() or sourceTensor.clone().detach().requires_grad_(True), rather than torch.tensor(sourceTensor).\n",
      "  _attn = torch.tensor(attn.detach(), requires_grad=False)\n",
      "Epoch 90 - train - Loss: 0.214: 100%|██████████| 391/391 [00:32<00:00, 12.92it/s]\n",
      "Epoch 90 - validation - Loss: 0.440: 100%|██████████| 100/100 [00:02<00:00, 42.70it/s]\n",
      "OOD_CIFAR100:   4%|▍         | 4/100 [00:00<00:13,  7.00it/s]\n",
      "OOD_TinyImageNet:   4%|▍         | 4/100 [00:00<00:14,  6.49it/s]\n",
      "OOD_SVHN:   2%|▏         | 4/261 [00:00<00:37,  6.84it/s]\n",
      "Noise_Gaussian: 100%|██████████| 20/20 [00:00<00:00, 24.27it/s]\n",
      "Noise_Rademacher: 100%|██████████| 20/20 [00:00<00:00, 24.16it/s]\n",
      "Noise_Blob: 100%|██████████| 20/20 [00:00<00:00, 24.17it/s]\n",
      "  0%|          | 0/391 [00:00<?, ?it/s]"
     ]
    },
    {
     "name": "stdout",
     "output_type": "stream",
     "text": [
      "======Saved Best Accuracy Checkpoint======\n"
     ]
    },
    {
     "name": "stderr",
     "output_type": "stream",
     "text": [
      "/home/charlie/.virtualenvs/yapwrap/lib/python3.7/site-packages/yapwrap/experiments/impbg_classification.py:90: UserWarning: To copy construct from a tensor, it is recommended to use sourceTensor.clone().detach() or sourceTensor.clone().detach().requires_grad_(True), rather than torch.tensor(sourceTensor).\n",
      "  _attn = torch.tensor(attn.detach(), requires_grad=False)\n",
      "Epoch 91 - train - Loss: 0.205: 100%|██████████| 391/391 [00:32<00:00, 12.99it/s]\n",
      "Epoch 91 - validation - Loss: 0.445: 100%|██████████| 100/100 [00:02<00:00, 43.58it/s]\n",
      "OOD_CIFAR100:   4%|▍         | 4/100 [00:00<00:13,  7.11it/s]\n",
      "OOD_TinyImageNet:   4%|▍         | 4/100 [00:00<00:15,  6.24it/s]\n",
      "OOD_SVHN:   2%|▏         | 4/261 [00:00<00:37,  6.80it/s]\n",
      "Noise_Gaussian: 100%|██████████| 20/20 [00:01<00:00, 17.36it/s]\n",
      "Noise_Rademacher: 100%|██████████| 20/20 [00:00<00:00, 25.31it/s]\n",
      "Noise_Blob: 100%|██████████| 20/20 [00:00<00:00, 24.90it/s]\n",
      "  0%|          | 0/391 [00:00<?, ?it/s]"
     ]
    },
    {
     "name": "stdout",
     "output_type": "stream",
     "text": [
      "======Saved Best Accuracy Checkpoint======\n"
     ]
    },
    {
     "name": "stderr",
     "output_type": "stream",
     "text": [
      "/home/charlie/.virtualenvs/yapwrap/lib/python3.7/site-packages/yapwrap/experiments/impbg_classification.py:90: UserWarning: To copy construct from a tensor, it is recommended to use sourceTensor.clone().detach() or sourceTensor.clone().detach().requires_grad_(True), rather than torch.tensor(sourceTensor).\n",
      "  _attn = torch.tensor(attn.detach(), requires_grad=False)\n",
      "Epoch 92 - train - Loss: 0.200: 100%|██████████| 391/391 [00:32<00:00, 12.96it/s]\n",
      "Epoch 92 - validation - Loss: 0.453: 100%|██████████| 100/100 [00:02<00:00, 54.24it/s]\n",
      "OOD_CIFAR100:   4%|▍         | 4/100 [00:00<00:13,  7.21it/s]\n",
      "OOD_TinyImageNet:   4%|▍         | 4/100 [00:00<00:14,  6.57it/s]\n",
      "OOD_SVHN:   2%|▏         | 4/261 [00:00<00:36,  6.96it/s]\n",
      "Noise_Gaussian: 100%|██████████| 20/20 [00:00<00:00, 25.94it/s]\n",
      "Noise_Rademacher: 100%|██████████| 20/20 [00:00<00:00, 24.64it/s]\n",
      "Noise_Blob: 100%|██████████| 20/20 [00:00<00:00, 25.05it/s]\n",
      "  0%|          | 0/391 [00:00<?, ?it/s]"
     ]
    },
    {
     "name": "stdout",
     "output_type": "stream",
     "text": [
      "======Saved Best Accuracy Checkpoint======\n"
     ]
    },
    {
     "name": "stderr",
     "output_type": "stream",
     "text": [
      "/home/charlie/.virtualenvs/yapwrap/lib/python3.7/site-packages/yapwrap/experiments/impbg_classification.py:90: UserWarning: To copy construct from a tensor, it is recommended to use sourceTensor.clone().detach() or sourceTensor.clone().detach().requires_grad_(True), rather than torch.tensor(sourceTensor).\n",
      "  _attn = torch.tensor(attn.detach(), requires_grad=False)\n",
      "Epoch 93 - train - Loss: 0.204: 100%|██████████| 391/391 [00:32<00:00, 12.96it/s]\n",
      "Epoch 93 - validation - Loss: 0.459: 100%|██████████| 100/100 [00:02<00:00, 43.07it/s]\n",
      "OOD_CIFAR100:   4%|▍         | 4/100 [00:00<00:13,  6.86it/s]\n",
      "OOD_TinyImageNet:   4%|▍         | 4/100 [00:00<00:15,  6.34it/s]\n",
      "OOD_SVHN:   2%|▏         | 4/261 [00:00<00:39,  6.52it/s]\n",
      "Noise_Gaussian: 100%|██████████| 20/20 [00:00<00:00, 24.15it/s]\n",
      "Noise_Rademacher: 100%|██████████| 20/20 [00:00<00:00, 23.95it/s]\n",
      "Noise_Blob: 100%|██████████| 20/20 [00:01<00:00, 18.62it/s]\n",
      "  0%|          | 0/391 [00:00<?, ?it/s]"
     ]
    },
    {
     "name": "stdout",
     "output_type": "stream",
     "text": [
      "======Saved Best Accuracy Checkpoint======\n"
     ]
    },
    {
     "name": "stderr",
     "output_type": "stream",
     "text": [
      "/home/charlie/.virtualenvs/yapwrap/lib/python3.7/site-packages/yapwrap/experiments/impbg_classification.py:90: UserWarning: To copy construct from a tensor, it is recommended to use sourceTensor.clone().detach() or sourceTensor.clone().detach().requires_grad_(True), rather than torch.tensor(sourceTensor).\n",
      "  _attn = torch.tensor(attn.detach(), requires_grad=False)\n",
      "Epoch 94 - train - Loss: 0.201: 100%|██████████| 391/391 [00:32<00:00, 13.01it/s]\n",
      "Epoch 94 - validation - Loss: 0.449: 100%|██████████| 100/100 [00:02<00:00, 43.18it/s]\n",
      "OOD_CIFAR100:   4%|▍         | 4/100 [00:00<00:14,  6.65it/s]\n",
      "OOD_TinyImageNet:   4%|▍         | 4/100 [00:00<00:14,  6.59it/s]\n",
      "OOD_SVHN:   2%|▏         | 4/261 [00:00<00:37,  6.76it/s]\n",
      "Noise_Gaussian: 100%|██████████| 20/20 [00:00<00:00, 25.34it/s]\n",
      "Noise_Rademacher: 100%|██████████| 20/20 [00:00<00:00, 23.94it/s]\n",
      "Noise_Blob: 100%|██████████| 20/20 [00:00<00:00, 24.49it/s]\n",
      "  0%|          | 0/391 [00:00<?, ?it/s]"
     ]
    },
    {
     "name": "stdout",
     "output_type": "stream",
     "text": [
      "======Saved Best Accuracy Checkpoint======\n"
     ]
    },
    {
     "name": "stderr",
     "output_type": "stream",
     "text": [
      "/home/charlie/.virtualenvs/yapwrap/lib/python3.7/site-packages/yapwrap/experiments/impbg_classification.py:90: UserWarning: To copy construct from a tensor, it is recommended to use sourceTensor.clone().detach() or sourceTensor.clone().detach().requires_grad_(True), rather than torch.tensor(sourceTensor).\n",
      "  _attn = torch.tensor(attn.detach(), requires_grad=False)\n",
      "Epoch 95 - train - Loss: 0.201: 100%|██████████| 391/391 [00:32<00:00, 12.92it/s]\n",
      "Epoch 95 - validation - Loss: 0.429: 100%|██████████| 100/100 [00:02<00:00, 54.13it/s]\n",
      "OOD_CIFAR100:   4%|▍         | 4/100 [00:00<00:13,  6.91it/s]\n",
      "OOD_TinyImageNet:   4%|▍         | 4/100 [00:00<00:14,  6.72it/s]\n",
      "OOD_SVHN:   2%|▏         | 4/261 [00:00<00:38,  6.70it/s]\n",
      "Noise_Gaussian: 100%|██████████| 20/20 [00:00<00:00, 25.36it/s]\n",
      "Noise_Rademacher: 100%|██████████| 20/20 [00:00<00:00, 23.71it/s]\n",
      "Noise_Blob: 100%|██████████| 20/20 [00:00<00:00, 24.59it/s]\n",
      "  0%|          | 0/391 [00:00<?, ?it/s]/home/charlie/.virtualenvs/yapwrap/lib/python3.7/site-packages/yapwrap/experiments/impbg_classification.py:90: UserWarning: To copy construct from a tensor, it is recommended to use sourceTensor.clone().detach() or sourceTensor.clone().detach().requires_grad_(True), rather than torch.tensor(sourceTensor).\n",
      "  _attn = torch.tensor(attn.detach(), requires_grad=False)\n",
      "Epoch 96 - train - Loss: 0.202: 100%|██████████| 391/391 [00:32<00:00, 12.91it/s]\n",
      "Epoch 96 - validation - Loss: 0.437: 100%|██████████| 100/100 [00:02<00:00, 53.85it/s]\n",
      "OOD_CIFAR100:   4%|▍         | 4/100 [00:00<00:13,  7.22it/s]\n",
      "OOD_TinyImageNet:   4%|▍         | 4/100 [00:00<00:14,  6.61it/s]\n",
      "OOD_SVHN:   2%|▏         | 4/261 [00:00<00:37,  6.92it/s]\n",
      "Noise_Gaussian: 100%|██████████| 20/20 [00:00<00:00, 23.99it/s]\n",
      "Noise_Rademacher: 100%|██████████| 20/20 [00:00<00:00, 25.27it/s]\n",
      "Noise_Blob: 100%|██████████| 20/20 [00:00<00:00, 24.68it/s]\n",
      "  0%|          | 0/391 [00:00<?, ?it/s]/home/charlie/.virtualenvs/yapwrap/lib/python3.7/site-packages/yapwrap/experiments/impbg_classification.py:90: UserWarning: To copy construct from a tensor, it is recommended to use sourceTensor.clone().detach() or sourceTensor.clone().detach().requires_grad_(True), rather than torch.tensor(sourceTensor).\n",
      "  _attn = torch.tensor(attn.detach(), requires_grad=False)\n",
      "Epoch 97 - train - Loss: 0.203: 100%|██████████| 391/391 [00:32<00:00, 12.92it/s]\n",
      "Epoch 97 - validation - Loss: 0.426: 100%|██████████| 100/100 [00:02<00:00, 54.53it/s]\n",
      "OOD_CIFAR100:   4%|▍         | 4/100 [00:00<00:13,  6.97it/s]\n",
      "OOD_TinyImageNet:   4%|▍         | 4/100 [00:00<00:14,  6.67it/s]\n",
      "OOD_SVHN:   2%|▏         | 4/261 [00:00<00:36,  7.03it/s]\n",
      "Noise_Gaussian: 100%|██████████| 20/20 [00:00<00:00, 25.26it/s]\n",
      "Noise_Rademacher: 100%|██████████| 20/20 [00:00<00:00, 24.97it/s]\n",
      "Noise_Blob: 100%|██████████| 20/20 [00:00<00:00, 24.32it/s]\n",
      "  0%|          | 0/391 [00:00<?, ?it/s]"
     ]
    },
    {
     "name": "stdout",
     "output_type": "stream",
     "text": [
      "======Saved Best Accuracy Checkpoint======\n"
     ]
    },
    {
     "name": "stderr",
     "output_type": "stream",
     "text": [
      "/home/charlie/.virtualenvs/yapwrap/lib/python3.7/site-packages/yapwrap/experiments/impbg_classification.py:90: UserWarning: To copy construct from a tensor, it is recommended to use sourceTensor.clone().detach() or sourceTensor.clone().detach().requires_grad_(True), rather than torch.tensor(sourceTensor).\n",
      "  _attn = torch.tensor(attn.detach(), requires_grad=False)\n",
      "Epoch 98 - train - Loss: 0.203: 100%|██████████| 391/391 [00:32<00:00, 12.95it/s]\n",
      "Epoch 98 - validation - Loss: 0.454: 100%|██████████| 100/100 [00:02<00:00, 54.53it/s]\n",
      "OOD_CIFAR100:   4%|▍         | 4/100 [00:00<00:14,  6.81it/s]\n",
      "OOD_TinyImageNet:   4%|▍         | 4/100 [00:00<00:14,  6.56it/s]\n",
      "OOD_SVHN:   2%|▏         | 4/261 [00:00<00:37,  6.85it/s]\n",
      "Noise_Gaussian: 100%|██████████| 20/20 [00:00<00:00, 23.63it/s]\n",
      "Noise_Rademacher: 100%|██████████| 20/20 [00:00<00:00, 25.57it/s]\n",
      "Noise_Blob: 100%|██████████| 20/20 [00:00<00:00, 24.80it/s]\n",
      "  0%|          | 0/391 [00:00<?, ?it/s]/home/charlie/.virtualenvs/yapwrap/lib/python3.7/site-packages/yapwrap/experiments/impbg_classification.py:90: UserWarning: To copy construct from a tensor, it is recommended to use sourceTensor.clone().detach() or sourceTensor.clone().detach().requires_grad_(True), rather than torch.tensor(sourceTensor).\n",
      "  _attn = torch.tensor(attn.detach(), requires_grad=False)\n",
      "Epoch 99 - train - Loss: 0.204: 100%|██████████| 391/391 [00:32<00:00, 12.93it/s]\n",
      "Epoch 99 - validation - Loss: 0.445: 100%|██████████| 100/100 [00:02<00:00, 54.32it/s]\n",
      "OOD_CIFAR100:   4%|▍         | 4/100 [00:00<00:13,  6.88it/s]\n",
      "OOD_TinyImageNet:   4%|▍         | 4/100 [00:00<00:14,  6.52it/s]\n",
      "OOD_SVHN:   2%|▏         | 4/261 [00:00<00:38,  6.63it/s]\n",
      "Noise_Gaussian: 100%|██████████| 20/20 [00:00<00:00, 25.19it/s]\n",
      "Noise_Rademacher: 100%|██████████| 20/20 [00:00<00:00, 24.78it/s]\n",
      "Noise_Blob: 100%|██████████| 20/20 [00:00<00:00, 24.43it/s]\n"
     ]
    },
    {
     "name": "stdout",
     "output_type": "stream",
     "text": [
      "======Saved Best Accuracy Checkpoint======\n"
     ]
    }
   ],
   "source": [
    "from yapwrap.experiments import ImpBGOOD\n",
    "from yapwrap.dataloaders import *\n",
    "from yapwrap.utils import *\n",
    "from yapwrap.models import *\n",
    "import torch\n",
    "import torch.nn as nn\n",
    "\n",
    "ood_dataloaders = [OOD_CIFAR100(), OOD_TinyImageNet(), OOD_SVHN(), Noise_Gaussian(), Noise_Rademacher(), Noise_Blob()] \n",
    "config = {\n",
    "    \"experiment_dir\":'.',\n",
    "    \"dataloader\":{\n",
    "        \"class\":CIFAR10,\n",
    "        \"params\":{}\n",
    "    },\n",
    "    \"model\":{\n",
    "        \"class\":TinyImpBG18,\n",
    "        \"params\":{}\n",
    "    },\n",
    "    \"lr_scheduler\":{\n",
    "        \"class\":torch.optim.lr_scheduler.CosineAnnealingLR,\n",
    "        \"params\":{\"T_max\":100}\n",
    "    },\n",
    "        \"ood_dataloaders\":{\n",
    "        \"class\":OODDataloaders,\n",
    "        \"params\":{\"dataloader_list\":ood_dataloaders}\n",
    "        },\n",
    "    \"criterion\":{\n",
    "        \"class\":nn.CrossEntropyLoss,\n",
    "        \"params\":{}\n",
    "    },\n",
    "    \"evaluator\":{\n",
    "        \"class\":OODEvaluator,\n",
    "        \"params\":{}\n",
    "    },\n",
    "    \"saver\":{\n",
    "        \"class\":BestMetricSaver,\n",
    "        \"params\":{\"metric_set\":\"validation\",\n",
    "                  \"metric_name\":\"Accuracy\"}\n",
    "    },\n",
    "    \"cuda\":True,\n",
    "    }\n",
    "exp = ImpBGOOD(config)\n",
    "exp.train(100)\n"
   ]
  }
 ],
 "metadata": {
  "kernelspec": {
   "display_name": "Python 3",
   "language": "python",
   "name": "python3"
  },
  "language_info": {
   "codemirror_mode": {
    "name": "ipython",
    "version": 3
   },
   "file_extension": ".py",
   "mimetype": "text/x-python",
   "name": "python",
   "nbconvert_exporter": "python",
   "pygments_lexer": "ipython3",
   "version": "3.7.3"
  }
 },
 "nbformat": 4,
 "nbformat_minor": 2
}
