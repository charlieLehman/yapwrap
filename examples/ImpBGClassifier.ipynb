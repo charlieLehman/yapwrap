{
 "cells": [
  {
   "cell_type": "code",
   "execution_count": null,
   "metadata": {},
   "outputs": [
    {
     "name": "stdout",
     "output_type": "stream",
     "text": [
      "Created run/TinyImpBG50_CIFAR10/experiment_0000\n",
      "Files already downloaded and verified\n",
      "Files already downloaded and verified\n"
     ]
    },
    {
     "name": "stderr",
     "output_type": "stream",
     "text": [
      "  0%|          | 0/391 [00:00<?, ?it/s]/home/charlie/.virtualenvs/yapwrap/lib/python3.7/site-packages/yapwrap/experiments/impbg_classification.py:37: UserWarning: To copy construct from a tensor, it is recommended to use sourceTensor.clone().detach() or sourceTensor.clone().detach().requires_grad_(True), rather than torch.tensor(sourceTensor).\n",
      "  _attn = torch.tensor(attn.detach(), requires_grad=False)\n",
      "Epoch 0 - train - Loss: 2.343: 100%|██████████| 391/391 [01:40<00:00,  4.38it/s]\n",
      "Epoch 1 - validation - Loss: 2.379: 100%|██████████| 100/100 [00:06<00:00, 16.40it/s]\n",
      "  0%|          | 0/391 [00:00<?, ?it/s]"
     ]
    },
    {
     "name": "stdout",
     "output_type": "stream",
     "text": [
      "======Saved Best Accuracy Checkpoint======\n"
     ]
    },
    {
     "name": "stderr",
     "output_type": "stream",
     "text": [
      "Epoch 1 - train - Loss: 2.012: 100%|██████████| 391/391 [01:41<00:00,  4.35it/s]\n",
      "Epoch 2 - validation - Loss: 2.033: 100%|██████████| 100/100 [00:06<00:00, 16.10it/s]\n",
      "  0%|          | 0/391 [00:00<?, ?it/s]"
     ]
    },
    {
     "name": "stdout",
     "output_type": "stream",
     "text": [
      "======Saved Best Accuracy Checkpoint======\n"
     ]
    },
    {
     "name": "stderr",
     "output_type": "stream",
     "text": [
      "Epoch 2 - train - Loss: 1.934: 100%|██████████| 391/391 [01:41<00:00,  4.24it/s]\n",
      "Epoch 3 - validation - Loss: 1.816: 100%|██████████| 100/100 [00:06<00:00, 16.59it/s]\n",
      "  0%|          | 0/391 [00:00<?, ?it/s]"
     ]
    },
    {
     "name": "stdout",
     "output_type": "stream",
     "text": [
      "======Saved Best Accuracy Checkpoint======\n"
     ]
    },
    {
     "name": "stderr",
     "output_type": "stream",
     "text": [
      "Epoch 3 - train - Loss: 1.390: 100%|██████████| 391/391 [01:40<00:00,  4.34it/s]\n",
      "Epoch 4 - validation - Loss: 1.709: 100%|██████████| 100/100 [00:05<00:00, 16.74it/s]\n",
      "  0%|          | 0/391 [00:00<?, ?it/s]"
     ]
    },
    {
     "name": "stdout",
     "output_type": "stream",
     "text": [
      "======Saved Best Accuracy Checkpoint======\n"
     ]
    },
    {
     "name": "stderr",
     "output_type": "stream",
     "text": [
      "Epoch 4 - train - Loss: 1.431: 100%|██████████| 391/391 [01:40<00:00,  4.38it/s]\n",
      "Epoch 5 - validation - Loss: 1.236: 100%|██████████| 100/100 [00:06<00:00, 16.51it/s]\n",
      "  0%|          | 0/391 [00:00<?, ?it/s]"
     ]
    },
    {
     "name": "stdout",
     "output_type": "stream",
     "text": [
      "======Saved Best Accuracy Checkpoint======\n"
     ]
    },
    {
     "name": "stderr",
     "output_type": "stream",
     "text": [
      "Epoch 5 - train - Loss: 1.101: 100%|██████████| 391/391 [01:40<00:00,  4.40it/s]\n",
      "Epoch 6 - validation - Loss: 1.394: 100%|██████████| 100/100 [00:06<00:00, 16.39it/s]\n",
      "  0%|          | 0/391 [00:00<?, ?it/s]"
     ]
    },
    {
     "name": "stdout",
     "output_type": "stream",
     "text": [
      "======Saved Best Accuracy Checkpoint======\n"
     ]
    },
    {
     "name": "stderr",
     "output_type": "stream",
     "text": [
      "Epoch 6 - train - Loss: 1.080: 100%|██████████| 391/391 [01:40<00:00,  4.40it/s]\n",
      "Epoch 7 - validation - Loss: 1.316: 100%|██████████| 100/100 [00:06<00:00, 16.47it/s]\n",
      "  0%|          | 0/391 [00:00<?, ?it/s]"
     ]
    },
    {
     "name": "stdout",
     "output_type": "stream",
     "text": [
      "======Saved Best Accuracy Checkpoint======\n"
     ]
    },
    {
     "name": "stderr",
     "output_type": "stream",
     "text": [
      "Epoch 7 - train - Loss: 0.950: 100%|██████████| 391/391 [01:40<00:00,  4.41it/s]\n",
      "Epoch 8 - validation - Loss: 1.160: 100%|██████████| 100/100 [00:05<00:00, 16.87it/s]\n",
      "  0%|          | 0/391 [00:00<?, ?it/s]"
     ]
    },
    {
     "name": "stdout",
     "output_type": "stream",
     "text": [
      "======Saved Best Accuracy Checkpoint======\n"
     ]
    },
    {
     "name": "stderr",
     "output_type": "stream",
     "text": [
      "Epoch 8 - train - Loss: 0.860: 100%|██████████| 391/391 [01:39<00:00,  4.41it/s]\n",
      "Epoch 9 - validation - Loss: 0.871: 100%|██████████| 100/100 [00:05<00:00, 16.91it/s]\n",
      "  0%|          | 0/391 [00:00<?, ?it/s]"
     ]
    },
    {
     "name": "stdout",
     "output_type": "stream",
     "text": [
      "======Saved Best Accuracy Checkpoint======\n"
     ]
    },
    {
     "name": "stderr",
     "output_type": "stream",
     "text": [
      "Epoch 9 - train - Loss: 0.882: 100%|██████████| 391/391 [01:39<00:00,  4.41it/s]\n",
      "Epoch 10 - validation - Loss: 1.012: 100%|██████████| 100/100 [00:05<00:00, 16.97it/s]\n",
      "Epoch 10 - train - Loss: 0.930: 100%|██████████| 391/391 [01:39<00:00,  4.42it/s]\n",
      "Epoch 11 - validation - Loss: 1.038: 100%|██████████| 100/100 [00:05<00:00, 16.98it/s]\n",
      "Epoch 11 - train - Loss: 0.996: 100%|██████████| 391/391 [01:39<00:00,  4.35it/s]\n",
      "Epoch 12 - validation - Loss: 0.710: 100%|██████████| 100/100 [00:05<00:00, 16.95it/s]\n",
      "  0%|          | 0/391 [00:00<?, ?it/s]"
     ]
    },
    {
     "name": "stdout",
     "output_type": "stream",
     "text": [
      "======Saved Best Accuracy Checkpoint======\n"
     ]
    },
    {
     "name": "stderr",
     "output_type": "stream",
     "text": [
      "Epoch 12 - train - Loss: 0.803: 100%|██████████| 391/391 [01:39<00:00,  4.42it/s]\n",
      "Epoch 13 - validation - Loss: 0.838: 100%|██████████| 100/100 [00:05<00:00, 16.92it/s]\n",
      "  0%|          | 0/391 [00:00<?, ?it/s]"
     ]
    },
    {
     "name": "stdout",
     "output_type": "stream",
     "text": [
      "======Saved Best Accuracy Checkpoint======\n"
     ]
    },
    {
     "name": "stderr",
     "output_type": "stream",
     "text": [
      "Epoch 13 - train - Loss: 0.864: 100%|██████████| 391/391 [01:39<00:00,  4.42it/s]\n",
      "Epoch 14 - validation - Loss: 0.834: 100%|██████████| 100/100 [00:06<00:00, 16.66it/s]\n",
      "Epoch 14 - train - Loss: 0.939: 100%|██████████| 391/391 [01:40<00:00,  4.22it/s]\n",
      "Epoch 15 - validation - Loss: 0.742: 100%|██████████| 100/100 [00:06<00:00, 16.64it/s]\n",
      "  0%|          | 0/391 [00:00<?, ?it/s]"
     ]
    },
    {
     "name": "stdout",
     "output_type": "stream",
     "text": [
      "======Saved Best Accuracy Checkpoint======\n"
     ]
    },
    {
     "name": "stderr",
     "output_type": "stream",
     "text": [
      "Epoch 15 - train - Loss: 0.740: 100%|██████████| 391/391 [01:40<00:00,  4.38it/s]\n",
      "Epoch 16 - validation - Loss: 0.754: 100%|██████████| 100/100 [00:06<00:00, 16.04it/s]\n",
      "  0%|          | 0/391 [00:00<?, ?it/s]"
     ]
    },
    {
     "name": "stdout",
     "output_type": "stream",
     "text": [
      "======Saved Best Accuracy Checkpoint======\n"
     ]
    },
    {
     "name": "stderr",
     "output_type": "stream",
     "text": [
      "Epoch 16 - train - Loss: 0.682: 100%|██████████| 391/391 [01:39<00:00,  4.42it/s]\n",
      "Epoch 17 - validation - Loss: 0.704: 100%|██████████| 100/100 [00:05<00:00, 16.77it/s]\n",
      "Epoch 17 - train - Loss: 0.745: 100%|██████████| 391/391 [01:40<00:00,  4.27it/s]\n",
      "Epoch 18 - validation - Loss: 0.933: 100%|██████████| 100/100 [00:06<00:00, 16.48it/s]\n",
      "  0%|          | 0/391 [00:00<?, ?it/s]"
     ]
    },
    {
     "name": "stdout",
     "output_type": "stream",
     "text": [
      "======Saved Best Accuracy Checkpoint======\n"
     ]
    },
    {
     "name": "stderr",
     "output_type": "stream",
     "text": [
      "Epoch 18 - train - Loss: 0.764: 100%|██████████| 391/391 [01:40<00:00,  4.38it/s]\n",
      "Epoch 19 - validation - Loss: 0.721: 100%|██████████| 100/100 [00:05<00:00, 16.92it/s]\n",
      "  0%|          | 0/391 [00:00<?, ?it/s]"
     ]
    },
    {
     "name": "stdout",
     "output_type": "stream",
     "text": [
      "======Saved Best Accuracy Checkpoint======\n"
     ]
    },
    {
     "name": "stderr",
     "output_type": "stream",
     "text": [
      "Epoch 19 - train - Loss: 0.585: 100%|██████████| 391/391 [01:40<00:00,  4.34it/s]\n",
      "Epoch 20 - validation - Loss: 0.795: 100%|██████████| 100/100 [00:06<00:00, 16.36it/s]\n",
      "Epoch 20 - train - Loss: 0.505: 100%|██████████| 391/391 [01:40<00:00,  4.42it/s]\n",
      "Epoch 21 - validation - Loss: 0.760: 100%|██████████| 100/100 [00:05<00:00, 16.84it/s]\n",
      "Epoch 21 - train - Loss: 0.775:  62%|██████▏   | 241/391 [01:03<00:38,  3.94it/s]"
     ]
    }
   ],
   "source": [
    "from yapwrap.experiments import ImpBGClassification\n",
    "from yapwrap.dataloaders import *\n",
    "from yapwrap.utils import *\n",
    "from yapwrap.models import *\n",
    "import torch\n",
    "import torch.nn as nn\n",
    "config = {\n",
    "    \"experiment_dir\":'.',\n",
    "    \"dataloader\":{\n",
    "        \"class\":CIFAR10,\n",
    "        \"params\":{}\n",
    "    },\n",
    "    \"model\":{\n",
    "        \"class\":TinyImpBG50,\n",
    "        \"params\":{}\n",
    "    },\n",
    "    \"lr_scheduler\":{\n",
    "        \"class\":torch.optim.lr_scheduler.CosineAnnealingLR,\n",
    "        \"params\":{\"T_max\":100}\n",
    "    },\n",
    "    \"criterion\":{\n",
    "        \"class\":nn.CrossEntropyLoss,\n",
    "        \"params\":{}\n",
    "    },\n",
    "    \"evaluator\":{\n",
    "        \"class\":ImageClassificationEvaluator,\n",
    "        \"params\":{}\n",
    "    },\n",
    "    \"saver\":{\n",
    "        \"class\":BestMetricSaver,\n",
    "        \"params\":{\"metric_set\":\"validation\",\n",
    "                  \"metric_name\":\"Accuracy\"}\n",
    "    },\n",
    "    \"cuda\":True,\n",
    "    }\n",
    "exp = ImpBGClassification(config)\n",
    "exp.train(100)\n",
    "\n"
   ]
  }
 ],
 "metadata": {
  "kernelspec": {
   "display_name": "Python 3",
   "language": "python",
   "name": "python3"
  },
  "language_info": {
   "codemirror_mode": {
    "name": "ipython",
    "version": 3
   },
   "file_extension": ".py",
   "mimetype": "text/x-python",
   "name": "python",
   "nbconvert_exporter": "python",
   "pygments_lexer": "ipython3",
   "version": "3.7.3"
  }
 },
 "nbformat": 4,
 "nbformat_minor": 2
}
